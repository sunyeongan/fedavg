{
 "cells": [
  {
   "cell_type": "code",
   "execution_count": 1,
   "id": "318aa7b4",
   "metadata": {},
   "outputs": [],
   "source": [
    "import numpy as np\n",
    "%matplotlib inline\n",
    "import matplotlib.pyplot as plt\n",
    "from PIL import Image"
   ]
  },
  {
   "cell_type": "code",
   "execution_count": 2,
   "id": "07ab35f0",
   "metadata": {},
   "outputs": [],
   "source": [
    "import gc\n",
    "import torch\n",
    "\n",
    "gc.collect()\n",
    "torch.cuda.empty_cache()"
   ]
  },
  {
   "cell_type": "code",
   "execution_count": 3,
   "id": "ed08fdf2",
   "metadata": {},
   "outputs": [
    {
     "data": {
      "text/plain": [
       "[<matplotlib.lines.Line2D at 0x227cdeb7dc0>]"
      ]
     },
     "execution_count": 3,
     "metadata": {},
     "output_type": "execute_result"
    },
    {
     "data": {
      "image/png": "[encoded data removed]",
      "text/plain": [
       "<Figure size 640x480 with 1 Axes>"
      ]
     },
     "metadata": {},
     "output_type": "display_data"
    }
   ],
   "source": [
    "plt.plot([1,2,3,4])"
   ]
  },
  {
   "cell_type": "code",
   "execution_count": 4,
   "id": "66b362b3",
   "metadata": {},
   "outputs": [],
   "source": [
    "import torch\n",
    "import torchvision\n",
    "from torchvision import datasets, models, transforms\n",
    "import torch.nn as nn\n",
    "from torch.nn import functional as F\n",
    "import torch.optim as optim\n",
    "from torch.autograd import Variable\n",
    "from torch.utils.data.sampler import SubsetRandomSampler"
   ]
  },
  {
   "cell_type": "code",
   "execution_count": 12,
   "id": "00388501",
   "metadata": {},
   "outputs": [
    {
     "data": {
      "text/plain": [
       "'D:\\\\asy10\\\\FL_project\\\\mnist\\\\Client\\\\cli1'"
      ]
     },
     "execution_count": 12,
     "metadata": {},
     "output_type": "execute_result"
    }
   ],
   "source": [
    "pwd"
   ]
  },
  {
   "cell_type": "code",
   "execution_count": 84,
   "id": "8012b373",
   "metadata": {},
   "outputs": [
    {
     "name": "stdout",
     "output_type": "stream",
     "text": [
      "연결 성공! \n",
      "D:\\asy10\\FL_project\\mnist\\Client\\cli1\\model_file_cli1\\global-update-2-mnist.pt\n",
      "파일 global-update-2-mnist.pt 받기 완료 : 전송량 5912669 \n"
     ]
    }
   ],
   "source": [
    "# 클라이언트와의 접속 확인 \n",
    "# 서버로부터 클로벌 모델 파일 명 recv \n",
    "# 서버로부터  모델 파일 recv\n",
    "from socket import *\n",
    "from os.path import exists\n",
    "import sys\n",
    "import os \n",
    "\n",
    "    \n",
    "\n",
    "    \n",
    "clientSock1 = socket(AF_INET, SOCK_STREAM)\n",
    "clientSock1.connect(('127.0.0.1', 2266))\n",
    "\n",
    "print('연결 성공! ')\n",
    "#filename = '/server-global-eff-model.pth'\n",
    "filename = 'global-update-2-mnist.pt'\n",
    "clientSock1.sendall(filename.encode())\n",
    "\n",
    "data = clientSock1.recv(4096)\n",
    "data_transferred = 0\n",
    "\n",
    "if not data:\n",
    "    print('파일 %s가 서버에 존재 하지 않음' %filename)\n",
    "    sys.exit()\n",
    "\n",
    "save_dir = os.path.join('D:\\\\asy10\\\\FL_project\\\\mnist\\\\Client\\\\cli1\\\\model_file_cli1', filename)\n",
    "\n",
    "print(save_dir)\n",
    "\n",
    "with open(save_dir, 'wb') as f:\n",
    "    try :\n",
    "        while data:\n",
    "            f.write(data)\n",
    "            data_transferred += len(data)\n",
    "            data = clientSock1.recv(4096)\n",
    "\n",
    "\n",
    "    except Exception as ex:\n",
    "        print(ex)\n",
    "print(\"파일 %s 받기 완료 : 전송량 %d \" %(filename, data_transferred))\n",
    "clientSock1.close()\n",
    "    \n",
    "    "
   ]
  },
  {
   "cell_type": "code",
   "execution_count": 85,
   "id": "83971c62",
   "metadata": {},
   "outputs": [],
   "source": [
    "\n",
    "batch_size = 64\n",
    "learning_rate = 0.01\n",
    "num_epochs = 30"
   ]
  },
  {
   "cell_type": "code",
   "execution_count": 86,
   "id": "a15b842b",
   "metadata": {},
   "outputs": [],
   "source": [
    "# Define a transform to normalize the data\n",
    "transform = transforms.Compose([transforms.ToTensor(),\n",
    "                                transforms.Normalize((0.5,), (0.5,))])\n",
    "# Download and load the training data\n",
    "train_data = datasets.MNIST('MNIST_data/', download=True, train=True, transform=transform)\n",
    "train_loader = torch.utils.data.DataLoader(train_data, batch_size=64, shuffle=True)\n",
    "\n",
    "# Download and load the test data\n",
    "test_data = datasets.MNIST('MNIST_data/', download=True, train=False, transform=transform)\n",
    "test_loader = torch.utils.data.DataLoader(test_data, batch_size=64, shuffle=True)"
   ]
  },
  {
   "cell_type": "code",
   "execution_count": 87,
   "id": "66821c8d",
   "metadata": {},
   "outputs": [
    {
     "data": {
      "text/plain": [
       "30000"
      ]
     },
     "execution_count": 87,
     "metadata": {},
     "output_type": "execute_result"
    }
   ],
   "source": [
    "len(train_data)//2"
   ]
  },
  {
   "cell_type": "code",
   "execution_count": 88,
   "id": "11dea843",
   "metadata": {},
   "outputs": [
    {
     "data": {
      "text/plain": [
       "60000"
      ]
     },
     "execution_count": 88,
     "metadata": {},
     "output_type": "execute_result"
    }
   ],
   "source": [
    "len(train_data)"
   ]
  },
  {
   "cell_type": "code",
   "execution_count": 89,
   "id": "7a9abefa",
   "metadata": {},
   "outputs": [
    {
     "data": {
      "text/plain": [
       "10000"
      ]
     },
     "execution_count": 89,
     "metadata": {},
     "output_type": "execute_result"
    }
   ],
   "source": [
    "len(test_data)"
   ]
  },
  {
   "cell_type": "code",
   "execution_count": 90,
   "id": "4fde5963",
   "metadata": {},
   "outputs": [],
   "source": [
    "#valid_size = 0.2\n",
    "#test_size = 0.1\n",
    "#num_train = len(train_data)//2 # 50000만개의 데이터셋을 나눔 \n",
    "\n",
    "#indices = list(range(num_train)) # 0 ~ 24999\n",
    "\n",
    "#np.random.shuffle(indices) \n"
   ]
  },
  {
   "cell_type": "markdown",
   "id": "9ec6cfea",
   "metadata": {},
   "source": [
    "### 전체 train data 6만개 "
   ]
  },
  {
   "cell_type": "code",
   "execution_count": 91,
   "id": "a5816632",
   "metadata": {},
   "outputs": [
    {
     "name": "stdout",
     "output_type": "stream",
     "text": [
      "6000\n",
      "24000 6000\n"
     ]
    }
   ],
   "source": [
    "import random\n",
    "\n",
    "valid_size = 0.2\n",
    "test_size = 0.1\n",
    "num_train = len(train_data) # 50000개 중에서 25000개 랜덤 추출 \n",
    "\n",
    "indices = list(range(num_train)) # 0 ~ 24999\n",
    "sample_indices = random.sample(indices, num_train//2) # 50000개 중에서 25000개 랜덤 추출 \n",
    "len(sample_indices)\n",
    "\n",
    "split = int(np.floor(valid_size * (num_train//2))) # 0.2 * 10000\n",
    "print(split)\n",
    "train_idx, valid_idx = sample_indices[split:], sample_indices[:split] # train 20000, valid 5000 개씩 indices 리스트에서 랜덤한 인덱스 가져오기 \n",
    "print(len(train_idx), len(valid_idx))"
   ]
  },
  {
   "cell_type": "code",
   "execution_count": 92,
   "id": "3704beda",
   "metadata": {},
   "outputs": [],
   "source": [
    "train_sampler = SubsetRandomSampler(train_idx)\n",
    "valid_sampler = SubsetRandomSampler(valid_idx)\n",
    "\n",
    "\n",
    "train_loader = torch.utils.data.DataLoader(train_data, batch_size=64,\n",
    "    sampler=train_sampler)\n",
    "valid_loader = torch.utils.data.DataLoader(train_data, batch_size=64, \n",
    "    sampler=valid_sampler)\n",
    "test_loader = torch.utils.data.DataLoader(test_data, batch_size=64)"
   ]
  },
  {
   "cell_type": "code",
   "execution_count": 93,
   "id": "899287bb",
   "metadata": {},
   "outputs": [
    {
     "data": {
      "image/png": "[encoded data removed]",
      "text/plain": [
       "<Figure size 640x480 with 1 Axes>"
      ]
     },
     "metadata": {},
     "output_type": "display_data"
    }
   ],
   "source": [
    "image, label = train_data[2]\n",
    "plt.imshow(image.squeeze().numpy(), cmap='gray')\n",
    "plt.title('label : %s' % label)\n",
    "plt.show()"
   ]
  },
  {
   "cell_type": "code",
   "execution_count": 94,
   "id": "1650bb6a",
   "metadata": {},
   "outputs": [
    {
     "name": "stdout",
     "output_type": "stream",
     "text": [
      "name            | type                      | size\n",
      "Num of Batch    |                           | 375\n",
      "first_batch     | <class 'list'>            | 2\n",
      "first_batch[0]  | <class 'torch.Tensor'>    | torch.Size([64, 1, 28, 28])\n",
      "first_batch[1]  | <class 'torch.Tensor'>    | torch.Size([64])\n"
     ]
    }
   ],
   "source": [
    "first_batch = train_loader.__iter__().__next__()\n",
    "print('{:15s} | {:<25s} | {}'.format('name', 'type', 'size'))\n",
    "print('{:15s} | {:<25s} | {}'.format('Num of Batch', '', len(train_loader)))\n",
    "print('{:15s} | {:<25s} | {}'.format('first_batch', str(type(first_batch)), len(first_batch)))\n",
    "print('{:15s} | {:<25s} | {}'.format('first_batch[0]', str(type(first_batch[0])), first_batch[0].shape))\n",
    "print('{:15s} | {:<25s} | {}'.format('first_batch[1]', str(type(first_batch[1])), first_batch[1].shape))"
   ]
  },
  {
   "cell_type": "code",
   "execution_count": 95,
   "id": "f5ac3472",
   "metadata": {},
   "outputs": [
    {
     "name": "stdout",
     "output_type": "stream",
     "text": [
      "working on gpu\n"
     ]
    }
   ],
   "source": [
    "if torch.cuda.is_available():\n",
    "    device = torch.device(\"cuda\")\n",
    "    print(\"working on gpu\")\n",
    "else:\n",
    "    device = torch.device(\"cpu\")\n",
    "    print(\"working on cpu\")"
   ]
  },
  {
   "cell_type": "code",
   "execution_count": 96,
   "id": "8dd84f8e",
   "metadata": {},
   "outputs": [
    {
     "data": {
      "text/plain": [
       "device(type='cuda')"
      ]
     },
     "execution_count": 96,
     "metadata": {},
     "output_type": "execute_result"
    }
   ],
   "source": [
    "device"
   ]
  },
  {
   "cell_type": "code",
   "execution_count": 97,
   "id": "9af07c15",
   "metadata": {},
   "outputs": [],
   "source": [
    "classes= [0,1,2,3,4,5,6,7,8,9]"
   ]
  },
  {
   "cell_type": "markdown",
   "id": "cdf45c97",
   "metadata": {},
   "source": [
    "### 서버로 부터 받은 글로벌 모델 파일 로드하기"
   ]
  },
  {
   "cell_type": "code",
   "execution_count": 98,
   "id": "8197f1cb",
   "metadata": {},
   "outputs": [
    {
     "data": {
      "text/plain": [
       "'D:\\\\asy10\\\\FL_project\\\\mnist\\\\Client\\\\cli1'"
      ]
     },
     "execution_count": 98,
     "metadata": {},
     "output_type": "execute_result"
    }
   ],
   "source": [
    "pwd"
   ]
  },
  {
   "cell_type": "code",
   "execution_count": 100,
   "id": "ba15f414",
   "metadata": {},
   "outputs": [],
   "source": [
    "class Classifier(nn.Module):\n",
    "    def __init__(self):\n",
    "        super(Classifier, self).__init__()\n",
    "        \n",
    "        self.layer1 = nn.Sequential(\n",
    "            nn.Conv2d(in_channels=1, out_channels=32, kernel_size=3, padding=1),\n",
    "            nn.BatchNorm2d(32),\n",
    "            nn.ReLU(),\n",
    "            nn.MaxPool2d(kernel_size=2, stride=2)\n",
    "        )\n",
    "        \n",
    "        self.layer2 = nn.Sequential(\n",
    "            nn.Conv2d(in_channels=32, out_channels=64, kernel_size=3),\n",
    "            nn.BatchNorm2d(64),\n",
    "            nn.ReLU(),\n",
    "            nn.MaxPool2d(2)\n",
    "        )\n",
    "        \n",
    "        self.fc1 = nn.Linear(in_features=64*6*6, out_features=600)\n",
    "        self.drop = nn.Dropout2d(0.25)\n",
    "        self.fc2 = nn.Linear(in_features=600, out_features=120)\n",
    "        self.fc3 = nn.Linear(in_features=120, out_features=10)\n",
    "        \n",
    "    def forward(self, x):\n",
    "        out = self.layer1(x)\n",
    "        out = self.layer2(out)\n",
    "        out = out.view(out.size(0), -1)\n",
    "        out = self.drop(self.fc1(out))\n",
    "        out = self.fc2(out)\n",
    "        out = self.fc3(out)\n",
    "        \n",
    "        return out\n",
    "    \n",
    "def weights_init(m):\n",
    "    if isinstance(m, nn.Linear):\n",
    "        nn.init.xavier_normal_(m.weight) \n",
    "\n",
    "\n",
    "model = torch.load('./model_file_cli1/global-update-2-mnist.pt')"
   ]
  },
  {
   "cell_type": "code",
   "execution_count": 101,
   "id": "ec695273",
   "metadata": {},
   "outputs": [
    {
     "data": {
      "text/plain": [
       "Classifier(\n",
       "  (layer1): Sequential(\n",
       "    (0): Conv2d(1, 32, kernel_size=(3, 3), stride=(1, 1), padding=(1, 1))\n",
       "    (1): BatchNorm2d(32, eps=1e-05, momentum=0.1, affine=True, track_running_stats=True)\n",
       "    (2): ReLU()\n",
       "    (3): MaxPool2d(kernel_size=2, stride=2, padding=0, dilation=1, ceil_mode=False)\n",
       "  )\n",
       "  (layer2): Sequential(\n",
       "    (0): Conv2d(32, 64, kernel_size=(3, 3), stride=(1, 1))\n",
       "    (1): BatchNorm2d(64, eps=1e-05, momentum=0.1, affine=True, track_running_stats=True)\n",
       "    (2): ReLU()\n",
       "    (3): MaxPool2d(kernel_size=2, stride=2, padding=0, dilation=1, ceil_mode=False)\n",
       "  )\n",
       "  (fc1): Linear(in_features=2304, out_features=600, bias=True)\n",
       "  (drop): Dropout2d(p=0.25, inplace=False)\n",
       "  (fc2): Linear(in_features=600, out_features=120, bias=True)\n",
       "  (fc3): Linear(in_features=120, out_features=10, bias=True)\n",
       ")"
      ]
     },
     "execution_count": 101,
     "metadata": {},
     "output_type": "execute_result"
    }
   ],
   "source": [
    "model.to(device)"
   ]
  },
  {
   "cell_type": "code",
   "execution_count": 102,
   "id": "8ff69e05",
   "metadata": {},
   "outputs": [],
   "source": [
    "criterion = nn.CrossEntropyLoss()\n",
    "optimizer = optim.SGD(model.parameters(), lr=0.001, momentum=0.9, weight_decay=5e-4)\n",
    "scheduler = torch.optim.lr_scheduler.StepLR(optimizer, step_size=10, gamma=0.1)"
   ]
  },
  {
   "cell_type": "code",
   "execution_count": 103,
   "id": "9317162b",
   "metadata": {},
   "outputs": [],
   "source": [
    "from tqdm import tqdm"
   ]
  },
  {
   "cell_type": "code",
   "execution_count": 104,
   "id": "424fea9b",
   "metadata": {},
   "outputs": [
    {
     "name": "stderr",
     "output_type": "stream",
     "text": [
      "100%|████████████████████████████████████████████████████████████████████████████████| 375/375 [00:07<00:00, 50.33it/s]\n",
      "100%|██████████████████████████████████████████████████████████████████████████████████| 94/94 [00:01<00:00, 60.26it/s]\n"
     ]
    },
    {
     "name": "stdout",
     "output_type": "stream",
     "text": [
      "Epoch: 0 \tTraining Loss: 0.011189 \tValidation Loss: 0.011004\n",
      "Epoch: 0 \tTraining accuracy: 0.997583 \tValidation accuracy: 0.997451\n",
      "Validation loss decreased (inf --> 0.011004).  Saving model ...\n"
     ]
    },
    {
     "name": "stderr",
     "output_type": "stream",
     "text": [
      "100%|████████████████████████████████████████████████████████████████████████████████| 375/375 [00:07<00:00, 51.61it/s]\n",
      "100%|██████████████████████████████████████████████████████████████████████████████████| 94/94 [00:01<00:00, 69.78it/s]\n"
     ]
    },
    {
     "name": "stdout",
     "output_type": "stream",
     "text": [
      "Epoch: 1 \tTraining Loss: 0.010452 \tValidation Loss: 0.010756\n",
      "Epoch: 1 \tTraining accuracy: 0.997875 \tValidation accuracy: 0.997673\n",
      "Validation loss decreased (0.011004 --> 0.010756).  Saving model ...\n"
     ]
    },
    {
     "name": "stderr",
     "output_type": "stream",
     "text": [
      "100%|████████████████████████████████████████████████████████████████████████████████| 375/375 [00:07<00:00, 50.80it/s]\n",
      "100%|██████████████████████████████████████████████████████████████████████████████████| 94/94 [00:01<00:00, 66.42it/s]\n"
     ]
    },
    {
     "name": "stdout",
     "output_type": "stream",
     "text": [
      "Epoch: 2 \tTraining Loss: 0.009629 \tValidation Loss: 0.010631\n",
      "Epoch: 2 \tTraining accuracy: 0.997917 \tValidation accuracy: 0.997839\n",
      "Validation loss decreased (0.010756 --> 0.010631).  Saving model ...\n"
     ]
    },
    {
     "name": "stderr",
     "output_type": "stream",
     "text": [
      "100%|████████████████████████████████████████████████████████████████████████████████| 375/375 [00:07<00:00, 50.75it/s]\n",
      "100%|██████████████████████████████████████████████████████████████████████████████████| 94/94 [00:01<00:00, 65.44it/s]\n"
     ]
    },
    {
     "name": "stdout",
     "output_type": "stream",
     "text": [
      "Epoch: 3 \tTraining Loss: 0.008930 \tValidation Loss: 0.011144\n",
      "Epoch: 3 \tTraining accuracy: 0.998292 \tValidation accuracy: 0.997340\n"
     ]
    },
    {
     "name": "stderr",
     "output_type": "stream",
     "text": [
      "100%|████████████████████████████████████████████████████████████████████████████████| 375/375 [00:07<00:00, 51.57it/s]\n",
      "100%|██████████████████████████████████████████████████████████████████████████████████| 94/94 [00:01<00:00, 60.37it/s]\n"
     ]
    },
    {
     "name": "stdout",
     "output_type": "stream",
     "text": [
      "Epoch: 4 \tTraining Loss: 0.008723 \tValidation Loss: 0.011094\n",
      "Epoch: 4 \tTraining accuracy: 0.998375 \tValidation accuracy: 0.997673\n"
     ]
    },
    {
     "name": "stderr",
     "output_type": "stream",
     "text": [
      "100%|████████████████████████████████████████████████████████████████████████████████| 375/375 [00:06<00:00, 58.30it/s]\n",
      "100%|██████████████████████████████████████████████████████████████████████████████████| 94/94 [00:01<00:00, 78.27it/s]\n"
     ]
    },
    {
     "name": "stdout",
     "output_type": "stream",
     "text": [
      "Epoch: 5 \tTraining Loss: 0.008489 \tValidation Loss: 0.011273\n",
      "Epoch: 5 \tTraining accuracy: 0.998375 \tValidation accuracy: 0.997507\n"
     ]
    },
    {
     "name": "stderr",
     "output_type": "stream",
     "text": [
      "100%|████████████████████████████████████████████████████████████████████████████████| 375/375 [00:06<00:00, 62.48it/s]\n",
      "100%|██████████████████████████████████████████████████████████████████████████████████| 94/94 [00:01<00:00, 72.70it/s]\n"
     ]
    },
    {
     "name": "stdout",
     "output_type": "stream",
     "text": [
      "Epoch: 6 \tTraining Loss: 0.007797 \tValidation Loss: 0.011443\n",
      "Epoch: 6 \tTraining accuracy: 0.998500 \tValidation accuracy: 0.997340\n"
     ]
    },
    {
     "name": "stderr",
     "output_type": "stream",
     "text": [
      "100%|████████████████████████████████████████████████████████████████████████████████| 375/375 [00:06<00:00, 62.38it/s]\n",
      "100%|██████████████████████████████████████████████████████████████████████████████████| 94/94 [00:01<00:00, 72.98it/s]\n"
     ]
    },
    {
     "name": "stdout",
     "output_type": "stream",
     "text": [
      "Epoch: 7 \tTraining Loss: 0.007593 \tValidation Loss: 0.011220\n",
      "Epoch: 7 \tTraining accuracy: 0.998583 \tValidation accuracy: 0.997507\n"
     ]
    },
    {
     "name": "stderr",
     "output_type": "stream",
     "text": [
      "100%|████████████████████████████████████████████████████████████████████████████████| 375/375 [00:06<00:00, 60.68it/s]\n",
      "100%|██████████████████████████████████████████████████████████████████████████████████| 94/94 [00:01<00:00, 69.07it/s]\n"
     ]
    },
    {
     "name": "stdout",
     "output_type": "stream",
     "text": [
      "Epoch: 8 \tTraining Loss: 0.007490 \tValidation Loss: 0.011408\n",
      "Epoch: 8 \tTraining accuracy: 0.998583 \tValidation accuracy: 0.997119\n"
     ]
    },
    {
     "name": "stderr",
     "output_type": "stream",
     "text": [
      "100%|████████████████████████████████████████████████████████████████████████████████| 375/375 [00:06<00:00, 62.11it/s]\n",
      "100%|██████████████████████████████████████████████████████████████████████████████████| 94/94 [00:01<00:00, 70.15it/s]\n"
     ]
    },
    {
     "name": "stdout",
     "output_type": "stream",
     "text": [
      "Epoch: 9 \tTraining Loss: 0.007264 \tValidation Loss: 0.011405\n",
      "Epoch: 9 \tTraining accuracy: 0.998833 \tValidation accuracy: 0.997340\n"
     ]
    },
    {
     "name": "stderr",
     "output_type": "stream",
     "text": [
      "100%|████████████████████████████████████████████████████████████████████████████████| 375/375 [00:06<00:00, 62.36it/s]\n",
      "100%|██████████████████████████████████████████████████████████████████████████████████| 94/94 [00:01<00:00, 72.14it/s]\n"
     ]
    },
    {
     "name": "stdout",
     "output_type": "stream",
     "text": [
      "Epoch: 10 \tTraining Loss: 0.006982 \tValidation Loss: 0.011510\n",
      "Epoch: 10 \tTraining accuracy: 0.999042 \tValidation accuracy: 0.997174\n"
     ]
    },
    {
     "name": "stderr",
     "output_type": "stream",
     "text": [
      "100%|████████████████████████████████████████████████████████████████████████████████| 375/375 [00:06<00:00, 60.20it/s]\n",
      "100%|██████████████████████████████████████████████████████████████████████████████████| 94/94 [00:01<00:00, 67.02it/s]\n"
     ]
    },
    {
     "name": "stdout",
     "output_type": "stream",
     "text": [
      "Epoch: 11 \tTraining Loss: 0.006753 \tValidation Loss: 0.011380\n",
      "Epoch: 11 \tTraining accuracy: 0.998917 \tValidation accuracy: 0.997340\n"
     ]
    },
    {
     "name": "stderr",
     "output_type": "stream",
     "text": [
      "100%|████████████████████████████████████████████████████████████████████████████████| 375/375 [00:05<00:00, 63.31it/s]\n",
      "100%|██████████████████████████████████████████████████████████████████████████████████| 94/94 [00:01<00:00, 68.66it/s]\n"
     ]
    },
    {
     "name": "stdout",
     "output_type": "stream",
     "text": [
      "Epoch: 12 \tTraining Loss: 0.006808 \tValidation Loss: 0.011424\n",
      "Epoch: 12 \tTraining accuracy: 0.998792 \tValidation accuracy: 0.997507\n"
     ]
    },
    {
     "name": "stderr",
     "output_type": "stream",
     "text": [
      "100%|████████████████████████████████████████████████████████████████████████████████| 375/375 [00:06<00:00, 62.04it/s]\n",
      "100%|██████████████████████████████████████████████████████████████████████████████████| 94/94 [00:01<00:00, 69.76it/s]\n"
     ]
    },
    {
     "name": "stdout",
     "output_type": "stream",
     "text": [
      "Epoch: 13 \tTraining Loss: 0.006654 \tValidation Loss: 0.011396\n",
      "Epoch: 13 \tTraining accuracy: 0.998958 \tValidation accuracy: 0.997174\n"
     ]
    },
    {
     "name": "stderr",
     "output_type": "stream",
     "text": [
      "100%|████████████████████████████████████████████████████████████████████████████████| 375/375 [00:05<00:00, 62.58it/s]\n",
      "100%|██████████████████████████████████████████████████████████████████████████████████| 94/94 [00:01<00:00, 66.94it/s]\n"
     ]
    },
    {
     "name": "stdout",
     "output_type": "stream",
     "text": [
      "Epoch: 14 \tTraining Loss: 0.006634 \tValidation Loss: 0.011576\n",
      "Epoch: 14 \tTraining accuracy: 0.998875 \tValidation accuracy: 0.997174\n"
     ]
    },
    {
     "name": "stderr",
     "output_type": "stream",
     "text": [
      "100%|████████████████████████████████████████████████████████████████████████████████| 375/375 [00:05<00:00, 63.17it/s]\n",
      "100%|██████████████████████████████████████████████████████████████████████████████████| 94/94 [00:01<00:00, 71.87it/s]\n"
     ]
    },
    {
     "name": "stdout",
     "output_type": "stream",
     "text": [
      "Epoch: 15 \tTraining Loss: 0.006707 \tValidation Loss: 0.011465\n",
      "Epoch: 15 \tTraining accuracy: 0.999000 \tValidation accuracy: 0.997174\n"
     ]
    },
    {
     "name": "stderr",
     "output_type": "stream",
     "text": [
      "100%|████████████████████████████████████████████████████████████████████████████████| 375/375 [00:06<00:00, 61.08it/s]\n",
      "100%|██████████████████████████████████████████████████████████████████████████████████| 94/94 [00:01<00:00, 66.66it/s]\n"
     ]
    },
    {
     "name": "stdout",
     "output_type": "stream",
     "text": [
      "Epoch: 16 \tTraining Loss: 0.006595 \tValidation Loss: 0.011511\n",
      "Epoch: 16 \tTraining accuracy: 0.999083 \tValidation accuracy: 0.997340\n"
     ]
    },
    {
     "name": "stderr",
     "output_type": "stream",
     "text": [
      "100%|████████████████████████████████████████████████████████████████████████████████| 375/375 [00:06<00:00, 62.05it/s]\n",
      "100%|██████████████████████████████████████████████████████████████████████████████████| 94/94 [00:01<00:00, 71.00it/s]\n"
     ]
    },
    {
     "name": "stdout",
     "output_type": "stream",
     "text": [
      "Epoch: 17 \tTraining Loss: 0.006378 \tValidation Loss: 0.011510\n",
      "Epoch: 17 \tTraining accuracy: 0.999000 \tValidation accuracy: 0.997174\n"
     ]
    },
    {
     "name": "stderr",
     "output_type": "stream",
     "text": [
      "100%|████████████████████████████████████████████████████████████████████████████████| 375/375 [00:06<00:00, 61.32it/s]\n",
      "100%|██████████████████████████████████████████████████████████████████████████████████| 94/94 [00:01<00:00, 64.56it/s]\n"
     ]
    },
    {
     "name": "stdout",
     "output_type": "stream",
     "text": [
      "Epoch: 18 \tTraining Loss: 0.006726 \tValidation Loss: 0.012184\n",
      "Epoch: 18 \tTraining accuracy: 0.998750 \tValidation accuracy: 0.996842\n"
     ]
    },
    {
     "name": "stderr",
     "output_type": "stream",
     "text": [
      "100%|████████████████████████████████████████████████████████████████████████████████| 375/375 [00:05<00:00, 63.80it/s]\n",
      "100%|██████████████████████████████████████████████████████████████████████████████████| 94/94 [00:01<00:00, 69.63it/s]\n"
     ]
    },
    {
     "name": "stdout",
     "output_type": "stream",
     "text": [
      "Epoch: 19 \tTraining Loss: 0.006864 \tValidation Loss: 0.011431\n",
      "Epoch: 19 \tTraining accuracy: 0.998958 \tValidation accuracy: 0.997174\n"
     ]
    },
    {
     "name": "stderr",
     "output_type": "stream",
     "text": [
      "100%|████████████████████████████████████████████████████████████████████████████████| 375/375 [00:05<00:00, 63.27it/s]\n",
      "100%|██████████████████████████████████████████████████████████████████████████████████| 94/94 [00:01<00:00, 66.81it/s]\n"
     ]
    },
    {
     "name": "stdout",
     "output_type": "stream",
     "text": [
      "Epoch: 20 \tTraining Loss: 0.006344 \tValidation Loss: 0.011514\n",
      "Epoch: 20 \tTraining accuracy: 0.998958 \tValidation accuracy: 0.997174\n"
     ]
    },
    {
     "name": "stderr",
     "output_type": "stream",
     "text": [
      "100%|████████████████████████████████████████████████████████████████████████████████| 375/375 [00:06<00:00, 62.18it/s]\n",
      "100%|██████████████████████████████████████████████████████████████████████████████████| 94/94 [00:01<00:00, 68.02it/s]\n"
     ]
    },
    {
     "name": "stdout",
     "output_type": "stream",
     "text": [
      "Epoch: 21 \tTraining Loss: 0.006497 \tValidation Loss: 0.011547\n",
      "Epoch: 21 \tTraining accuracy: 0.999042 \tValidation accuracy: 0.997174\n"
     ]
    },
    {
     "name": "stderr",
     "output_type": "stream",
     "text": [
      "100%|████████████████████████████████████████████████████████████████████████████████| 375/375 [00:05<00:00, 62.74it/s]\n",
      "100%|██████████████████████████████████████████████████████████████████████████████████| 94/94 [00:01<00:00, 63.94it/s]\n"
     ]
    },
    {
     "name": "stdout",
     "output_type": "stream",
     "text": [
      "Epoch: 22 \tTraining Loss: 0.006398 \tValidation Loss: 0.011433\n",
      "Epoch: 22 \tTraining accuracy: 0.999042 \tValidation accuracy: 0.997340\n"
     ]
    },
    {
     "name": "stderr",
     "output_type": "stream",
     "text": [
      "100%|████████████████████████████████████████████████████████████████████████████████| 375/375 [00:05<00:00, 63.48it/s]\n",
      "100%|██████████████████████████████████████████████████████████████████████████████████| 94/94 [00:01<00:00, 71.54it/s]\n"
     ]
    },
    {
     "name": "stdout",
     "output_type": "stream",
     "text": [
      "Epoch: 23 \tTraining Loss: 0.006441 \tValidation Loss: 0.011514\n",
      "Epoch: 23 \tTraining accuracy: 0.999042 \tValidation accuracy: 0.997174\n"
     ]
    },
    {
     "name": "stderr",
     "output_type": "stream",
     "text": [
      "100%|████████████████████████████████████████████████████████████████████████████████| 375/375 [00:06<00:00, 58.74it/s]\n",
      "100%|██████████████████████████████████████████████████████████████████████████████████| 94/94 [00:01<00:00, 64.61it/s]\n"
     ]
    },
    {
     "name": "stdout",
     "output_type": "stream",
     "text": [
      "Epoch: 24 \tTraining Loss: 0.006320 \tValidation Loss: 0.011691\n",
      "Epoch: 24 \tTraining accuracy: 0.999208 \tValidation accuracy: 0.997119\n"
     ]
    },
    {
     "name": "stderr",
     "output_type": "stream",
     "text": [
      "100%|████████████████████████████████████████████████████████████████████████████████| 375/375 [00:06<00:00, 62.45it/s]\n",
      "100%|██████████████████████████████████████████████████████████████████████████████████| 94/94 [00:01<00:00, 75.26it/s]\n"
     ]
    },
    {
     "name": "stdout",
     "output_type": "stream",
     "text": [
      "Epoch: 25 \tTraining Loss: 0.006443 \tValidation Loss: 0.011627\n",
      "Epoch: 25 \tTraining accuracy: 0.999125 \tValidation accuracy: 0.997174\n"
     ]
    },
    {
     "name": "stderr",
     "output_type": "stream",
     "text": [
      "100%|████████████████████████████████████████████████████████████████████████████████| 375/375 [00:06<00:00, 59.04it/s]\n",
      "100%|██████████████████████████████████████████████████████████████████████████████████| 94/94 [00:01<00:00, 66.34it/s]\n"
     ]
    },
    {
     "name": "stdout",
     "output_type": "stream",
     "text": [
      "Epoch: 26 \tTraining Loss: 0.006480 \tValidation Loss: 0.011528\n",
      "Epoch: 26 \tTraining accuracy: 0.999042 \tValidation accuracy: 0.997174\n"
     ]
    },
    {
     "name": "stderr",
     "output_type": "stream",
     "text": [
      "100%|████████████████████████████████████████████████████████████████████████████████| 375/375 [00:06<00:00, 61.76it/s]\n",
      "100%|██████████████████████████████████████████████████████████████████████████████████| 94/94 [00:01<00:00, 68.07it/s]\n"
     ]
    },
    {
     "name": "stdout",
     "output_type": "stream",
     "text": [
      "Epoch: 27 \tTraining Loss: 0.006223 \tValidation Loss: 0.011516\n",
      "Epoch: 27 \tTraining accuracy: 0.999167 \tValidation accuracy: 0.997174\n"
     ]
    },
    {
     "name": "stderr",
     "output_type": "stream",
     "text": [
      "100%|████████████████████████████████████████████████████████████████████████████████| 375/375 [00:06<00:00, 61.93it/s]\n",
      "100%|██████████████████████████████████████████████████████████████████████████████████| 94/94 [00:01<00:00, 71.43it/s]\n"
     ]
    },
    {
     "name": "stdout",
     "output_type": "stream",
     "text": [
      "Epoch: 28 \tTraining Loss: 0.006227 \tValidation Loss: 0.011508\n",
      "Epoch: 28 \tTraining accuracy: 0.999125 \tValidation accuracy: 0.996953\n"
     ]
    },
    {
     "name": "stderr",
     "output_type": "stream",
     "text": [
      "100%|████████████████████████████████████████████████████████████████████████████████| 375/375 [00:05<00:00, 63.61it/s]\n",
      "100%|██████████████████████████████████████████████████████████████████████████████████| 94/94 [00:01<00:00, 74.60it/s]"
     ]
    },
    {
     "name": "stdout",
     "output_type": "stream",
     "text": [
      "Epoch: 29 \tTraining Loss: 0.006664 \tValidation Loss: 0.011594\n",
      "Epoch: 29 \tTraining accuracy: 0.999083 \tValidation accuracy: 0.997285\n"
     ]
    },
    {
     "name": "stderr",
     "output_type": "stream",
     "text": [
      "\n"
     ]
    }
   ],
   "source": [
    "# number of epochs to train the model\n",
    "n_epochs = 30\n",
    "\n",
    "valid_loss_min = np.Inf # track change in validation loss\n",
    "\n",
    "# keep track of training and validation loss\n",
    "train_loss = torch.zeros(n_epochs)\n",
    "valid_loss = torch.zeros(n_epochs)\n",
    "\n",
    "train_acc = torch.zeros(n_epochs)\n",
    "valid_acc = torch.zeros(n_epochs)\n",
    "\n",
    "for e in range(0, n_epochs):\n",
    "   \n",
    "    ###################\n",
    "    # train the model #\n",
    "    ###################\n",
    "    model.train()\n",
    "    gc.collect()\n",
    "    torch.cuda.empty_cache()\n",
    "    for data, labels in tqdm(train_loader):\n",
    "        # move tensors to GPU if CUDA is available\n",
    "        data, labels = data.to(device), labels.to(device)\n",
    "        \n",
    "        # clear the gradients of all optimized variables\n",
    "        \n",
    "        optimizer.zero_grad()\n",
    "        # forward pass: compute predicted outputs by passing inputs to the model\n",
    "        logits = model(data)\n",
    "        \n",
    "        # calculate the batch loss\n",
    "        loss = criterion(logits, labels)\n",
    "        # backward pass: compute gradient of the loss with respect to model parameters\n",
    "        loss.backward()\n",
    "        # perform a single optimization step (parameter update)\n",
    "        optimizer.step()\n",
    "        # update training loss\n",
    "        train_loss[e] += loss.item()\n",
    "        \n",
    "        ps = F.softmax(logits, dim=1)\n",
    "        top_p, top_class = ps.topk(1, dim=1)\n",
    "        equals = top_class == labels.reshape(top_class.shape) # 모델의 출력과, 실제 정답 비교 \n",
    "        train_acc[e] += torch.mean(equals.type(torch.float)).detach().cpu()\n",
    "    train_loss[e] /= len(train_loader)\n",
    "    train_acc[e] /= len(train_loader)\n",
    "    scheduler.step()\n",
    "        \n",
    "        \n",
    "    ######################    \n",
    "    # validate the model #\n",
    "    ######################\n",
    "    with torch.no_grad(): \n",
    "        model.eval()\n",
    "        gc.collect()\n",
    "        torch.cuda.empty_cache()\n",
    "        for data, labels in tqdm(valid_loader):\n",
    "            # move tensors to GPU if CUDA is available\n",
    "            data, labels = data.to(device), labels.to(device)\n",
    "            # forward pass: compute predicted outputs by passing inputs to the model\n",
    "            logits = model(data)\n",
    "            # calculate the batch loss\n",
    "            loss = criterion(logits, labels)\n",
    "            # update average validation loss \n",
    "            valid_loss[e] += loss.item()\n",
    "\n",
    "            ps = F.softmax(logits, dim=1)\n",
    "            top_p, top_class = ps.topk(1, dim=1)\n",
    "            equals = top_class == labels.reshape(top_class.shape)\n",
    "            valid_acc[e] += torch.mean(equals.type(torch.float)).detach().cpu()\n",
    "    \n",
    "    # calculate average losses\n",
    "    valid_loss[e] /= len(valid_loader)\n",
    "    valid_acc[e] /= len(valid_loader)\n",
    "        \n",
    "    # print training/validation statistics \n",
    "    print('Epoch: {} \\tTraining Loss: {:.6f} \\tValidation Loss: {:.6f}'.format(\n",
    "        e, train_loss[e], valid_loss[e]))\n",
    "    \n",
    "    # print training/validation statistics \n",
    "    print('Epoch: {} \\tTraining accuracy: {:.6f} \\tValidation accuracy: {:.6f}'.format(\n",
    "        e, train_acc[e], valid_acc[e]))\n",
    "    \n",
    "    # save model if validation loss has decreased\n",
    "    if valid_loss[e] <= valid_loss_min:\n",
    "        print('Validation loss decreased ({:.6f} --> {:.6f}).  Saving model ...'.format(\n",
    "        valid_loss_min,\n",
    "        valid_loss[e]))\n",
    "        torch.save(model.state_dict(), './model_file_cli1/mnist-model-update-3.pt')\n",
    "        valid_loss_min = valid_loss[e]"
   ]
  },
  {
   "cell_type": "code",
   "execution_count": 105,
   "id": "65ce8389",
   "metadata": {},
   "outputs": [
    {
     "data": {
      "text/plain": [
       "<matplotlib.legend.Legend at 0x227e11e7e50>"
      ]
     },
     "execution_count": 105,
     "metadata": {},
     "output_type": "execute_result"
    },
    {
     "data": {
      "image/png": "[encoded data removed]",
      "text/plain": [
       "<Figure size 640x480 with 1 Axes>"
      ]
     },
     "metadata": {},
     "output_type": "display_data"
    }
   ],
   "source": [
    "import matplotlib.pyplot as plt\n",
    "\n",
    "plt.plot(train_loss, label = 'training loss')\n",
    "plt.plot(valid_loss, label = 'validation loss')\n",
    "plt.legend()"
   ]
  },
  {
   "cell_type": "code",
   "execution_count": 106,
   "id": "5a1b7829",
   "metadata": {},
   "outputs": [
    {
     "data": {
      "text/plain": [
       "<matplotlib.legend.Legend at 0x227dd1e4700>"
      ]
     },
     "execution_count": 106,
     "metadata": {},
     "output_type": "execute_result"
    },
    {
     "data": {
      "image/png": "[encoded data removed]",
      "text/plain": [
       "<Figure size 640x480 with 1 Axes>"
      ]
     },
     "metadata": {},
     "output_type": "display_data"
    }
   ],
   "source": [
    "plt.plot(train_acc, label = 'training accuracy')\n",
    "plt.plot(valid_acc, label = 'validation accuracy')\n",
    "plt.legend()"
   ]
  },
  {
   "cell_type": "code",
   "execution_count": 107,
   "id": "25606f15",
   "metadata": {},
   "outputs": [
    {
     "data": {
      "text/plain": [
       "'D:\\\\asy10\\\\FL_project\\\\mnist\\\\Client\\\\cli1'"
      ]
     },
     "execution_count": 107,
     "metadata": {},
     "output_type": "execute_result"
    }
   ],
   "source": [
    "pwd"
   ]
  },
  {
   "cell_type": "code",
   "execution_count": 108,
   "id": "69871078",
   "metadata": {},
   "outputs": [
    {
     "data": {
      "text/plain": [
       "<All keys matched successfully>"
      ]
     },
     "execution_count": 108,
     "metadata": {},
     "output_type": "execute_result"
    }
   ],
   "source": [
    "model.load_state_dict(torch.load( './model_file_cli1/mnist-model-update-3.pt'))"
   ]
  },
  {
   "cell_type": "code",
   "execution_count": 109,
   "id": "5f549bde",
   "metadata": {},
   "outputs": [
    {
     "name": "stdout",
     "output_type": "stream",
     "text": [
      "Test Loss: 0.024840\n",
      "\n",
      "Test Accuracy: 0.992038\n",
      "\n",
      "Test Accuracy of     0: 99% (977/980)\n",
      "Test Accuracy of     1: 99% (1133/1135)\n",
      "Test Accuracy of     2: 99% (1024/1032)\n",
      "Test Accuracy of     3: 99% (1006/1010)\n",
      "Test Accuracy of     4: 99% (975/982)\n",
      "Test Accuracy of     5: 99% (885/892)\n",
      "Test Accuracy of     6: 98% (947/958)\n",
      "Test Accuracy of     7: 98% (1016/1028)\n",
      "Test Accuracy of     8: 99% (966/974)\n",
      "Test Accuracy of     9: 98% (991/1009)\n"
     ]
    }
   ],
   "source": [
    "# track test loss\n",
    "test_loss = 0.0\n",
    "test_acc = 0.0\n",
    "\n",
    "class_correct = torch.zeros(100)\n",
    "class_total = torch.zeros(100)\n",
    "\n",
    "model.eval()\n",
    "# iterate over test data\n",
    "for data, labels in test_loader:\n",
    "    # move tensors to GPU if CUDA is available\n",
    "    data, labels = data.to(device), labels.to(device)\n",
    "    # forward pass: compute predicted outputs by passing inputs to the model\n",
    "    logits = model(data)\n",
    "    # calculate the batch loss\n",
    "    loss = criterion(logits, labels)\n",
    "    # update test loss \n",
    "    test_loss += loss.item()\n",
    "    \n",
    "    ps = F.softmax(logits, dim=1)\n",
    "    top_p, top_class = ps.topk(1, dim=1)\n",
    "    equals = top_class == labels.reshape(top_class.shape)\n",
    "    test_acc += torch.mean(equals.type(torch.float)).detach().cpu()\n",
    "    \n",
    "    for i in range(len(data)):\n",
    "        label = labels[i]\n",
    "        class_correct[label] += equals[i].item()\n",
    "        class_total[label] += 1\n",
    "    \n",
    "\n",
    "# average test loss\n",
    "test_loss = test_loss/len(test_loader)\n",
    "test_acc = test_acc/len(test_loader)\n",
    "print('Test Loss: {:.6f}\\n'.format(test_loss))\n",
    "print('Test Accuracy: {:.6f}\\n'.format(test_acc))\n",
    "\n",
    "for i in range(10):\n",
    "    if class_total[i] > 0:\n",
    "        print('Test Accuracy of %5s: %2d%% (%2d/%2d)' % (\n",
    "            classes[i], 100 * class_correct[i] / class_total[i],\n",
    "            torch.sum(class_correct[i]), torch.sum(class_total[i])))\n",
    "    else:\n",
    "        print('Test Accuracy of %5s: N/A (no training examples)' % (classes[i]))"
   ]
  },
  {
   "cell_type": "markdown",
   "id": "a1b0a464",
   "metadata": {},
   "source": [
    "### Server로 모델 파라미터 파일 전송"
   ]
  },
  {
   "cell_type": "code",
   "execution_count": 1,
   "id": "b1726433",
   "metadata": {},
   "outputs": [
    {
     "data": {
      "text/plain": [
       "'D:\\\\asy10\\\\FL_project'"
      ]
     },
     "execution_count": 1,
     "metadata": {},
     "output_type": "execute_result"
    }
   ],
   "source": []
  },
  {
   "cell_type": "code",
   "execution_count": 110,
   "id": "50bd3f60",
   "metadata": {},
   "outputs": [
    {
     "name": "stdout",
     "output_type": "stream",
     "text": [
      "연결 성공! \n",
      "파일 mnist-model-update-3.pt 전송시작 ! \n",
      "전송완료 : mnist-model-update-3.pt 전송량 5908679 \n"
     ]
    }
   ],
   "source": [
    "# 서버랑 연결 접속 확인 \n",
    "# client에서 server로 모델 파일 send\n",
    "\n",
    "from socket import *\n",
    "from os.path import exists\n",
    "import sys\n",
    "\n",
    "clientrSock1 = socket(AF_INET, SOCK_STREAM)\n",
    "clientrSock1.connect(('127.0.0.1', 2266))\n",
    "\n",
    "print('연결 성공! ')\n",
    "filename = 'mnist-model-update-3.pt'\n",
    "clientrSock1.sendall(filename.encode('utf-8')) ## 파일 이름 전송 \n",
    "\n",
    "\n",
    "data_transferred = 0\n",
    "\n",
    "\n",
    "print('파일 %s 전송시작 ! ' %filename)\n",
    "\n",
    "\n",
    "with open(\"./model_file_cli1/\"+filename, 'rb') as f:\n",
    "    try :\n",
    "        data = f.read(2048)\n",
    "        while data:\n",
    "            data_transferred += clientrSock1.send(data) # data 전송 \n",
    "            data = f.read(2048) # 파일에서 2048만큼 읽어오고 \n",
    "    except Exception as ex:\n",
    "        print(ex)\n",
    "print(\"전송완료 : %s 전송량 %d \" %(filename, data_transferred))\n",
    "clientrSock1.close()"
   ]
  },
  {
   "cell_type": "code",
   "execution_count": null,
   "id": "f1f74e63",
   "metadata": {},
   "outputs": [],
   "source": []
  }
 ],
 "metadata": {
  "kernelspec": {
   "display_name": "Python 3 (ipykernel)",
   "language": "python",
   "name": "python3"
  },
  "language_info": {
   "codemirror_mode": {
    "name": "ipython",
    "version": 3
   },
   "file_extension": ".py",
   "mimetype": "text/x-python",
   "name": "python",
   "nbconvert_exporter": "python",
   "pygments_lexer": "ipython3",
   "version": "3.8.16"
  }
 },
 "nbformat": 4,
 "nbformat_minor": 5
}
