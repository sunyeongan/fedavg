{
 "cells": [
  {
   "cell_type": "code",
   "execution_count": 3,
   "id": "393f1dac",
   "metadata": {},
   "outputs": [],
   "source": [
    "import numpy as np\n",
    "%matplotlib inline\n",
    "import matplotlib.pyplot as plt\n",
    "from PIL import Image"
   ]
  },
  {
   "cell_type": "code",
   "execution_count": 4,
   "id": "9732ff94",
   "metadata": {},
   "outputs": [],
   "source": [
    "import gc\n",
    "import torch\n",
    "\n",
    "gc.collect()\n",
    "torch.cuda.empty_cache()"
   ]
  },
  {
   "cell_type": "code",
   "execution_count": 5,
   "id": "9707a769",
   "metadata": {},
   "outputs": [
    {
     "data": {
      "text/plain": [
       "[<matplotlib.lines.Line2D at 0x151e7df1280>]"
      ]
     },
     "execution_count": 5,
     "metadata": {},
     "output_type": "execute_result"
    },
    {
     "data": {
      "image/png": "[encoded data removed]",
      "text/plain": [
       "<Figure size 640x480 with 1 Axes>"
      ]
     },
     "metadata": {},
     "output_type": "display_data"
    }
   ],
   "source": [
    "plt.plot([1,2,3,4])"
   ]
  },
  {
   "cell_type": "code",
   "execution_count": 6,
   "id": "89a2c35e",
   "metadata": {},
   "outputs": [],
   "source": [
    "import torch\n",
    "import torchvision\n",
    "from torchvision import datasets, models, transforms\n",
    "import torch.nn as nn\n",
    "from torch.nn import functional as F\n",
    "import torch.optim as optim\n",
    "from torch.autograd import Variable\n",
    "from torch.utils.data.sampler import SubsetRandomSampler"
   ]
  },
  {
   "cell_type": "code",
   "execution_count": 7,
   "id": "7688b9c3",
   "metadata": {},
   "outputs": [
    {
     "data": {
      "text/plain": [
       "'D:\\\\asy10\\\\fedavg\\\\Client\\\\cli1'"
      ]
     },
     "execution_count": 7,
     "metadata": {},
     "output_type": "execute_result"
    }
   ],
   "source": [
    "pwd"
   ]
  },
  {
   "cell_type": "code",
   "execution_count": 3,
   "id": "0ba1cef5",
   "metadata": {},
   "outputs": [
    {
     "name": "stdout",
     "output_type": "stream",
     "text": [
      "연결 성공! \n",
      "D:\\asy10\\fedavg\\Client\\cli1\\model_file_cli1\\server-global-update-3-resnet50-model.pth\n",
      "파일 server-global-update-3-resnet50-model.pth 받기 완료 : 전송량 94467773 \n"
     ]
    }
   ],
   "source": [
    "# 클라이언트와의 접속 확인 \n",
    "# 서버로부터 클로벌 모델 파일 명 recv \n",
    "# 서버로부터  모델 파일 recv\n",
    "from socket import *\n",
    "from os.path import exists\n",
    "import sys\n",
    "import os \n",
    "\n",
    "    \n",
    "\n",
    "    \n",
    "clientSock1 = socket(AF_INET, SOCK_STREAM)\n",
    "clientSock1.connect(('127.0.0.1', 2266))\n",
    "\n",
    "print('연결 성공! ')\n",
    "#filename = '/server-global-eff-model.pth'\n",
    "filename = 'server-global-update-3-resnet50-model.pth'\n",
    "clientSock1.sendall(filename.encode())\n",
    "\n",
    "data = clientSock1.recv(4096)\n",
    "data_transferred = 0\n",
    "\n",
    "if not data:\n",
    "    print('파일 %s가 서버에 존재 하지 않음' %filename)\n",
    "    sys.exit()\n",
    "\n",
    "save_dir = os.path.join('D:\\\\asy10\\\\fedavg\\\\Client\\\\cli1\\\\model_file_cli1\\\\', filename)\n",
    "\n",
    "print(save_dir)\n",
    "\n",
    "with open(save_dir, 'wb') as f:\n",
    "    try :\n",
    "        while data:\n",
    "            f.write(data)\n",
    "            data_transferred += len(data)\n",
    "            data = clientSock1.recv(4096)\n",
    "\n",
    "\n",
    "    except Exception as ex:\n",
    "        print(ex)\n",
    "print(\"파일 %s 받기 완료 : 전송량 %d \" %(filename, data_transferred))\n",
    "clientSock1.close()\n",
    "    \n",
    "    "
   ]
  },
  {
   "cell_type": "code",
   "execution_count": 66,
   "id": "86b0dac2",
   "metadata": {},
   "outputs": [
    {
     "name": "stdout",
     "output_type": "stream",
     "text": [
      "연결 성공! \n",
      "D:\\asy10\\fedavg\\Client\\cli1\\model_file_cli1\\server-global-update-2-resnet50-model.pth\n",
      "파일 server-global-update-2-resnet50-model.pth 받기 완료 : 전송량 94467773 \n"
     ]
    }
   ],
   "source": [
    "\n",
    "    \n",
    "    \n",
    "    \n",
    "    \n",
    "    clientrSock1 = socket(AF_INET, SOCK_STREAM)\n",
    "    clientrSock1.connect(('127.0.0.1', 2267))\n",
    "\n",
    "    print('연결 성공! ')\n",
    "    filename = 'h1_resnet50-model-update-c.pt'\n",
    "    clientrSock1.sendall(filename.encode('utf-8')) ## 파일 이름 전송 \n",
    "\n",
    "\n",
    "    data_transferred = 0\n",
    "\n",
    "\n",
    "    print('파일 %s 전송시작 ! ' %filename)\n",
    "\n",
    "\n",
    "    with open(\"./model_file_cli1/\"+filename, 'rb') as f:\n",
    "        try :\n",
    "            data = f.read(2048)\n",
    "            while data:\n",
    "                data_transferred += clientrSock1.send(data) # data 전송 \n",
    "                data = f.read(2048) # 파일에서 2048만큼 읽어오고 \n",
    "        except Exception as ex:\n",
    "            print(ex)\n",
    "    print(\"전송완료 : %s 전송량 %d \" %(filename, data_transferred))\n",
    "    clientrSock1.close()"
   ]
  },
  {
   "cell_type": "code",
   "execution_count": 2,
   "id": "74412115",
   "metadata": {},
   "outputs": [
    {
     "name": "stdout",
     "output_type": "stream",
     "text": [
      " D 드라이브의 볼륨에는 이름이 없습니다.\n",
      " 볼륨 일련 번호: 3451-2A8A\n",
      "\n",
      " D:\\asy10\\fedavg\\Client\\cli1 디렉터리\n",
      "\n",
      "2023-07-03  오후 10:53    <DIR>          .\n",
      "2023-07-03  오후 10:53    <DIR>          ..\n",
      "2023-06-26  오후 05:59    <DIR>          .ipynb_checkpoints\n",
      "2023-07-03  오후 10:53           150,784 cifar_half_1.ipynb\n",
      "2023-06-30  오전 12:00    <DIR>          data\n",
      "2023-06-26  오후 06:13        16,840,529 h1_effib0-model32-cifar.pt\n",
      "2023-06-26  오후 06:52        16,840,167 h1_effib0-model8-cifar.pt\n",
      "2023-06-26  오후 09:49        16,840,529 h1_effib0-model-8-cifar.pt\n",
      "2023-07-03  오후 10:52    <DIR>          model_file_cli1\n",
      "               4개 파일          50,672,009 바이트\n",
      "               5개 디렉터리  3,954,346,913,792 바이트 남음\n"
     ]
    }
   ],
   "source": [
    "ls"
   ]
  },
  {
   "cell_type": "code",
   "execution_count": 67,
   "id": "b935664d",
   "metadata": {},
   "outputs": [],
   "source": [
    "\n",
    "batch_size = 32\n",
    "learning_rate = 0.01\n",
    "num_epochs = 30"
   ]
  },
  {
   "cell_type": "code",
   "execution_count": 68,
   "id": "b00836d7",
   "metadata": {},
   "outputs": [
    {
     "name": "stdout",
     "output_type": "stream",
     "text": [
      "Files already downloaded and verified\n",
      "Files already downloaded and verified\n"
     ]
    }
   ],
   "source": [
    "train_transform = transforms.Compose([\n",
    "    transforms.Resize(224),\n",
    "    transforms.RandomHorizontalFlip(p=0.5),\n",
    "    transforms.ToTensor(),\n",
    "    transforms.Normalize((0.4914, 0.4822, 0.4465), (0.2023, 0.1994, 0.2010))\n",
    "    ])\n",
    "\n",
    "test_transform = transforms.Compose([\n",
    "    transforms.Resize(224),\n",
    "    transforms.ToTensor(),\n",
    "    transforms.Normalize((0.4914, 0.4822, 0.4465), (0.2023, 0.1994, 0.2010))\n",
    "    ])\n",
    "\n",
    "# choose the training and test datasets\n",
    "train_data = datasets.CIFAR10('./data', train=True,\n",
    "                              download=True, transform=train_transform)\n",
    "test_data = datasets.CIFAR10('./data', train=False,\n",
    "                             download=True, transform=test_transform)"
   ]
  },
  {
   "cell_type": "code",
   "execution_count": 69,
   "id": "251e5a9f",
   "metadata": {},
   "outputs": [
    {
     "data": {
      "text/plain": [
       "25000"
      ]
     },
     "execution_count": 69,
     "metadata": {},
     "output_type": "execute_result"
    }
   ],
   "source": [
    "len(train_data)//2"
   ]
  },
  {
   "cell_type": "code",
   "execution_count": 70,
   "id": "451b4749",
   "metadata": {},
   "outputs": [
    {
     "data": {
      "text/plain": [
       "10000"
      ]
     },
     "execution_count": 70,
     "metadata": {},
     "output_type": "execute_result"
    }
   ],
   "source": [
    "len(test_data)"
   ]
  },
  {
   "cell_type": "code",
   "execution_count": 71,
   "id": "ebd3f6b0",
   "metadata": {},
   "outputs": [],
   "source": [
    "#valid_size = 0.2\n",
    "#test_size = 0.1\n",
    "#num_train = len(train_data)//2 # 50000만개의 데이터셋을 나눔 \n",
    "\n",
    "#indices = list(range(num_train)) # 0 ~ 24999\n",
    "\n",
    "#np.random.shuffle(indices) \n"
   ]
  },
  {
   "cell_type": "code",
   "execution_count": 72,
   "id": "69fbce9b",
   "metadata": {},
   "outputs": [
    {
     "data": {
      "text/plain": [
       "25000"
      ]
     },
     "execution_count": 72,
     "metadata": {},
     "output_type": "execute_result"
    }
   ],
   "source": [
    "import random\n",
    "\n",
    "valid_size = 0.2\n",
    "test_size = 0.1\n",
    "num_train = len(train_data) # 50000개 중에서 25000개 랜덤 추출 \n",
    "\n",
    "indices = list(range(num_train)) # 0 ~ 24999\n",
    "sample_indices = random.sample(indices, num_train//2) # 50000개 중에서 25000개 랜덤 추출 \n",
    "len(sample_indices)"
   ]
  },
  {
   "cell_type": "code",
   "execution_count": 73,
   "id": "6a37c345",
   "metadata": {},
   "outputs": [
    {
     "name": "stdout",
     "output_type": "stream",
     "text": [
      "5000\n",
      "20000 5000\n"
     ]
    }
   ],
   "source": [
    "split = int(np.floor(valid_size * (num_train//2))) # 0.2 * 10000\n",
    "print(split)\n",
    "train_idx, valid_idx = sample_indices[split:], sample_indices[:split] # train 20000, valid 5000 개씩 indices 리스트에서 랜덤한 인덱스 가져오기 \n",
    "print(len(train_idx), len(valid_idx))"
   ]
  },
  {
   "cell_type": "markdown",
   "id": "e9050fca",
   "metadata": {},
   "source": [
    "### test data "
   ]
  },
  {
   "cell_type": "code",
   "execution_count": 74,
   "id": "871e0848",
   "metadata": {},
   "outputs": [],
   "source": [
    "num_test = len(test_data)\n",
    "indices = list(range(num_test)) # 10000개 중에서 5000개 랜덤 추출 \n",
    "sample__test_indices = random.sample(indices, num_test)\n",
    "#np.random.shuffle(indices) "
   ]
  },
  {
   "cell_type": "code",
   "execution_count": 75,
   "id": "35c66133",
   "metadata": {},
   "outputs": [],
   "source": [
    "test_idx = sample__test_indices"
   ]
  },
  {
   "cell_type": "code",
   "execution_count": 76,
   "id": "4d025819",
   "metadata": {},
   "outputs": [],
   "source": [
    "train_sampler = SubsetRandomSampler(train_idx)\n",
    "valid_sampler = SubsetRandomSampler(valid_idx)\n",
    "test_sampler = SubsetRandomSampler(test_idx)"
   ]
  },
  {
   "cell_type": "code",
   "execution_count": 77,
   "id": "bdceb7b3",
   "metadata": {},
   "outputs": [],
   "source": [
    "train_loader = torch.utils.data.DataLoader(train_data, batch_size=batch_size,\n",
    "    sampler=train_sampler)\n",
    "valid_loader = torch.utils.data.DataLoader(train_data, batch_size=batch_size, \n",
    "    sampler=valid_sampler)\n",
    "test_loader = torch.utils.data.DataLoader(test_data, batch_size=batch_size, \n",
    "                                          sampler=test_sampler)"
   ]
  },
  {
   "cell_type": "code",
   "execution_count": 78,
   "id": "95da484e",
   "metadata": {},
   "outputs": [],
   "source": [
    "images, labels = next(iter(test_loader))"
   ]
  },
  {
   "cell_type": "code",
   "execution_count": 79,
   "id": "21b46378",
   "metadata": {},
   "outputs": [
    {
     "data": {
      "text/plain": [
       "torch.Size([32, 3, 224, 224])"
      ]
     },
     "execution_count": 79,
     "metadata": {},
     "output_type": "execute_result"
    }
   ],
   "source": [
    "images.shape"
   ]
  },
  {
   "cell_type": "code",
   "execution_count": 80,
   "id": "4288e557",
   "metadata": {},
   "outputs": [
    {
     "data": {
      "text/plain": [
       "torch.Size([32])"
      ]
     },
     "execution_count": 80,
     "metadata": {},
     "output_type": "execute_result"
    }
   ],
   "source": [
    "labels.shape"
   ]
  },
  {
   "cell_type": "code",
   "execution_count": 81,
   "id": "c761bd63",
   "metadata": {},
   "outputs": [
    {
     "name": "stdout",
     "output_type": "stream",
     "text": [
      "working on gpu\n"
     ]
    }
   ],
   "source": [
    "if torch.cuda.is_available():\n",
    "    device = torch.device(\"cuda\")\n",
    "    print(\"working on gpu\")\n",
    "else:\n",
    "    device = torch.device(\"cpu\")\n",
    "    print(\"working on cpu\")"
   ]
  },
  {
   "cell_type": "code",
   "execution_count": 82,
   "id": "0e82dcfc",
   "metadata": {},
   "outputs": [
    {
     "data": {
      "text/plain": [
       "device(type='cuda')"
      ]
     },
     "execution_count": 82,
     "metadata": {},
     "output_type": "execute_result"
    }
   ],
   "source": [
    "device"
   ]
  },
  {
   "cell_type": "code",
   "execution_count": 83,
   "id": "3775267e",
   "metadata": {},
   "outputs": [],
   "source": [
    "classes= ['plane', 'car', 'bird', 'cat','deer', 'dog', 'frog', 'horse', 'ship', 'truck']"
   ]
  },
  {
   "cell_type": "code",
   "execution_count": 50,
   "id": "af6e7f59",
   "metadata": {},
   "outputs": [],
   "source": [
    "# from efficientnet_pytorch import EfficientNet\n",
    "# net = EfficientNet.from_pretrained('efficientnet-b0', num_classes=100)\n",
    "\n",
    "# for n, p in net.named_parameters():\n",
    "#     if '_fc' not in n:\n",
    "#         p.requires_grad = False\n",
    "\n",
    "# net = net.to(device)"
   ]
  },
  {
   "cell_type": "code",
   "execution_count": 24,
   "id": "be7a9850",
   "metadata": {},
   "outputs": [],
   "source": [
    "# num_ftrs = model.fc.in_features\n",
    "# model.fc = torch.nn.Linear(num_ftrs, 1024)\n",
    "# model.fc = nn.Sequential(\n",
    "#     torch.nn.Linear(num_ftrs, 1024),\n",
    "#     torch.nn.Linear(1024, 512),\n",
    "#     torch.nn.Dropout(0.2),\n",
    "#     torch.nn.Linear(512, 256),\n",
    "#     torch.nn.Dropout(0.2),\n",
    "#     torch.nn.Linear(256, 128),\n",
    "#     torch.nn.Dropout(0.2),\n",
    "#     torch.nn.Linear(128, 100)\n",
    "# )\n",
    "\n",
    "# model.fc = model.fc.to(device) if torch.cuda.is_available() else model.fc"
   ]
  },
  {
   "cell_type": "code",
   "execution_count": 25,
   "id": "41cf2f91",
   "metadata": {},
   "outputs": [
    {
     "data": {
      "text/plain": [
       "'D:\\\\asy10\\\\fedavg\\\\Client\\\\cli1'"
      ]
     },
     "execution_count": 25,
     "metadata": {},
     "output_type": "execute_result"
    }
   ],
   "source": [
    "pwd"
   ]
  },
  {
   "cell_type": "markdown",
   "id": "cfd52b7a",
   "metadata": {},
   "source": [
    "### 서버로 부터 받은 글로벌 모델 파일 로드하기"
   ]
  },
  {
   "cell_type": "code",
   "execution_count": 85,
   "id": "c01989f7",
   "metadata": {},
   "outputs": [],
   "source": [
    "\n",
    "net = torch.load('./model_file_cli1/server-global-update-2-resnet50-model.pth')"
   ]
  },
  {
   "cell_type": "code",
   "execution_count": 86,
   "id": "11573f71",
   "metadata": {},
   "outputs": [
    {
     "data": {
      "text/plain": [
       "torchvision.models.resnet.ResNet"
      ]
     },
     "execution_count": 86,
     "metadata": {},
     "output_type": "execute_result"
    }
   ],
   "source": [
    "type(net)"
   ]
  },
  {
   "cell_type": "code",
   "execution_count": 87,
   "id": "b8a60c27",
   "metadata": {},
   "outputs": [],
   "source": [
    "criterion = nn.CrossEntropyLoss()\n",
    "optimizer = optim.SGD(net.parameters(), lr=0.01, momentum=0.9, weight_decay=5e-4)\n",
    "scheduler = torch.optim.lr_scheduler.StepLR(optimizer, step_size=10, gamma=0.1)"
   ]
  },
  {
   "cell_type": "code",
   "execution_count": null,
   "id": "87f0b9c9",
   "metadata": {},
   "outputs": [],
   "source": [
    "for name, param in net.named_parameters(): # fc layer만 업데이트 \n",
    "    print(name, ':', param.requires_grad) # freezing 확인 "
   ]
  },
  {
   "cell_type": "code",
   "execution_count": 88,
   "id": "fece7a5f",
   "metadata": {},
   "outputs": [],
   "source": [
    "from tqdm import tqdm"
   ]
  },
  {
   "cell_type": "code",
   "execution_count": 89,
   "id": "c03e1251",
   "metadata": {},
   "outputs": [
    {
     "name": "stderr",
     "output_type": "stream",
     "text": [
      "100%|████████████████████████████████████████████████████████████████████████████████| 625/625 [00:37<00:00, 16.55it/s]\n",
      "100%|████████████████████████████████████████████████████████████████████████████████| 157/157 [00:09<00:00, 16.84it/s]\n"
     ]
    },
    {
     "name": "stdout",
     "output_type": "stream",
     "text": [
      "Epoch: 0 \tTraining Loss: 0.570821 \tValidation Loss: 0.517016\n",
      "Epoch: 0 \tTraining accuracy: 0.808450 \tValidation accuracy: 0.822253\n",
      "Validation loss decreased (inf --> 0.517016).  Saving model ...\n"
     ]
    },
    {
     "name": "stderr",
     "output_type": "stream",
     "text": [
      "100%|████████████████████████████████████████████████████████████████████████████████| 625/625 [00:38<00:00, 16.26it/s]\n",
      "100%|████████████████████████████████████████████████████████████████████████████████| 157/157 [00:09<00:00, 16.67it/s]\n"
     ]
    },
    {
     "name": "stdout",
     "output_type": "stream",
     "text": [
      "Epoch: 1 \tTraining Loss: 0.576388 \tValidation Loss: 0.550973\n",
      "Epoch: 1 \tTraining accuracy: 0.806950 \tValidation accuracy: 0.814092\n"
     ]
    },
    {
     "name": "stderr",
     "output_type": "stream",
     "text": [
      "100%|████████████████████████████████████████████████████████████████████████████████| 625/625 [00:37<00:00, 16.49it/s]\n",
      "100%|████████████████████████████████████████████████████████████████████████████████| 157/157 [00:08<00:00, 17.76it/s]\n"
     ]
    },
    {
     "name": "stdout",
     "output_type": "stream",
     "text": [
      "Epoch: 2 \tTraining Loss: 0.563048 \tValidation Loss: 0.506960\n",
      "Epoch: 2 \tTraining accuracy: 0.811600 \tValidation accuracy: 0.826632\n",
      "Validation loss decreased (0.517016 --> 0.506960).  Saving model ...\n"
     ]
    },
    {
     "name": "stderr",
     "output_type": "stream",
     "text": [
      "100%|████████████████████████████████████████████████████████████████████████████████| 625/625 [00:36<00:00, 17.22it/s]\n",
      "100%|████████████████████████████████████████████████████████████████████████████████| 157/157 [00:08<00:00, 17.72it/s]\n"
     ]
    },
    {
     "name": "stdout",
     "output_type": "stream",
     "text": [
      "Epoch: 3 \tTraining Loss: 0.575234 \tValidation Loss: 0.515844\n",
      "Epoch: 3 \tTraining accuracy: 0.809600 \tValidation accuracy: 0.822850\n"
     ]
    },
    {
     "name": "stderr",
     "output_type": "stream",
     "text": [
      "100%|████████████████████████████████████████████████████████████████████████████████| 625/625 [00:36<00:00, 17.14it/s]\n",
      "100%|████████████████████████████████████████████████████████████████████████████████| 157/157 [00:08<00:00, 17.72it/s]\n"
     ]
    },
    {
     "name": "stdout",
     "output_type": "stream",
     "text": [
      "Epoch: 4 \tTraining Loss: 0.564829 \tValidation Loss: 0.507491\n",
      "Epoch: 4 \tTraining accuracy: 0.812450 \tValidation accuracy: 0.827229\n"
     ]
    },
    {
     "name": "stderr",
     "output_type": "stream",
     "text": [
      "100%|████████████████████████████████████████████████████████████████████████████████| 625/625 [00:37<00:00, 16.88it/s]\n",
      "100%|████████████████████████████████████████████████████████████████████████████████| 157/157 [00:08<00:00, 17.45it/s]\n"
     ]
    },
    {
     "name": "stdout",
     "output_type": "stream",
     "text": [
      "Epoch: 5 \tTraining Loss: 0.593991 \tValidation Loss: 0.665731\n",
      "Epoch: 5 \tTraining accuracy: 0.807450 \tValidation accuracy: 0.795780\n"
     ]
    },
    {
     "name": "stderr",
     "output_type": "stream",
     "text": [
      "100%|████████████████████████████████████████████████████████████████████████████████| 625/625 [00:36<00:00, 17.12it/s]\n",
      "100%|████████████████████████████████████████████████████████████████████████████████| 157/157 [00:08<00:00, 17.63it/s]\n"
     ]
    },
    {
     "name": "stdout",
     "output_type": "stream",
     "text": [
      "Epoch: 6 \tTraining Loss: 0.569142 \tValidation Loss: 0.515041\n",
      "Epoch: 6 \tTraining accuracy: 0.809100 \tValidation accuracy: 0.831608\n"
     ]
    },
    {
     "name": "stderr",
     "output_type": "stream",
     "text": [
      "100%|████████████████████████████████████████████████████████████████████████████████| 625/625 [00:36<00:00, 17.21it/s]\n",
      "100%|████████████████████████████████████████████████████████████████████████████████| 157/157 [00:08<00:00, 17.89it/s]\n"
     ]
    },
    {
     "name": "stdout",
     "output_type": "stream",
     "text": [
      "Epoch: 7 \tTraining Loss: 0.567382 \tValidation Loss: 0.591409\n",
      "Epoch: 7 \tTraining accuracy: 0.811800 \tValidation accuracy: 0.810111\n"
     ]
    },
    {
     "name": "stderr",
     "output_type": "stream",
     "text": [
      "100%|████████████████████████████████████████████████████████████████████████████████| 625/625 [00:36<00:00, 17.28it/s]\n",
      "100%|████████████████████████████████████████████████████████████████████████████████| 157/157 [00:08<00:00, 17.75it/s]\n"
     ]
    },
    {
     "name": "stdout",
     "output_type": "stream",
     "text": [
      "Epoch: 8 \tTraining Loss: 0.579373 \tValidation Loss: 0.533014\n",
      "Epoch: 8 \tTraining accuracy: 0.807450 \tValidation accuracy: 0.818073\n"
     ]
    },
    {
     "name": "stderr",
     "output_type": "stream",
     "text": [
      "100%|████████████████████████████████████████████████████████████████████████████████| 625/625 [00:36<00:00, 17.17it/s]\n",
      "100%|████████████████████████████████████████████████████████████████████████████████| 157/157 [00:08<00:00, 17.71it/s]\n"
     ]
    },
    {
     "name": "stdout",
     "output_type": "stream",
     "text": [
      "Epoch: 9 \tTraining Loss: 0.560264 \tValidation Loss: 0.510089\n",
      "Epoch: 9 \tTraining accuracy: 0.814550 \tValidation accuracy: 0.825836\n"
     ]
    },
    {
     "name": "stderr",
     "output_type": "stream",
     "text": [
      "100%|████████████████████████████████████████████████████████████████████████████████| 625/625 [00:36<00:00, 17.21it/s]\n",
      "100%|████████████████████████████████████████████████████████████████████████████████| 157/157 [00:08<00:00, 17.67it/s]\n"
     ]
    },
    {
     "name": "stdout",
     "output_type": "stream",
     "text": [
      "Epoch: 10 \tTraining Loss: 0.423786 \tValidation Loss: 0.455669\n",
      "Epoch: 10 \tTraining accuracy: 0.855700 \tValidation accuracy: 0.841959\n",
      "Validation loss decreased (0.506960 --> 0.455669).  Saving model ...\n"
     ]
    },
    {
     "name": "stderr",
     "output_type": "stream",
     "text": [
      "100%|████████████████████████████████████████████████████████████████████████████████| 625/625 [00:36<00:00, 17.18it/s]\n",
      "100%|████████████████████████████████████████████████████████████████████████████████| 157/157 [00:08<00:00, 17.76it/s]\n"
     ]
    },
    {
     "name": "stdout",
     "output_type": "stream",
     "text": [
      "Epoch: 11 \tTraining Loss: 0.416739 \tValidation Loss: 0.452080\n",
      "Epoch: 11 \tTraining accuracy: 0.855100 \tValidation accuracy: 0.842755\n",
      "Validation loss decreased (0.455669 --> 0.452080).  Saving model ...\n"
     ]
    },
    {
     "name": "stderr",
     "output_type": "stream",
     "text": [
      "100%|████████████████████████████████████████████████████████████████████████████████| 625/625 [00:36<00:00, 17.18it/s]\n",
      "100%|████████████████████████████████████████████████████████████████████████████████| 157/157 [00:08<00:00, 17.71it/s]\n"
     ]
    },
    {
     "name": "stdout",
     "output_type": "stream",
     "text": [
      "Epoch: 12 \tTraining Loss: 0.412862 \tValidation Loss: 0.454562\n",
      "Epoch: 12 \tTraining accuracy: 0.858350 \tValidation accuracy: 0.838376\n"
     ]
    },
    {
     "name": "stderr",
     "output_type": "stream",
     "text": [
      "100%|████████████████████████████████████████████████████████████████████████████████| 625/625 [00:36<00:00, 17.21it/s]\n",
      "100%|████████████████████████████████████████████████████████████████████████████████| 157/157 [00:08<00:00, 17.68it/s]\n"
     ]
    },
    {
     "name": "stdout",
     "output_type": "stream",
     "text": [
      "Epoch: 13 \tTraining Loss: 0.413909 \tValidation Loss: 0.451252\n",
      "Epoch: 13 \tTraining accuracy: 0.856600 \tValidation accuracy: 0.844347\n",
      "Validation loss decreased (0.452080 --> 0.451252).  Saving model ...\n"
     ]
    },
    {
     "name": "stderr",
     "output_type": "stream",
     "text": [
      "100%|████████████████████████████████████████████████████████████████████████████████| 625/625 [00:36<00:00, 17.19it/s]\n",
      "100%|████████████████████████████████████████████████████████████████████████████████| 157/157 [00:08<00:00, 17.52it/s]\n"
     ]
    },
    {
     "name": "stdout",
     "output_type": "stream",
     "text": [
      "Epoch: 14 \tTraining Loss: 0.407328 \tValidation Loss: 0.448080\n",
      "Epoch: 14 \tTraining accuracy: 0.857650 \tValidation accuracy: 0.843750\n",
      "Validation loss decreased (0.451252 --> 0.448080).  Saving model ...\n"
     ]
    },
    {
     "name": "stderr",
     "output_type": "stream",
     "text": [
      "100%|████████████████████████████████████████████████████████████████████████████████| 625/625 [00:36<00:00, 17.11it/s]\n",
      "100%|████████████████████████████████████████████████████████████████████████████████| 157/157 [00:08<00:00, 17.76it/s]\n"
     ]
    },
    {
     "name": "stdout",
     "output_type": "stream",
     "text": [
      "Epoch: 15 \tTraining Loss: 0.403848 \tValidation Loss: 0.444649\n",
      "Epoch: 15 \tTraining accuracy: 0.861400 \tValidation accuracy: 0.841560\n",
      "Validation loss decreased (0.448080 --> 0.444649).  Saving model ...\n"
     ]
    },
    {
     "name": "stderr",
     "output_type": "stream",
     "text": [
      "100%|████████████████████████████████████████████████████████████████████████████████| 625/625 [00:36<00:00, 17.22it/s]\n",
      "100%|████████████████████████████████████████████████████████████████████████████████| 157/157 [00:08<00:00, 17.72it/s]\n"
     ]
    },
    {
     "name": "stdout",
     "output_type": "stream",
     "text": [
      "Epoch: 16 \tTraining Loss: 0.410053 \tValidation Loss: 0.440581\n",
      "Epoch: 16 \tTraining accuracy: 0.857400 \tValidation accuracy: 0.843352\n",
      "Validation loss decreased (0.444649 --> 0.440581).  Saving model ...\n"
     ]
    },
    {
     "name": "stderr",
     "output_type": "stream",
     "text": [
      "100%|████████████████████████████████████████████████████████████████████████████████| 625/625 [00:36<00:00, 17.15it/s]\n",
      "100%|████████████████████████████████████████████████████████████████████████████████| 157/157 [00:08<00:00, 17.83it/s]\n"
     ]
    },
    {
     "name": "stdout",
     "output_type": "stream",
     "text": [
      "Epoch: 17 \tTraining Loss: 0.398314 \tValidation Loss: 0.448896\n",
      "Epoch: 17 \tTraining accuracy: 0.864550 \tValidation accuracy: 0.845740\n"
     ]
    },
    {
     "name": "stderr",
     "output_type": "stream",
     "text": [
      "100%|████████████████████████████████████████████████████████████████████████████████| 625/625 [00:36<00:00, 17.22it/s]\n",
      "100%|████████████████████████████████████████████████████████████████████████████████| 157/157 [00:08<00:00, 17.70it/s]\n"
     ]
    },
    {
     "name": "stdout",
     "output_type": "stream",
     "text": [
      "Epoch: 18 \tTraining Loss: 0.402427 \tValidation Loss: 0.447114\n",
      "Epoch: 18 \tTraining accuracy: 0.859750 \tValidation accuracy: 0.844347\n"
     ]
    },
    {
     "name": "stderr",
     "output_type": "stream",
     "text": [
      "100%|████████████████████████████████████████████████████████████████████████████████| 625/625 [00:36<00:00, 17.21it/s]\n",
      "100%|████████████████████████████████████████████████████████████████████████████████| 157/157 [00:08<00:00, 17.70it/s]\n"
     ]
    },
    {
     "name": "stdout",
     "output_type": "stream",
     "text": [
      "Epoch: 19 \tTraining Loss: 0.397172 \tValidation Loss: 0.437472\n",
      "Epoch: 19 \tTraining accuracy: 0.862050 \tValidation accuracy: 0.848129\n",
      "Validation loss decreased (0.440581 --> 0.437472).  Saving model ...\n"
     ]
    },
    {
     "name": "stderr",
     "output_type": "stream",
     "text": [
      "100%|████████████████████████████████████████████████████████████████████████████████| 625/625 [00:36<00:00, 17.15it/s]\n",
      "100%|████████████████████████████████████████████████████████████████████████████████| 157/157 [00:08<00:00, 17.53it/s]\n"
     ]
    },
    {
     "name": "stdout",
     "output_type": "stream",
     "text": [
      "Epoch: 20 \tTraining Loss: 0.389706 \tValidation Loss: 0.440519\n",
      "Epoch: 20 \tTraining accuracy: 0.866600 \tValidation accuracy: 0.843750\n"
     ]
    },
    {
     "name": "stderr",
     "output_type": "stream",
     "text": [
      "100%|████████████████████████████████████████████████████████████████████████████████| 625/625 [00:36<00:00, 17.02it/s]\n",
      "100%|████████████████████████████████████████████████████████████████████████████████| 157/157 [00:08<00:00, 17.64it/s]\n"
     ]
    },
    {
     "name": "stdout",
     "output_type": "stream",
     "text": [
      "Epoch: 21 \tTraining Loss: 0.390630 \tValidation Loss: 0.434848\n",
      "Epoch: 21 \tTraining accuracy: 0.866900 \tValidation accuracy: 0.844944\n",
      "Validation loss decreased (0.437472 --> 0.434848).  Saving model ...\n"
     ]
    },
    {
     "name": "stderr",
     "output_type": "stream",
     "text": [
      "100%|████████████████████████████████████████████████████████████████████████████████| 625/625 [00:36<00:00, 17.07it/s]\n",
      "100%|████████████████████████████████████████████████████████████████████████████████| 157/157 [00:08<00:00, 17.52it/s]\n"
     ]
    },
    {
     "name": "stdout",
     "output_type": "stream",
     "text": [
      "Epoch: 22 \tTraining Loss: 0.387498 \tValidation Loss: 0.433042\n",
      "Epoch: 22 \tTraining accuracy: 0.865300 \tValidation accuracy: 0.845940\n",
      "Validation loss decreased (0.434848 --> 0.433042).  Saving model ...\n"
     ]
    },
    {
     "name": "stderr",
     "output_type": "stream",
     "text": [
      "100%|████████████████████████████████████████████████████████████████████████████████| 625/625 [00:36<00:00, 17.14it/s]\n",
      "100%|████████████████████████████████████████████████████████████████████████████████| 157/157 [00:08<00:00, 17.74it/s]\n"
     ]
    },
    {
     "name": "stdout",
     "output_type": "stream",
     "text": [
      "Epoch: 23 \tTraining Loss: 0.389818 \tValidation Loss: 0.434547\n",
      "Epoch: 23 \tTraining accuracy: 0.866500 \tValidation accuracy: 0.846537\n"
     ]
    },
    {
     "name": "stderr",
     "output_type": "stream",
     "text": [
      "100%|████████████████████████████████████████████████████████████████████████████████| 625/625 [00:36<00:00, 17.20it/s]\n",
      "100%|████████████████████████████████████████████████████████████████████████████████| 157/157 [00:08<00:00, 17.77it/s]\n"
     ]
    },
    {
     "name": "stdout",
     "output_type": "stream",
     "text": [
      "Epoch: 24 \tTraining Loss: 0.394735 \tValidation Loss: 0.437864\n",
      "Epoch: 24 \tTraining accuracy: 0.864450 \tValidation accuracy: 0.845740\n"
     ]
    },
    {
     "name": "stderr",
     "output_type": "stream",
     "text": [
      "100%|████████████████████████████████████████████████████████████████████████████████| 625/625 [00:36<00:00, 17.19it/s]\n",
      "100%|████████████████████████████████████████████████████████████████████████████████| 157/157 [00:08<00:00, 17.73it/s]\n"
     ]
    },
    {
     "name": "stdout",
     "output_type": "stream",
     "text": [
      "Epoch: 25 \tTraining Loss: 0.388707 \tValidation Loss: 0.439420\n",
      "Epoch: 25 \tTraining accuracy: 0.865900 \tValidation accuracy: 0.841760\n"
     ]
    },
    {
     "name": "stderr",
     "output_type": "stream",
     "text": [
      "100%|████████████████████████████████████████████████████████████████████████████████| 625/625 [00:35<00:00, 17.44it/s]\n",
      "100%|████████████████████████████████████████████████████████████████████████████████| 157/157 [00:08<00:00, 17.96it/s]\n"
     ]
    },
    {
     "name": "stdout",
     "output_type": "stream",
     "text": [
      "Epoch: 26 \tTraining Loss: 0.388018 \tValidation Loss: 0.437276\n",
      "Epoch: 26 \tTraining accuracy: 0.865200 \tValidation accuracy: 0.845342\n"
     ]
    },
    {
     "name": "stderr",
     "output_type": "stream",
     "text": [
      "100%|████████████████████████████████████████████████████████████████████████████████| 625/625 [00:36<00:00, 17.33it/s]\n",
      "100%|████████████████████████████████████████████████████████████████████████████████| 157/157 [00:08<00:00, 17.83it/s]\n"
     ]
    },
    {
     "name": "stdout",
     "output_type": "stream",
     "text": [
      "Epoch: 27 \tTraining Loss: 0.384626 \tValidation Loss: 0.433315\n",
      "Epoch: 27 \tTraining accuracy: 0.869100 \tValidation accuracy: 0.846935\n"
     ]
    },
    {
     "name": "stderr",
     "output_type": "stream",
     "text": [
      "100%|████████████████████████████████████████████████████████████████████████████████| 625/625 [00:35<00:00, 17.36it/s]\n",
      "100%|████████████████████████████████████████████████████████████████████████████████| 157/157 [00:08<00:00, 17.50it/s]\n"
     ]
    },
    {
     "name": "stdout",
     "output_type": "stream",
     "text": [
      "Epoch: 28 \tTraining Loss: 0.390528 \tValidation Loss: 0.427474\n",
      "Epoch: 28 \tTraining accuracy: 0.866100 \tValidation accuracy: 0.849522\n",
      "Validation loss decreased (0.433042 --> 0.427474).  Saving model ...\n"
     ]
    },
    {
     "name": "stderr",
     "output_type": "stream",
     "text": [
      "100%|████████████████████████████████████████████████████████████████████████████████| 625/625 [00:35<00:00, 17.38it/s]\n",
      "100%|████████████████████████████████████████████████████████████████████████████████| 157/157 [00:08<00:00, 17.96it/s]"
     ]
    },
    {
     "name": "stdout",
     "output_type": "stream",
     "text": [
      "Epoch: 29 \tTraining Loss: 0.386054 \tValidation Loss: 0.455364\n",
      "Epoch: 29 \tTraining accuracy: 0.867700 \tValidation accuracy: 0.843949\n"
     ]
    },
    {
     "name": "stderr",
     "output_type": "stream",
     "text": [
      "\n"
     ]
    }
   ],
   "source": [
    "# number of epochs to train the model\n",
    "n_epochs = 30\n",
    "\n",
    "valid_loss_min = np.Inf # track change in validation loss\n",
    "\n",
    "# keep track of training and validation loss\n",
    "train_loss = torch.zeros(n_epochs)\n",
    "valid_loss = torch.zeros(n_epochs)\n",
    "\n",
    "train_acc = torch.zeros(n_epochs)\n",
    "valid_acc = torch.zeros(n_epochs)\n",
    "\n",
    "for e in range(0, n_epochs):\n",
    "   \n",
    "    ###################\n",
    "    # train the model #\n",
    "    ###################\n",
    "    net.train()\n",
    "    gc.collect()\n",
    "    torch.cuda.empty_cache()\n",
    "    for data, labels in tqdm(train_loader):\n",
    "        # move tensors to GPU if CUDA is available\n",
    "        data, labels = data.to(device), labels.to(device)\n",
    "        \n",
    "        # clear the gradients of all optimized variables\n",
    "        \n",
    "        optimizer.zero_grad()\n",
    "        # forward pass: compute predicted outputs by passing inputs to the model\n",
    "        logits = net(data)\n",
    "        \n",
    "        # calculate the batch loss\n",
    "        loss = criterion(logits, labels)\n",
    "        # backward pass: compute gradient of the loss with respect to model parameters\n",
    "        loss.backward()\n",
    "        # perform a single optimization step (parameter update)\n",
    "        optimizer.step()\n",
    "        # update training loss\n",
    "        train_loss[e] += loss.item()\n",
    "        \n",
    "        ps = F.softmax(logits, dim=1)\n",
    "        top_p, top_class = ps.topk(1, dim=1)\n",
    "        equals = top_class == labels.reshape(top_class.shape) # 모델의 출력과, 실제 정답 비교 \n",
    "        train_acc[e] += torch.mean(equals.type(torch.float)).detach().cpu()\n",
    "    train_loss[e] /= len(train_loader)\n",
    "    train_acc[e] /= len(train_loader)\n",
    "    scheduler.step()\n",
    "        \n",
    "        \n",
    "    ######################    \n",
    "    # validate the model #\n",
    "    ######################\n",
    "    with torch.no_grad(): \n",
    "        net.eval()\n",
    "        gc.collect()\n",
    "        torch.cuda.empty_cache()\n",
    "        for data, labels in tqdm(valid_loader):\n",
    "            # move tensors to GPU if CUDA is available\n",
    "            data, labels = data.to(device), labels.to(device)\n",
    "            # forward pass: compute predicted outputs by passing inputs to the model\n",
    "            logits = net(data)\n",
    "            # calculate the batch loss\n",
    "            loss = criterion(logits, labels)\n",
    "            # update average validation loss \n",
    "            valid_loss[e] += loss.item()\n",
    "\n",
    "            ps = F.softmax(logits, dim=1)\n",
    "            top_p, top_class = ps.topk(1, dim=1)\n",
    "            equals = top_class == labels.reshape(top_class.shape)\n",
    "            valid_acc[e] += torch.mean(equals.type(torch.float)).detach().cpu()\n",
    "    \n",
    "    # calculate average losses\n",
    "    valid_loss[e] /= len(valid_loader)\n",
    "    valid_acc[e] /= len(valid_loader)\n",
    "        \n",
    "    # print training/validation statistics \n",
    "    print('Epoch: {} \\tTraining Loss: {:.6f} \\tValidation Loss: {:.6f}'.format(\n",
    "        e, train_loss[e], valid_loss[e]))\n",
    "    \n",
    "    # print training/validation statistics \n",
    "    print('Epoch: {} \\tTraining accuracy: {:.6f} \\tValidation accuracy: {:.6f}'.format(\n",
    "        e, train_acc[e], valid_acc[e]))\n",
    "    \n",
    "    # save model if validation loss has decreased\n",
    "    if valid_loss[e] <= valid_loss_min:\n",
    "        print('Validation loss decreased ({:.6f} --> {:.6f}).  Saving model ...'.format(\n",
    "        valid_loss_min,\n",
    "        valid_loss[e]))\n",
    "        torch.save(net.state_dict(), './model_file_cli1/h1_resnet50-model-update-3.pt')\n",
    "        valid_loss_min = valid_loss[e]"
   ]
  },
  {
   "cell_type": "code",
   "execution_count": 57,
   "id": "d7c696fd",
   "metadata": {},
   "outputs": [
    {
     "data": {
      "text/plain": [
       "<matplotlib.legend.Legend at 0x151f49c5910>"
      ]
     },
     "execution_count": 57,
     "metadata": {},
     "output_type": "execute_result"
    },
    {
     "data": {
      "image/png": "[encoded data removed]",
      "text/plain": [
       "<Figure size 640x480 with 1 Axes>"
      ]
     },
     "metadata": {},
     "output_type": "display_data"
    }
   ],
   "source": [
    "import matplotlib.pyplot as plt\n",
    "\n",
    "plt.plot(train_loss, label = 'training loss')\n",
    "plt.plot(valid_loss, label = 'validation loss')\n",
    "plt.legend()"
   ]
  },
  {
   "cell_type": "code",
   "execution_count": 58,
   "id": "a979b536",
   "metadata": {},
   "outputs": [
    {
     "data": {
      "text/plain": [
       "<matplotlib.legend.Legend at 0x151823cde50>"
      ]
     },
     "execution_count": 58,
     "metadata": {},
     "output_type": "execute_result"
    },
    {
     "data": {
      "image/png": "[encoded data removed]",
      "text/plain": [
       "<Figure size 640x480 with 1 Axes>"
      ]
     },
     "metadata": {},
     "output_type": "display_data"
    }
   ],
   "source": [
    "plt.plot(train_acc, label = 'training accuracy')\n",
    "plt.plot(valid_acc, label = 'validation accuracy')\n",
    "plt.legend()"
   ]
  },
  {
   "cell_type": "code",
   "execution_count": 59,
   "id": "85e7bdbd",
   "metadata": {},
   "outputs": [
    {
     "data": {
      "text/plain": [
       "'D:\\\\asy10\\\\fedavg\\\\Client\\\\cli1'"
      ]
     },
     "execution_count": 59,
     "metadata": {},
     "output_type": "execute_result"
    }
   ],
   "source": [
    "pwd"
   ]
  },
  {
   "cell_type": "code",
   "execution_count": 91,
   "id": "8a3d57cd",
   "metadata": {},
   "outputs": [
    {
     "data": {
      "text/plain": [
       "<All keys matched successfully>"
      ]
     },
     "execution_count": 91,
     "metadata": {},
     "output_type": "execute_result"
    }
   ],
   "source": [
    "net.load_state_dict(torch.load( './model_file_cli1/h1_resnet50-model-update-3.pt'))"
   ]
  },
  {
   "cell_type": "code",
   "execution_count": 92,
   "id": "479e392f",
   "metadata": {},
   "outputs": [
    {
     "name": "stdout",
     "output_type": "stream",
     "text": [
      "Test Loss: 0.456392\n",
      "\n",
      "Test Accuracy: 0.841554\n",
      "\n",
      "Test Accuracy of plane: 84% (845/1000)\n",
      "Test Accuracy of   car: 90% (905/1000)\n",
      "Test Accuracy of  bird: 77% (779/1000)\n",
      "Test Accuracy of   cat: 72% (729/1000)\n",
      "Test Accuracy of  deer: 80% (800/1000)\n",
      "Test Accuracy of   dog: 81% (812/1000)\n",
      "Test Accuracy of  frog: 89% (895/1000)\n",
      "Test Accuracy of horse: 87% (879/1000)\n",
      "Test Accuracy of  ship: 88% (889/1000)\n",
      "Test Accuracy of truck: 88% (882/1000)\n"
     ]
    }
   ],
   "source": [
    "# track test loss\n",
    "test_loss = 0.0\n",
    "test_acc = 0.0\n",
    "\n",
    "class_correct = torch.zeros(100)\n",
    "class_total = torch.zeros(100)\n",
    "\n",
    "net.eval()\n",
    "# iterate over test data\n",
    "for data, labels in test_loader:\n",
    "    # move tensors to GPU if CUDA is available\n",
    "    data, labels = data.to(device), labels.to(device)\n",
    "    # forward pass: compute predicted outputs by passing inputs to the model\n",
    "    logits = net(data)\n",
    "    # calculate the batch loss\n",
    "    loss = criterion(logits, labels)\n",
    "    # update test loss \n",
    "    test_loss += loss.item()\n",
    "    \n",
    "    ps = F.softmax(logits, dim=1)\n",
    "    top_p, top_class = ps.topk(1, dim=1)\n",
    "    equals = top_class == labels.reshape(top_class.shape)\n",
    "    test_acc += torch.mean(equals.type(torch.float)).detach().cpu()\n",
    "    \n",
    "    for i in range(len(data)):\n",
    "        label = labels[i]\n",
    "        class_correct[label] += equals[i].item()\n",
    "        class_total[label] += 1\n",
    "    \n",
    "\n",
    "# average test loss\n",
    "test_loss = test_loss/len(test_loader)\n",
    "test_acc = test_acc/len(test_loader)\n",
    "print('Test Loss: {:.6f}\\n'.format(test_loss))\n",
    "print('Test Accuracy: {:.6f}\\n'.format(test_acc))\n",
    "\n",
    "for i in range(10):\n",
    "    if class_total[i] > 0:\n",
    "        print('Test Accuracy of %5s: %2d%% (%2d/%2d)' % (\n",
    "            classes[i], 100 * class_correct[i] / class_total[i],\n",
    "            torch.sum(class_correct[i]), torch.sum(class_total[i])))\n",
    "    else:\n",
    "        print('Test Accuracy of %5s: N/A (no training examples)' % (classes[i]))"
   ]
  },
  {
   "cell_type": "markdown",
   "id": "df86ca46",
   "metadata": {},
   "source": [
    "### Server로 모델 파라미터 파일 전송"
   ]
  },
  {
   "cell_type": "code",
   "execution_count": 1,
   "id": "8f97c47c",
   "metadata": {},
   "outputs": [
    {
     "data": {
      "text/plain": [
       "'D:\\\\asy10\\\\FL_project'"
      ]
     },
     "execution_count": 1,
     "metadata": {},
     "output_type": "execute_result"
    }
   ],
   "source": []
  },
  {
   "cell_type": "code",
   "execution_count": 90,
   "id": "9decd014",
   "metadata": {},
   "outputs": [
    {
     "name": "stdout",
     "output_type": "stream",
     "text": [
      "연결 성공! \n",
      "파일 h1_resnet50-model-update-3.pt 전송시작 ! \n",
      "전송완료 : h1_resnet50-model-update-3.pt 전송량 94437415 \n"
     ]
    }
   ],
   "source": [
    "# 서버랑 연결 접속 확인 \n",
    "# client에서 server로 모델 파일 send\n",
    "\n",
    "from socket import *\n",
    "from os.path import exists\n",
    "import sys\n",
    "\n",
    "clientrSock1 = socket(AF_INET, SOCK_STREAM)\n",
    "clientrSock1.connect(('127.0.0.1', 2267))\n",
    "\n",
    "print('연결 성공! ')\n",
    "filename = 'h1_resnet50-model-update-3.pt'\n",
    "clientrSock1.sendall(filename.encode('utf-8')) ## 파일 이름 전송 \n",
    "\n",
    "\n",
    "data_transferred = 0\n",
    "\n",
    "\n",
    "print('파일 %s 전송시작 ! ' %filename)\n",
    "\n",
    "\n",
    "with open(\"./model_file_cli1/\"+filename, 'rb') as f:\n",
    "    try :\n",
    "        data = f.read(2048)\n",
    "        while data:\n",
    "            data_transferred += clientrSock1.send(data) # data 전송 \n",
    "            data = f.read(2048) # 파일에서 2048만큼 읽어오고 \n",
    "    except Exception as ex:\n",
    "        print(ex)\n",
    "print(\"전송완료 : %s 전송량 %d \" %(filename, data_transferred))\n",
    "clientrSock1.close()"
   ]
  },
  {
   "cell_type": "code",
   "execution_count": null,
   "id": "5fb416fc",
   "metadata": {},
   "outputs": [],
   "source": []
  }
 ],
 "metadata": {
  "kernelspec": {
   "display_name": "Python 3 (ipykernel)",
   "language": "python",
   "name": "python3"
  },
  "language_info": {
   "codemirror_mode": {
    "name": "ipython",
    "version": 3
   },
   "file_extension": ".py",
   "mimetype": "text/x-python",
   "name": "python",
   "nbconvert_exporter": "python",
   "pygments_lexer": "ipython3",
   "version": "3.8.16"
  }
 },
 "nbformat": 4,
 "nbformat_minor": 5
}
