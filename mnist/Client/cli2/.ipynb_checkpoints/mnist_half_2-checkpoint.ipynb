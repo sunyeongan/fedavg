{
 "cells": [
  {
   "cell_type": "code",
   "execution_count": 1,
   "id": "7cb2b872",
   "metadata": {},
   "outputs": [],
   "source": [
    "import numpy as np\n",
    "%matplotlib inline\n",
    "import matplotlib.pyplot as plt\n",
    "from PIL import Image"
   ]
  },
  {
   "cell_type": "code",
   "execution_count": 2,
   "id": "c7a33e0f",
   "metadata": {},
   "outputs": [],
   "source": [
    "import gc\n",
    "import torch\n",
    "\n",
    "gc.collect()\n",
    "torch.cuda.empty_cache()"
   ]
  },
  {
   "cell_type": "code",
   "execution_count": 3,
   "id": "dd5ac00a",
   "metadata": {},
   "outputs": [
    {
     "data": {
      "text/plain": [
       "[<matplotlib.lines.Line2D at 0x227cdeb7dc0>]"
      ]
     },
     "execution_count": 3,
     "metadata": {},
     "output_type": "execute_result"
    },
    {
     "data": {
      "image/png": "[encoded data removed]",
      "text/plain": [
       "<Figure size 640x480 with 1 Axes>"
      ]
     },
     "metadata": {},
     "output_type": "display_data"
    }
   ],
   "source": [
    "plt.plot([1,2,3,4])"
   ]
  },
  {
   "cell_type": "code",
   "execution_count": 4,
   "id": "d3c173e0",
   "metadata": {},
   "outputs": [],
   "source": [
    "import torch\n",
    "import torchvision\n",
    "from torchvision import datasets, models, transforms\n",
    "import torch.nn as nn\n",
    "from torch.nn import functional as F\n",
    "import torch.optim as optim\n",
    "from torch.autograd import Variable\n",
    "from torch.utils.data.sampler import SubsetRandomSampler"
   ]
  },
  {
   "cell_type": "code",
   "execution_count": 12,
   "id": "7fbb6be6",
   "metadata": {},
   "outputs": [
    {
     "data": {
      "text/plain": [
       "'D:\\\\asy10\\\\FL_project\\\\mnist\\\\Client\\\\cli1'"
      ]
     },
     "execution_count": 12,
     "metadata": {},
     "output_type": "execute_result"
    }
   ],
   "source": [
    "pwd"
   ]
  },
  {
   "cell_type": "code",
   "execution_count": 11,
   "id": "a24d5839",
   "metadata": {},
   "outputs": [
    {
     "name": "stdout",
     "output_type": "stream",
     "text": [
      "연결 성공! \n",
      "D:\\asy10\\FL_project\\mnist\\Client\\cli1\\server-global-model_1.pth\n",
      "파일 server-global-model_1.pth 받기 완료 : 전송량 5912669 \n"
     ]
    }
   ],
   "source": [
    "# 클라이언트와의 접속 확인 \n",
    "# 서버로부터 클로벌 모델 파일 명 recv \n",
    "# 서버로부터  모델 파일 recv\n",
    "from socket import *\n",
    "from os.path import exists\n",
    "import sys\n",
    "import os \n",
    "\n",
    "    \n",
    "\n",
    "    \n",
    "clientSock1 = socket(AF_INET, SOCK_STREAM)\n",
    "clientSock1.connect(('127.0.0.1', 2266))\n",
    "\n",
    "print('연결 성공! ')\n",
    "#filename = '/server-global-eff-model.pth'\n",
    "filename = 'server-global-model_1.pth'\n",
    "clientSock1.sendall(filename.encode())\n",
    "\n",
    "data = clientSock1.recv(4096)\n",
    "data_transferred = 0\n",
    "\n",
    "if not data:\n",
    "    print('파일 %s가 서버에 존재 하지 않음' %filename)\n",
    "    sys.exit()\n",
    "\n",
    "save_dir = os.path.join('D:\\\\asy10\\\\FL_project\\\\mnist\\\\Client\\\\cli1\\\\model_file_cli1', filename)\n",
    "\n",
    "print(save_dir)\n",
    "\n",
    "with open(save_dir, 'wb') as f:\n",
    "    try :\n",
    "        while data:\n",
    "            f.write(data)\n",
    "            data_transferred += len(data)\n",
    "            data = clientSock1.recv(4096)\n",
    "\n",
    "\n",
    "    except Exception as ex:\n",
    "        print(ex)\n",
    "print(\"파일 %s 받기 완료 : 전송량 %d \" %(filename, data_transferred))\n",
    "clientSock1.close()\n",
    "    \n",
    "    "
   ]
  },
  {
   "cell_type": "code",
   "execution_count": 66,
   "id": "f2b687d5",
   "metadata": {},
   "outputs": [
    {
     "name": "stdout",
     "output_type": "stream",
     "text": [
      "연결 성공! \n",
      "D:\\asy10\\fedavg\\Client\\cli1\\model_file_cli1\\server-global-update-2-resnet50-model.pth\n",
      "파일 server-global-update-2-resnet50-model.pth 받기 완료 : 전송량 94467773 \n"
     ]
    }
   ],
   "source": [
    "\n",
    "    \n",
    "    \n",
    "    \n",
    "    \n",
    "    clientrSock1 = socket(AF_INET, SOCK_STREAM)\n",
    "    clientrSock1.connect(('127.0.0.1', 2267))\n",
    "\n",
    "    print('연결 성공! ')\n",
    "    filename = 'h1_resnet50-model-update-c.pt'\n",
    "    clientrSock1.sendall(filename.encode('utf-8')) ## 파일 이름 전송 \n",
    "\n",
    "\n",
    "    data_transferred = 0\n",
    "\n",
    "\n",
    "    print('파일 %s 전송시작 ! ' %filename)\n",
    "\n",
    "\n",
    "    with open(\"./model_file_cli1/\"+filename, 'rb') as f:\n",
    "        try :\n",
    "            data = f.read(2048)\n",
    "            while data:\n",
    "                data_transferred += clientrSock1.send(data) # data 전송 \n",
    "                data = f.read(2048) # 파일에서 2048만큼 읽어오고 \n",
    "        except Exception as ex:\n",
    "            print(ex)\n",
    "    print(\"전송완료 : %s 전송량 %d \" %(filename, data_transferred))\n",
    "    clientrSock1.close()"
   ]
  },
  {
   "cell_type": "code",
   "execution_count": 67,
   "id": "4127d2c4",
   "metadata": {},
   "outputs": [],
   "source": [
    "\n",
    "batch_size = 64\n",
    "learning_rate = 0.01\n",
    "num_epochs = 30"
   ]
  },
  {
   "cell_type": "code",
   "execution_count": 13,
   "id": "e1d37a22",
   "metadata": {},
   "outputs": [
    {
     "name": "stdout",
     "output_type": "stream",
     "text": [
      "Downloading http://yann.lecun.com/exdb/mnist/train-images-idx3-ubyte.gz\n",
      "Downloading http://yann.lecun.com/exdb/mnist/train-images-idx3-ubyte.gz to MNIST_data/MNIST\\raw\\train-images-idx3-ubyte.gz\n"
     ]
    },
    {
     "name": "stderr",
     "output_type": "stream",
     "text": [
      "100%|██████████████████████████████████████████████████████████████████| 9912422/9912422 [00:00<00:00, 24514934.69it/s]\n"
     ]
    },
    {
     "name": "stdout",
     "output_type": "stream",
     "text": [
      "Extracting MNIST_data/MNIST\\raw\\train-images-idx3-ubyte.gz to MNIST_data/MNIST\\raw\n",
      "\n",
      "Downloading http://yann.lecun.com/exdb/mnist/train-labels-idx1-ubyte.gz\n",
      "Downloading http://yann.lecun.com/exdb/mnist/train-labels-idx1-ubyte.gz to MNIST_data/MNIST\\raw\\train-labels-idx1-ubyte.gz\n"
     ]
    },
    {
     "name": "stderr",
     "output_type": "stream",
     "text": [
      "100%|██████████████████████████████████████████████████████████████████████| 28881/28881 [00:00<00:00, 14335585.07it/s]"
     ]
    },
    {
     "name": "stdout",
     "output_type": "stream",
     "text": [
      "Extracting MNIST_data/MNIST\\raw\\train-labels-idx1-ubyte.gz to MNIST_data/MNIST\\raw\n",
      "\n",
      "Downloading http://yann.lecun.com/exdb/mnist/t10k-images-idx3-ubyte.gz\n"
     ]
    },
    {
     "name": "stderr",
     "output_type": "stream",
     "text": [
      "\n"
     ]
    },
    {
     "name": "stdout",
     "output_type": "stream",
     "text": [
      "Downloading http://yann.lecun.com/exdb/mnist/t10k-images-idx3-ubyte.gz to MNIST_data/MNIST\\raw\\t10k-images-idx3-ubyte.gz\n"
     ]
    },
    {
     "name": "stderr",
     "output_type": "stream",
     "text": [
      "100%|███████████████████████████████████████████████████████████████████| 1648877/1648877 [00:00<00:00, 8565929.21it/s]\n"
     ]
    },
    {
     "name": "stdout",
     "output_type": "stream",
     "text": [
      "Extracting MNIST_data/MNIST\\raw\\t10k-images-idx3-ubyte.gz to MNIST_data/MNIST\\raw\n",
      "\n",
      "Downloading http://yann.lecun.com/exdb/mnist/t10k-labels-idx1-ubyte.gz\n",
      "Downloading http://yann.lecun.com/exdb/mnist/t10k-labels-idx1-ubyte.gz to MNIST_data/MNIST\\raw\\t10k-labels-idx1-ubyte.gz\n"
     ]
    },
    {
     "name": "stderr",
     "output_type": "stream",
     "text": [
      "100%|██████████████████████████████████████████████████████████████████████████████████████| 4542/4542 [00:00<?, ?it/s]"
     ]
    },
    {
     "name": "stdout",
     "output_type": "stream",
     "text": [
      "Extracting MNIST_data/MNIST\\raw\\t10k-labels-idx1-ubyte.gz to MNIST_data/MNIST\\raw\n",
      "\n"
     ]
    },
    {
     "name": "stderr",
     "output_type": "stream",
     "text": [
      "\n"
     ]
    }
   ],
   "source": [
    "# Define a transform to normalize the data\n",
    "transform = transforms.Compose([transforms.ToTensor(),\n",
    "                                transforms.Normalize((0.5,), (0.5,))])\n",
    "# Download and load the training data\n",
    "train_data = datasets.MNIST('MNIST_data/', download=True, train=True, transform=transform)\n",
    "train_loader = torch.utils.data.DataLoader(train_data, batch_size=64, shuffle=True)\n",
    "\n",
    "# Download and load the test data\n",
    "test_data = datasets.MNIST('MNIST_data/', download=True, train=False, transform=transform)\n",
    "test_loader = torch.utils.data.DataLoader(test_data, batch_size=64, shuffle=True)"
   ]
  },
  {
   "cell_type": "code",
   "execution_count": 14,
   "id": "4355209b",
   "metadata": {},
   "outputs": [
    {
     "data": {
      "text/plain": [
       "30000"
      ]
     },
     "execution_count": 14,
     "metadata": {},
     "output_type": "execute_result"
    }
   ],
   "source": [
    "len(train_data)//2"
   ]
  },
  {
   "cell_type": "code",
   "execution_count": 26,
   "id": "2da387da",
   "metadata": {},
   "outputs": [
    {
     "data": {
      "text/plain": [
       "60000"
      ]
     },
     "execution_count": 26,
     "metadata": {},
     "output_type": "execute_result"
    }
   ],
   "source": [
    "len(train_data)"
   ]
  },
  {
   "cell_type": "code",
   "execution_count": 15,
   "id": "05337ada",
   "metadata": {},
   "outputs": [
    {
     "data": {
      "text/plain": [
       "10000"
      ]
     },
     "execution_count": 15,
     "metadata": {},
     "output_type": "execute_result"
    }
   ],
   "source": [
    "len(test_data)"
   ]
  },
  {
   "cell_type": "code",
   "execution_count": 71,
   "id": "52e9b88f",
   "metadata": {},
   "outputs": [],
   "source": [
    "#valid_size = 0.2\n",
    "#test_size = 0.1\n",
    "#num_train = len(train_data)//2 # 50000만개의 데이터셋을 나눔 \n",
    "\n",
    "#indices = list(range(num_train)) # 0 ~ 24999\n",
    "\n",
    "#np.random.shuffle(indices) \n"
   ]
  },
  {
   "cell_type": "markdown",
   "id": "5dddc4aa",
   "metadata": {},
   "source": [
    "### 전체 train data 6만개 "
   ]
  },
  {
   "cell_type": "code",
   "execution_count": 27,
   "id": "96f0395c",
   "metadata": {},
   "outputs": [
    {
     "name": "stdout",
     "output_type": "stream",
     "text": [
      "6000\n",
      "24000 6000\n"
     ]
    }
   ],
   "source": [
    "import random\n",
    "\n",
    "valid_size = 0.2\n",
    "test_size = 0.1\n",
    "num_train = len(train_data) # 50000개 중에서 25000개 랜덤 추출 \n",
    "\n",
    "indices = list(range(num_train)) # 0 ~ 24999\n",
    "sample_indices = random.sample(indices, num_train//2) # 50000개 중에서 25000개 랜덤 추출 \n",
    "len(sample_indices)\n",
    "\n",
    "split = int(np.floor(valid_size * (num_train//2))) # 0.2 * 10000\n",
    "print(split)\n",
    "train_idx, valid_idx = sample_indices[split:], sample_indices[:split] # train 20000, valid 5000 개씩 indices 리스트에서 랜덤한 인덱스 가져오기 \n",
    "print(len(train_idx), len(valid_idx))"
   ]
  },
  {
   "cell_type": "code",
   "execution_count": 28,
   "id": "d794433f",
   "metadata": {},
   "outputs": [],
   "source": [
    "train_sampler = SubsetRandomSampler(train_idx)\n",
    "valid_sampler = SubsetRandomSampler(valid_idx)\n",
    "\n",
    "\n",
    "train_loader = torch.utils.data.DataLoader(train_data, batch_size=64,\n",
    "    sampler=train_sampler)\n",
    "valid_loader = torch.utils.data.DataLoader(train_data, batch_size=64, \n",
    "    sampler=valid_sampler)\n",
    "test_loader = torch.utils.data.DataLoader(test_data, batch_size=64)"
   ]
  },
  {
   "cell_type": "code",
   "execution_count": 29,
   "id": "64f52eda",
   "metadata": {},
   "outputs": [
    {
     "data": {
      "image/png": "[encoded data removed]",
      "text/plain": [
       "<Figure size 640x480 with 1 Axes>"
      ]
     },
     "metadata": {},
     "output_type": "display_data"
    }
   ],
   "source": [
    "image, label = train_data[2]\n",
    "plt.imshow(image.squeeze().numpy(), cmap='gray')\n",
    "plt.title('label : %s' % label)\n",
    "plt.show()"
   ]
  },
  {
   "cell_type": "code",
   "execution_count": 30,
   "id": "264c2d2f",
   "metadata": {},
   "outputs": [
    {
     "name": "stdout",
     "output_type": "stream",
     "text": [
      "name            | type                      | size\n",
      "Num of Batch    |                           | 375\n",
      "first_batch     | <class 'list'>            | 2\n",
      "first_batch[0]  | <class 'torch.Tensor'>    | torch.Size([64, 1, 28, 28])\n",
      "first_batch[1]  | <class 'torch.Tensor'>    | torch.Size([64])\n"
     ]
    }
   ],
   "source": [
    "first_batch = train_loader.__iter__().__next__()\n",
    "print('{:15s} | {:<25s} | {}'.format('name', 'type', 'size'))\n",
    "print('{:15s} | {:<25s} | {}'.format('Num of Batch', '', len(train_loader)))\n",
    "print('{:15s} | {:<25s} | {}'.format('first_batch', str(type(first_batch)), len(first_batch)))\n",
    "print('{:15s} | {:<25s} | {}'.format('first_batch[0]', str(type(first_batch[0])), first_batch[0].shape))\n",
    "print('{:15s} | {:<25s} | {}'.format('first_batch[1]', str(type(first_batch[1])), first_batch[1].shape))"
   ]
  },
  {
   "cell_type": "code",
   "execution_count": 38,
   "id": "5353e480",
   "metadata": {},
   "outputs": [
    {
     "name": "stdout",
     "output_type": "stream",
     "text": [
      "working on gpu\n"
     ]
    }
   ],
   "source": [
    "if torch.cuda.is_available():\n",
    "    device = torch.device(\"cuda\")\n",
    "    print(\"working on gpu\")\n",
    "else:\n",
    "    device = torch.device(\"cpu\")\n",
    "    print(\"working on cpu\")"
   ]
  },
  {
   "cell_type": "code",
   "execution_count": 33,
   "id": "6892139f",
   "metadata": {},
   "outputs": [
    {
     "data": {
      "text/plain": [
       "device(type='cuda')"
      ]
     },
     "execution_count": 33,
     "metadata": {},
     "output_type": "execute_result"
    }
   ],
   "source": [
    "device"
   ]
  },
  {
   "cell_type": "code",
   "execution_count": 34,
   "id": "6e4aacb5",
   "metadata": {},
   "outputs": [],
   "source": [
    "classes= [0,1,2,3,4,5,6,7,8,9]"
   ]
  },
  {
   "cell_type": "markdown",
   "id": "460381e4",
   "metadata": {},
   "source": [
    "### 서버로 부터 받은 글로벌 모델 파일 로드하기"
   ]
  },
  {
   "cell_type": "code",
   "execution_count": 36,
   "id": "3e541a61",
   "metadata": {},
   "outputs": [
    {
     "data": {
      "text/plain": [
       "'D:\\\\asy10\\\\FL_project\\\\mnist\\\\Client\\\\cli1'"
      ]
     },
     "execution_count": 36,
     "metadata": {},
     "output_type": "execute_result"
    }
   ],
   "source": [
    "pwd"
   ]
  },
  {
   "cell_type": "code",
   "execution_count": 40,
   "id": "3f73e97a",
   "metadata": {},
   "outputs": [],
   "source": [
    "class Classifier(nn.Module):\n",
    "    def __init__(self):\n",
    "        super(Classifier, self).__init__()\n",
    "        \n",
    "        self.layer1 = nn.Sequential(\n",
    "            nn.Conv2d(in_channels=1, out_channels=32, kernel_size=3, padding=1),\n",
    "            nn.BatchNorm2d(32),\n",
    "            nn.ReLU(),\n",
    "            nn.MaxPool2d(kernel_size=2, stride=2)\n",
    "        )\n",
    "        \n",
    "        self.layer2 = nn.Sequential(\n",
    "            nn.Conv2d(in_channels=32, out_channels=64, kernel_size=3),\n",
    "            nn.BatchNorm2d(64),\n",
    "            nn.ReLU(),\n",
    "            nn.MaxPool2d(2)\n",
    "        )\n",
    "        \n",
    "        self.fc1 = nn.Linear(in_features=64*6*6, out_features=600)\n",
    "        self.drop = nn.Dropout2d(0.25)\n",
    "        self.fc2 = nn.Linear(in_features=600, out_features=120)\n",
    "        self.fc3 = nn.Linear(in_features=120, out_features=10)\n",
    "        \n",
    "    def forward(self, x):\n",
    "        out = self.layer1(x)\n",
    "        out = self.layer2(out)\n",
    "        out = out.view(out.size(0), -1)\n",
    "        out = self.drop(self.fc1(out))\n",
    "        out = self.fc2(out)\n",
    "        out = self.fc3(out)\n",
    "        \n",
    "        return out\n",
    "    \n",
    "def weights_init(m):\n",
    "    if isinstance(m, nn.Linear):\n",
    "        nn.init.xavier_normal_(m.weight) \n",
    "\n",
    "\n",
    "model = torch.load('./model_file_cli1/server-global-model_1.pth')"
   ]
  },
  {
   "cell_type": "code",
   "execution_count": 41,
   "id": "9eb8d440",
   "metadata": {},
   "outputs": [
    {
     "data": {
      "text/plain": [
       "Classifier(\n",
       "  (layer1): Sequential(\n",
       "    (0): Conv2d(1, 32, kernel_size=(3, 3), stride=(1, 1), padding=(1, 1))\n",
       "    (1): BatchNorm2d(32, eps=1e-05, momentum=0.1, affine=True, track_running_stats=True)\n",
       "    (2): ReLU()\n",
       "    (3): MaxPool2d(kernel_size=2, stride=2, padding=0, dilation=1, ceil_mode=False)\n",
       "  )\n",
       "  (layer2): Sequential(\n",
       "    (0): Conv2d(32, 64, kernel_size=(3, 3), stride=(1, 1))\n",
       "    (1): BatchNorm2d(64, eps=1e-05, momentum=0.1, affine=True, track_running_stats=True)\n",
       "    (2): ReLU()\n",
       "    (3): MaxPool2d(kernel_size=2, stride=2, padding=0, dilation=1, ceil_mode=False)\n",
       "  )\n",
       "  (fc1): Linear(in_features=2304, out_features=600, bias=True)\n",
       "  (drop): Dropout2d(p=0.25, inplace=False)\n",
       "  (fc2): Linear(in_features=600, out_features=120, bias=True)\n",
       "  (fc3): Linear(in_features=120, out_features=10, bias=True)\n",
       ")"
      ]
     },
     "execution_count": 41,
     "metadata": {},
     "output_type": "execute_result"
    }
   ],
   "source": [
    "model.to(device)"
   ]
  },
  {
   "cell_type": "code",
   "execution_count": 43,
   "id": "85c4c8a1",
   "metadata": {},
   "outputs": [],
   "source": [
    "criterion = nn.CrossEntropyLoss()\n",
    "optimizer = optim.SGD(model.parameters(), lr=0.001, momentum=0.9, weight_decay=5e-4)\n",
    "scheduler = torch.optim.lr_scheduler.StepLR(optimizer, step_size=10, gamma=0.1)"
   ]
  },
  {
   "cell_type": "code",
   "execution_count": 44,
   "id": "e3bcbedf",
   "metadata": {},
   "outputs": [],
   "source": [
    "from tqdm import tqdm"
   ]
  },
  {
   "cell_type": "code",
   "execution_count": 45,
   "id": "abb94070",
   "metadata": {},
   "outputs": [
    {
     "name": "stderr",
     "output_type": "stream",
     "text": [
      "  0%|                                                                                          | 0/375 [00:00<?, ?it/s]D:\\asy10\\envs\\pytorch\\lib\\site-packages\\torch\\nn\\functional.py:1331: UserWarning: dropout2d: Received a 2-D input to dropout2d, which is deprecated and will result in an error in a future release. To retain the behavior and silence this warning, please use dropout instead. Note that dropout2d exists to provide channel-wise dropout on inputs with 2 spatial dimensions, a channel dimension, and an optional batch dimension (i.e. 3D or 4D inputs).\n",
      "  warnings.warn(warn_msg)\n",
      "100%|████████████████████████████████████████████████████████████████████████████████| 375/375 [00:10<00:00, 34.79it/s]\n",
      "100%|██████████████████████████████████████████████████████████████████████████████████| 94/94 [00:01<00:00, 65.10it/s]\n"
     ]
    },
    {
     "name": "stdout",
     "output_type": "stream",
     "text": [
      "Epoch: 0 \tTraining Loss: 0.305192 \tValidation Loss: 0.122559\n",
      "Epoch: 0 \tTraining accuracy: 0.908333 \tValidation accuracy: 0.961492\n",
      "Validation loss decreased (inf --> 0.122559).  Saving model ...\n"
     ]
    },
    {
     "name": "stderr",
     "output_type": "stream",
     "text": [
      "100%|████████████████████████████████████████████████████████████████████████████████| 375/375 [00:07<00:00, 52.07it/s]\n",
      "100%|██████████████████████████████████████████████████████████████████████████████████| 94/94 [00:01<00:00, 60.64it/s]\n"
     ]
    },
    {
     "name": "stdout",
     "output_type": "stream",
     "text": [
      "Epoch: 1 \tTraining Loss: 0.103573 \tValidation Loss: 0.107349\n",
      "Epoch: 1 \tTraining accuracy: 0.967583 \tValidation accuracy: 0.967254\n",
      "Validation loss decreased (0.122559 --> 0.107349).  Saving model ...\n"
     ]
    },
    {
     "name": "stderr",
     "output_type": "stream",
     "text": [
      "100%|████████████████████████████████████████████████████████████████████████████████| 375/375 [00:07<00:00, 50.55it/s]\n",
      "100%|██████████████████████████████████████████████████████████████████████████████████| 94/94 [00:01<00:00, 67.19it/s]\n"
     ]
    },
    {
     "name": "stdout",
     "output_type": "stream",
     "text": [
      "Epoch: 2 \tTraining Loss: 0.073033 \tValidation Loss: 0.078396\n",
      "Epoch: 2 \tTraining accuracy: 0.976917 \tValidation accuracy: 0.975953\n",
      "Validation loss decreased (0.107349 --> 0.078396).  Saving model ...\n"
     ]
    },
    {
     "name": "stderr",
     "output_type": "stream",
     "text": [
      "100%|████████████████████████████████████████████████████████████████████████████████| 375/375 [00:07<00:00, 51.39it/s]\n",
      "100%|██████████████████████████████████████████████████████████████████████████████████| 94/94 [00:01<00:00, 64.86it/s]\n"
     ]
    },
    {
     "name": "stdout",
     "output_type": "stream",
     "text": [
      "Epoch: 3 \tTraining Loss: 0.060395 \tValidation Loss: 0.076612\n",
      "Epoch: 3 \tTraining accuracy: 0.980542 \tValidation accuracy: 0.976230\n",
      "Validation loss decreased (0.078396 --> 0.076612).  Saving model ...\n"
     ]
    },
    {
     "name": "stderr",
     "output_type": "stream",
     "text": [
      "100%|████████████████████████████████████████████████████████████████████████████████| 375/375 [00:07<00:00, 52.01it/s]\n",
      "100%|██████████████████████████████████████████████████████████████████████████████████| 94/94 [00:01<00:00, 66.47it/s]\n"
     ]
    },
    {
     "name": "stdout",
     "output_type": "stream",
     "text": [
      "Epoch: 4 \tTraining Loss: 0.049983 \tValidation Loss: 0.072302\n",
      "Epoch: 4 \tTraining accuracy: 0.984458 \tValidation accuracy: 0.977006\n",
      "Validation loss decreased (0.076612 --> 0.072302).  Saving model ...\n"
     ]
    },
    {
     "name": "stderr",
     "output_type": "stream",
     "text": [
      "100%|████████████████████████████████████████████████████████████████████████████████| 375/375 [00:07<00:00, 52.18it/s]\n",
      "100%|██████████████████████████████████████████████████████████████████████████████████| 94/94 [00:01<00:00, 62.23it/s]\n"
     ]
    },
    {
     "name": "stdout",
     "output_type": "stream",
     "text": [
      "Epoch: 5 \tTraining Loss: 0.044314 \tValidation Loss: 0.070182\n",
      "Epoch: 5 \tTraining accuracy: 0.985917 \tValidation accuracy: 0.977615\n",
      "Validation loss decreased (0.072302 --> 0.070182).  Saving model ...\n"
     ]
    },
    {
     "name": "stderr",
     "output_type": "stream",
     "text": [
      "100%|████████████████████████████████████████████████████████████████████████████████| 375/375 [00:06<00:00, 60.26it/s]\n",
      "100%|██████████████████████████████████████████████████████████████████████████████████| 94/94 [00:01<00:00, 64.92it/s]\n"
     ]
    },
    {
     "name": "stdout",
     "output_type": "stream",
     "text": [
      "Epoch: 6 \tTraining Loss: 0.038149 \tValidation Loss: 0.063938\n",
      "Epoch: 6 \tTraining accuracy: 0.988458 \tValidation accuracy: 0.980774\n",
      "Validation loss decreased (0.070182 --> 0.063938).  Saving model ...\n"
     ]
    },
    {
     "name": "stderr",
     "output_type": "stream",
     "text": [
      "100%|████████████████████████████████████████████████████████████████████████████████| 375/375 [00:07<00:00, 50.84it/s]\n",
      "100%|██████████████████████████████████████████████████████████████████████████████████| 94/94 [00:01<00:00, 74.54it/s]\n"
     ]
    },
    {
     "name": "stdout",
     "output_type": "stream",
     "text": [
      "Epoch: 7 \tTraining Loss: 0.032712 \tValidation Loss: 0.065067\n",
      "Epoch: 7 \tTraining accuracy: 0.989875 \tValidation accuracy: 0.980275\n"
     ]
    },
    {
     "name": "stderr",
     "output_type": "stream",
     "text": [
      "100%|████████████████████████████████████████████████████████████████████████████████| 375/375 [00:06<00:00, 58.19it/s]\n",
      "100%|██████████████████████████████████████████████████████████████████████████████████| 94/94 [00:01<00:00, 64.56it/s]\n"
     ]
    },
    {
     "name": "stdout",
     "output_type": "stream",
     "text": [
      "Epoch: 8 \tTraining Loss: 0.031877 \tValidation Loss: 0.062191\n",
      "Epoch: 8 \tTraining accuracy: 0.989750 \tValidation accuracy: 0.981549\n",
      "Validation loss decreased (0.063938 --> 0.062191).  Saving model ...\n"
     ]
    },
    {
     "name": "stderr",
     "output_type": "stream",
     "text": [
      "100%|████████████████████████████████████████████████████████████████████████████████| 375/375 [00:06<00:00, 54.27it/s]\n",
      "100%|██████████████████████████████████████████████████████████████████████████████████| 94/94 [00:01<00:00, 78.73it/s]\n"
     ]
    },
    {
     "name": "stdout",
     "output_type": "stream",
     "text": [
      "Epoch: 9 \tTraining Loss: 0.027819 \tValidation Loss: 0.062034\n",
      "Epoch: 9 \tTraining accuracy: 0.991292 \tValidation accuracy: 0.982048\n",
      "Validation loss decreased (0.062191 --> 0.062034).  Saving model ...\n"
     ]
    },
    {
     "name": "stderr",
     "output_type": "stream",
     "text": [
      "100%|████████████████████████████████████████████████████████████████████████████████| 375/375 [00:06<00:00, 58.33it/s]\n",
      "100%|██████████████████████████████████████████████████████████████████████████████████| 94/94 [00:01<00:00, 74.54it/s]\n"
     ]
    },
    {
     "name": "stdout",
     "output_type": "stream",
     "text": [
      "Epoch: 10 \tTraining Loss: 0.021408 \tValidation Loss: 0.058453\n",
      "Epoch: 10 \tTraining accuracy: 0.993917 \tValidation accuracy: 0.983211\n",
      "Validation loss decreased (0.062034 --> 0.058453).  Saving model ...\n"
     ]
    },
    {
     "name": "stderr",
     "output_type": "stream",
     "text": [
      "100%|████████████████████████████████████████████████████████████████████████████████| 375/375 [00:06<00:00, 58.78it/s]\n",
      "100%|██████████████████████████████████████████████████████████████████████████████████| 94/94 [00:01<00:00, 68.02it/s]\n"
     ]
    },
    {
     "name": "stdout",
     "output_type": "stream",
     "text": [
      "Epoch: 11 \tTraining Loss: 0.019671 \tValidation Loss: 0.057529\n",
      "Epoch: 11 \tTraining accuracy: 0.994250 \tValidation accuracy: 0.982547\n",
      "Validation loss decreased (0.058453 --> 0.057529).  Saving model ...\n"
     ]
    },
    {
     "name": "stderr",
     "output_type": "stream",
     "text": [
      "100%|████████████████████████████████████████████████████████████████████████████████| 375/375 [00:06<00:00, 57.77it/s]\n",
      "100%|██████████████████████████████████████████████████████████████████████████████████| 94/94 [00:01<00:00, 68.24it/s]\n"
     ]
    },
    {
     "name": "stdout",
     "output_type": "stream",
     "text": [
      "Epoch: 12 \tTraining Loss: 0.019317 \tValidation Loss: 0.056585\n",
      "Epoch: 12 \tTraining accuracy: 0.994833 \tValidation accuracy: 0.983710\n",
      "Validation loss decreased (0.057529 --> 0.056585).  Saving model ...\n"
     ]
    },
    {
     "name": "stderr",
     "output_type": "stream",
     "text": [
      "100%|████████████████████████████████████████████████████████████████████████████████| 375/375 [00:05<00:00, 63.94it/s]\n",
      "100%|██████████████████████████████████████████████████████████████████████████████████| 94/94 [00:01<00:00, 84.61it/s]\n"
     ]
    },
    {
     "name": "stdout",
     "output_type": "stream",
     "text": [
      "Epoch: 13 \tTraining Loss: 0.018395 \tValidation Loss: 0.055771\n",
      "Epoch: 13 \tTraining accuracy: 0.995083 \tValidation accuracy: 0.983655\n",
      "Validation loss decreased (0.056585 --> 0.055771).  Saving model ...\n"
     ]
    },
    {
     "name": "stderr",
     "output_type": "stream",
     "text": [
      "100%|████████████████████████████████████████████████████████████████████████████████| 375/375 [00:06<00:00, 61.77it/s]\n",
      "100%|██████████████████████████████████████████████████████████████████████████████████| 94/94 [00:01<00:00, 81.31it/s]\n"
     ]
    },
    {
     "name": "stdout",
     "output_type": "stream",
     "text": [
      "Epoch: 14 \tTraining Loss: 0.019918 \tValidation Loss: 0.056312\n",
      "Epoch: 14 \tTraining accuracy: 0.994250 \tValidation accuracy: 0.983322\n"
     ]
    },
    {
     "name": "stderr",
     "output_type": "stream",
     "text": [
      "100%|████████████████████████████████████████████████████████████████████████████████| 375/375 [00:05<00:00, 69.55it/s]\n",
      "100%|██████████████████████████████████████████████████████████████████████████████████| 94/94 [00:01<00:00, 83.85it/s]\n"
     ]
    },
    {
     "name": "stdout",
     "output_type": "stream",
     "text": [
      "Epoch: 15 \tTraining Loss: 0.018223 \tValidation Loss: 0.057148\n",
      "Epoch: 15 \tTraining accuracy: 0.995292 \tValidation accuracy: 0.983211\n"
     ]
    },
    {
     "name": "stderr",
     "output_type": "stream",
     "text": [
      "100%|████████████████████████████████████████████████████████████████████████████████| 375/375 [00:05<00:00, 62.53it/s]\n",
      "100%|██████████████████████████████████████████████████████████████████████████████████| 94/94 [00:01<00:00, 79.97it/s]\n"
     ]
    },
    {
     "name": "stdout",
     "output_type": "stream",
     "text": [
      "Epoch: 16 \tTraining Loss: 0.018319 \tValidation Loss: 0.056476\n",
      "Epoch: 16 \tTraining accuracy: 0.994542 \tValidation accuracy: 0.983710\n"
     ]
    },
    {
     "name": "stderr",
     "output_type": "stream",
     "text": [
      "100%|████████████████████████████████████████████████████████████████████████████████| 375/375 [00:05<00:00, 62.60it/s]\n",
      "100%|██████████████████████████████████████████████████████████████████████████████████| 94/94 [00:01<00:00, 64.40it/s]\n"
     ]
    },
    {
     "name": "stdout",
     "output_type": "stream",
     "text": [
      "Epoch: 17 \tTraining Loss: 0.017652 \tValidation Loss: 0.056688\n",
      "Epoch: 17 \tTraining accuracy: 0.995542 \tValidation accuracy: 0.983488\n"
     ]
    },
    {
     "name": "stderr",
     "output_type": "stream",
     "text": [
      "100%|████████████████████████████████████████████████████████████████████████████████| 375/375 [00:06<00:00, 59.82it/s]\n",
      "100%|██████████████████████████████████████████████████████████████████████████████████| 94/94 [00:01<00:00, 82.85it/s]\n"
     ]
    },
    {
     "name": "stdout",
     "output_type": "stream",
     "text": [
      "Epoch: 18 \tTraining Loss: 0.017312 \tValidation Loss: 0.056130\n",
      "Epoch: 18 \tTraining accuracy: 0.995792 \tValidation accuracy: 0.983322\n"
     ]
    },
    {
     "name": "stderr",
     "output_type": "stream",
     "text": [
      "100%|████████████████████████████████████████████████████████████████████████████████| 375/375 [00:06<00:00, 55.27it/s]\n",
      "100%|██████████████████████████████████████████████████████████████████████████████████| 94/94 [00:01<00:00, 73.78it/s]\n"
     ]
    },
    {
     "name": "stdout",
     "output_type": "stream",
     "text": [
      "Epoch: 19 \tTraining Loss: 0.017686 \tValidation Loss: 0.057053\n",
      "Epoch: 19 \tTraining accuracy: 0.994958 \tValidation accuracy: 0.983544\n"
     ]
    },
    {
     "name": "stderr",
     "output_type": "stream",
     "text": [
      "100%|████████████████████████████████████████████████████████████████████████████████| 375/375 [00:07<00:00, 52.20it/s]\n",
      "100%|██████████████████████████████████████████████████████████████████████████████████| 94/94 [00:01<00:00, 70.86it/s]\n"
     ]
    },
    {
     "name": "stdout",
     "output_type": "stream",
     "text": [
      "Epoch: 20 \tTraining Loss: 0.016887 \tValidation Loss: 0.056645\n",
      "Epoch: 20 \tTraining accuracy: 0.995208 \tValidation accuracy: 0.983488\n"
     ]
    },
    {
     "name": "stderr",
     "output_type": "stream",
     "text": [
      "100%|████████████████████████████████████████████████████████████████████████████████| 375/375 [00:07<00:00, 51.29it/s]\n",
      "100%|██████████████████████████████████████████████████████████████████████████████████| 94/94 [00:01<00:00, 62.81it/s]\n"
     ]
    },
    {
     "name": "stdout",
     "output_type": "stream",
     "text": [
      "Epoch: 21 \tTraining Loss: 0.017127 \tValidation Loss: 0.056548\n",
      "Epoch: 21 \tTraining accuracy: 0.995500 \tValidation accuracy: 0.983488\n"
     ]
    },
    {
     "name": "stderr",
     "output_type": "stream",
     "text": [
      "100%|████████████████████████████████████████████████████████████████████████████████| 375/375 [00:06<00:00, 60.63it/s]\n",
      "100%|██████████████████████████████████████████████████████████████████████████████████| 94/94 [00:01<00:00, 76.30it/s]\n"
     ]
    },
    {
     "name": "stdout",
     "output_type": "stream",
     "text": [
      "Epoch: 22 \tTraining Loss: 0.016766 \tValidation Loss: 0.057124\n",
      "Epoch: 22 \tTraining accuracy: 0.995542 \tValidation accuracy: 0.983599\n"
     ]
    },
    {
     "name": "stderr",
     "output_type": "stream",
     "text": [
      "100%|████████████████████████████████████████████████████████████████████████████████| 375/375 [00:06<00:00, 58.81it/s]\n",
      "100%|██████████████████████████████████████████████████████████████████████████████████| 94/94 [00:01<00:00, 75.20it/s]\n"
     ]
    },
    {
     "name": "stdout",
     "output_type": "stream",
     "text": [
      "Epoch: 23 \tTraining Loss: 0.017240 \tValidation Loss: 0.055964\n",
      "Epoch: 23 \tTraining accuracy: 0.995458 \tValidation accuracy: 0.983378\n"
     ]
    },
    {
     "name": "stderr",
     "output_type": "stream",
     "text": [
      "100%|████████████████████████████████████████████████████████████████████████████████| 375/375 [00:07<00:00, 50.91it/s]\n",
      "100%|██████████████████████████████████████████████████████████████████████████████████| 94/94 [00:01<00:00, 69.79it/s]\n"
     ]
    },
    {
     "name": "stdout",
     "output_type": "stream",
     "text": [
      "Epoch: 24 \tTraining Loss: 0.016232 \tValidation Loss: 0.055606\n",
      "Epoch: 24 \tTraining accuracy: 0.996167 \tValidation accuracy: 0.983045\n",
      "Validation loss decreased (0.055771 --> 0.055606).  Saving model ...\n"
     ]
    },
    {
     "name": "stderr",
     "output_type": "stream",
     "text": [
      "100%|████████████████████████████████████████████████████████████████████████████████| 375/375 [00:07<00:00, 53.21it/s]\n",
      "100%|██████████████████████████████████████████████████████████████████████████████████| 94/94 [00:01<00:00, 72.36it/s]\n"
     ]
    },
    {
     "name": "stdout",
     "output_type": "stream",
     "text": [
      "Epoch: 25 \tTraining Loss: 0.017271 \tValidation Loss: 0.056291\n",
      "Epoch: 25 \tTraining accuracy: 0.995125 \tValidation accuracy: 0.983544\n"
     ]
    },
    {
     "name": "stderr",
     "output_type": "stream",
     "text": [
      "100%|████████████████████████████████████████████████████████████████████████████████| 375/375 [00:07<00:00, 52.56it/s]\n",
      "100%|██████████████████████████████████████████████████████████████████████████████████| 94/94 [00:01<00:00, 70.68it/s]\n"
     ]
    },
    {
     "name": "stdout",
     "output_type": "stream",
     "text": [
      "Epoch: 26 \tTraining Loss: 0.016335 \tValidation Loss: 0.055954\n",
      "Epoch: 26 \tTraining accuracy: 0.996375 \tValidation accuracy: 0.983156\n"
     ]
    },
    {
     "name": "stderr",
     "output_type": "stream",
     "text": [
      "100%|████████████████████████████████████████████████████████████████████████████████| 375/375 [00:07<00:00, 52.06it/s]\n",
      "100%|██████████████████████████████████████████████████████████████████████████████████| 94/94 [00:01<00:00, 69.57it/s]\n"
     ]
    },
    {
     "name": "stdout",
     "output_type": "stream",
     "text": [
      "Epoch: 27 \tTraining Loss: 0.016925 \tValidation Loss: 0.055694\n",
      "Epoch: 27 \tTraining accuracy: 0.995667 \tValidation accuracy: 0.982547\n"
     ]
    },
    {
     "name": "stderr",
     "output_type": "stream",
     "text": [
      "100%|████████████████████████████████████████████████████████████████████████████████| 375/375 [00:07<00:00, 52.27it/s]\n",
      "100%|██████████████████████████████████████████████████████████████████████████████████| 94/94 [00:01<00:00, 65.19it/s]\n"
     ]
    },
    {
     "name": "stdout",
     "output_type": "stream",
     "text": [
      "Epoch: 28 \tTraining Loss: 0.016605 \tValidation Loss: 0.056860\n",
      "Epoch: 28 \tTraining accuracy: 0.995917 \tValidation accuracy: 0.983211\n"
     ]
    },
    {
     "name": "stderr",
     "output_type": "stream",
     "text": [
      "100%|████████████████████████████████████████████████████████████████████████████████| 375/375 [00:07<00:00, 52.38it/s]\n",
      "100%|██████████████████████████████████████████████████████████████████████████████████| 94/94 [00:01<00:00, 65.31it/s]"
     ]
    },
    {
     "name": "stdout",
     "output_type": "stream",
     "text": [
      "Epoch: 29 \tTraining Loss: 0.017075 \tValidation Loss: 0.056088\n",
      "Epoch: 29 \tTraining accuracy: 0.995833 \tValidation accuracy: 0.983710\n"
     ]
    },
    {
     "name": "stderr",
     "output_type": "stream",
     "text": [
      "\n"
     ]
    }
   ],
   "source": [
    "# number of epochs to train the model\n",
    "n_epochs = 30\n",
    "\n",
    "valid_loss_min = np.Inf # track change in validation loss\n",
    "\n",
    "# keep track of training and validation loss\n",
    "train_loss = torch.zeros(n_epochs)\n",
    "valid_loss = torch.zeros(n_epochs)\n",
    "\n",
    "train_acc = torch.zeros(n_epochs)\n",
    "valid_acc = torch.zeros(n_epochs)\n",
    "\n",
    "for e in range(0, n_epochs):\n",
    "   \n",
    "    ###################\n",
    "    # train the model #\n",
    "    ###################\n",
    "    model.train()\n",
    "    gc.collect()\n",
    "    torch.cuda.empty_cache()\n",
    "    for data, labels in tqdm(train_loader):\n",
    "        # move tensors to GPU if CUDA is available\n",
    "        data, labels = data.to(device), labels.to(device)\n",
    "        \n",
    "        # clear the gradients of all optimized variables\n",
    "        \n",
    "        optimizer.zero_grad()\n",
    "        # forward pass: compute predicted outputs by passing inputs to the model\n",
    "        logits = model(data)\n",
    "        \n",
    "        # calculate the batch loss\n",
    "        loss = criterion(logits, labels)\n",
    "        # backward pass: compute gradient of the loss with respect to model parameters\n",
    "        loss.backward()\n",
    "        # perform a single optimization step (parameter update)\n",
    "        optimizer.step()\n",
    "        # update training loss\n",
    "        train_loss[e] += loss.item()\n",
    "        \n",
    "        ps = F.softmax(logits, dim=1)\n",
    "        top_p, top_class = ps.topk(1, dim=1)\n",
    "        equals = top_class == labels.reshape(top_class.shape) # 모델의 출력과, 실제 정답 비교 \n",
    "        train_acc[e] += torch.mean(equals.type(torch.float)).detach().cpu()\n",
    "    train_loss[e] /= len(train_loader)\n",
    "    train_acc[e] /= len(train_loader)\n",
    "    scheduler.step()\n",
    "        \n",
    "        \n",
    "    ######################    \n",
    "    # validate the model #\n",
    "    ######################\n",
    "    with torch.no_grad(): \n",
    "        model.eval()\n",
    "        gc.collect()\n",
    "        torch.cuda.empty_cache()\n",
    "        for data, labels in tqdm(valid_loader):\n",
    "            # move tensors to GPU if CUDA is available\n",
    "            data, labels = data.to(device), labels.to(device)\n",
    "            # forward pass: compute predicted outputs by passing inputs to the model\n",
    "            logits = model(data)\n",
    "            # calculate the batch loss\n",
    "            loss = criterion(logits, labels)\n",
    "            # update average validation loss \n",
    "            valid_loss[e] += loss.item()\n",
    "\n",
    "            ps = F.softmax(logits, dim=1)\n",
    "            top_p, top_class = ps.topk(1, dim=1)\n",
    "            equals = top_class == labels.reshape(top_class.shape)\n",
    "            valid_acc[e] += torch.mean(equals.type(torch.float)).detach().cpu()\n",
    "    \n",
    "    # calculate average losses\n",
    "    valid_loss[e] /= len(valid_loader)\n",
    "    valid_acc[e] /= len(valid_loader)\n",
    "        \n",
    "    # print training/validation statistics \n",
    "    print('Epoch: {} \\tTraining Loss: {:.6f} \\tValidation Loss: {:.6f}'.format(\n",
    "        e, train_loss[e], valid_loss[e]))\n",
    "    \n",
    "    # print training/validation statistics \n",
    "    print('Epoch: {} \\tTraining accuracy: {:.6f} \\tValidation accuracy: {:.6f}'.format(\n",
    "        e, train_acc[e], valid_acc[e]))\n",
    "    \n",
    "    # save model if validation loss has decreased\n",
    "    if valid_loss[e] <= valid_loss_min:\n",
    "        print('Validation loss decreased ({:.6f} --> {:.6f}).  Saving model ...'.format(\n",
    "        valid_loss_min,\n",
    "        valid_loss[e]))\n",
    "        torch.save(model.state_dict(), './model_file_cli1/mnist-model-update-1.pt')\n",
    "        valid_loss_min = valid_loss[e]"
   ]
  },
  {
   "cell_type": "code",
   "execution_count": 46,
   "id": "de0020f3",
   "metadata": {},
   "outputs": [
    {
     "data": {
      "text/plain": [
       "<matplotlib.legend.Legend at 0x227dcd4b280>"
      ]
     },
     "execution_count": 46,
     "metadata": {},
     "output_type": "execute_result"
    },
    {
     "data": {
      "image/png": "[encoded data removed]",
      "text/plain": [
       "<Figure size 640x480 with 1 Axes>"
      ]
     },
     "metadata": {},
     "output_type": "display_data"
    }
   ],
   "source": [
    "import matplotlib.pyplot as plt\n",
    "\n",
    "plt.plot(train_loss, label = 'training loss')\n",
    "plt.plot(valid_loss, label = 'validation loss')\n",
    "plt.legend()"
   ]
  },
  {
   "cell_type": "code",
   "execution_count": 47,
   "id": "79664c05",
   "metadata": {},
   "outputs": [
    {
     "data": {
      "text/plain": [
       "<matplotlib.legend.Legend at 0x227de94e6a0>"
      ]
     },
     "execution_count": 47,
     "metadata": {},
     "output_type": "execute_result"
    },
    {
     "data": {
      "image/png": "[encoded data removed]",
      "text/plain": [
       "<Figure size 640x480 with 1 Axes>"
      ]
     },
     "metadata": {},
     "output_type": "display_data"
    }
   ],
   "source": [
    "plt.plot(train_acc, label = 'training accuracy')\n",
    "plt.plot(valid_acc, label = 'validation accuracy')\n",
    "plt.legend()"
   ]
  },
  {
   "cell_type": "code",
   "execution_count": 48,
   "id": "0b06291b",
   "metadata": {},
   "outputs": [
    {
     "data": {
      "text/plain": [
       "'D:\\\\asy10\\\\FL_project\\\\mnist\\\\Client\\\\cli1'"
      ]
     },
     "execution_count": 48,
     "metadata": {},
     "output_type": "execute_result"
    }
   ],
   "source": [
    "pwd"
   ]
  },
  {
   "cell_type": "code",
   "execution_count": 49,
   "id": "44dd8700",
   "metadata": {},
   "outputs": [
    {
     "data": {
      "text/plain": [
       "<All keys matched successfully>"
      ]
     },
     "execution_count": 49,
     "metadata": {},
     "output_type": "execute_result"
    }
   ],
   "source": [
    "model.load_state_dict(torch.load( './model_file_cli1/mnist-model-update-1.pt'))"
   ]
  },
  {
   "cell_type": "code",
   "execution_count": 51,
   "id": "92ac1339",
   "metadata": {},
   "outputs": [
    {
     "name": "stdout",
     "output_type": "stream",
     "text": [
      "Test Loss: 0.041126\n",
      "\n",
      "Test Accuracy: 0.987162\n",
      "\n",
      "Test Accuracy of     0: 99% (972/980)\n",
      "Test Accuracy of     1: 99% (1127/1135)\n",
      "Test Accuracy of     2: 98% (1021/1032)\n",
      "Test Accuracy of     3: 99% (1000/1010)\n",
      "Test Accuracy of     4: 98% (971/982)\n",
      "Test Accuracy of     5: 98% (880/892)\n",
      "Test Accuracy of     6: 98% (943/958)\n",
      "Test Accuracy of     7: 98% (1013/1028)\n",
      "Test Accuracy of     8: 98% (960/974)\n",
      "Test Accuracy of     9: 97% (984/1009)\n"
     ]
    }
   ],
   "source": [
    "# track test loss\n",
    "test_loss = 0.0\n",
    "test_acc = 0.0\n",
    "\n",
    "class_correct = torch.zeros(100)\n",
    "class_total = torch.zeros(100)\n",
    "\n",
    "model.eval()\n",
    "# iterate over test data\n",
    "for data, labels in test_loader:\n",
    "    # move tensors to GPU if CUDA is available\n",
    "    data, labels = data.to(device), labels.to(device)\n",
    "    # forward pass: compute predicted outputs by passing inputs to the model\n",
    "    logits = model(data)\n",
    "    # calculate the batch loss\n",
    "    loss = criterion(logits, labels)\n",
    "    # update test loss \n",
    "    test_loss += loss.item()\n",
    "    \n",
    "    ps = F.softmax(logits, dim=1)\n",
    "    top_p, top_class = ps.topk(1, dim=1)\n",
    "    equals = top_class == labels.reshape(top_class.shape)\n",
    "    test_acc += torch.mean(equals.type(torch.float)).detach().cpu()\n",
    "    \n",
    "    for i in range(len(data)):\n",
    "        label = labels[i]\n",
    "        class_correct[label] += equals[i].item()\n",
    "        class_total[label] += 1\n",
    "    \n",
    "\n",
    "# average test loss\n",
    "test_loss = test_loss/len(test_loader)\n",
    "test_acc = test_acc/len(test_loader)\n",
    "print('Test Loss: {:.6f}\\n'.format(test_loss))\n",
    "print('Test Accuracy: {:.6f}\\n'.format(test_acc))\n",
    "\n",
    "for i in range(10):\n",
    "    if class_total[i] > 0:\n",
    "        print('Test Accuracy of %5s: %2d%% (%2d/%2d)' % (\n",
    "            classes[i], 100 * class_correct[i] / class_total[i],\n",
    "            torch.sum(class_correct[i]), torch.sum(class_total[i])))\n",
    "    else:\n",
    "        print('Test Accuracy of %5s: N/A (no training examples)' % (classes[i]))"
   ]
  },
  {
   "cell_type": "markdown",
   "id": "ab6d1efb",
   "metadata": {},
   "source": [
    "### Server로 모델 파라미터 파일 전송"
   ]
  },
  {
   "cell_type": "code",
   "execution_count": 1,
   "id": "8554ca94",
   "metadata": {},
   "outputs": [
    {
     "data": {
      "text/plain": [
       "'D:\\\\asy10\\\\FL_project'"
      ]
     },
     "execution_count": 1,
     "metadata": {},
     "output_type": "execute_result"
    }
   ],
   "source": []
  },
  {
   "cell_type": "code",
   "execution_count": 90,
   "id": "f09699aa",
   "metadata": {},
   "outputs": [
    {
     "name": "stdout",
     "output_type": "stream",
     "text": [
      "연결 성공! \n",
      "파일 h1_resnet50-model-update-3.pt 전송시작 ! \n",
      "전송완료 : h1_resnet50-model-update-3.pt 전송량 94437415 \n"
     ]
    }
   ],
   "source": [
    "# 서버랑 연결 접속 확인 \n",
    "# client에서 server로 모델 파일 send\n",
    "\n",
    "from socket import *\n",
    "from os.path import exists\n",
    "import sys\n",
    "\n",
    "clientrSock1 = socket(AF_INET, SOCK_STREAM)\n",
    "clientrSock1.connect(('127.0.0.1', 2267))\n",
    "\n",
    "print('연결 성공! ')\n",
    "filename = 'mnist-model-update-1.pt'\n",
    "clientrSock1.sendall(filename.encode('utf-8')) ## 파일 이름 전송 \n",
    "\n",
    "\n",
    "data_transferred = 0\n",
    "\n",
    "\n",
    "print('파일 %s 전송시작 ! ' %filename)\n",
    "\n",
    "\n",
    "with open(\"./model_file_cli1/\"+filename, 'rb') as f:\n",
    "    try :\n",
    "        data = f.read(2048)\n",
    "        while data:\n",
    "            data_transferred += clientrSock1.send(data) # data 전송 \n",
    "            data = f.read(2048) # 파일에서 2048만큼 읽어오고 \n",
    "    except Exception as ex:\n",
    "        print(ex)\n",
    "print(\"전송완료 : %s 전송량 %d \" %(filename, data_transferred))\n",
    "clientrSock1.close()"
   ]
  },
  {
   "cell_type": "code",
   "execution_count": null,
   "id": "f85a06e2",
   "metadata": {},
   "outputs": [],
   "source": []
  }
 ],
 "metadata": {
  "kernelspec": {
   "display_name": "Python 3 (ipykernel)",
   "language": "python",
   "name": "python3"
  },
  "language_info": {
   "codemirror_mode": {
    "name": "ipython",
    "version": 3
   },
   "file_extension": ".py",
   "mimetype": "text/x-python",
   "name": "python",
   "nbconvert_exporter": "python",
   "pygments_lexer": "ipython3",
   "version": "3.8.16"
  }
 },
 "nbformat": 4,
 "nbformat_minor": 5
}
