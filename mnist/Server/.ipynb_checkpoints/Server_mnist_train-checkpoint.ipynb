{
 "cells": [
  {
   "cell_type": "code",
   "execution_count": 3,
   "id": "c1af0274",
   "metadata": {},
   "outputs": [],
   "source": [
    "import torch\n",
    "import torchvision\n",
    "from torchvision import datasets, models, transforms\n",
    "import torch.nn as nn\n",
    "from torch.nn import functional as F\n",
    "import torch.optim as optim\n",
    "from torch.autograd import Variable\n",
    "from torch.utils.data.sampler import SubsetRandomSampler"
   ]
  },
  {
   "cell_type": "code",
   "execution_count": 4,
   "id": "2f993da2",
   "metadata": {},
   "outputs": [
    {
     "name": "stdout",
     "output_type": "stream",
     "text": [
      "working on gpu\n"
     ]
    }
   ],
   "source": [
    "if torch.cuda.is_available():\n",
    "    device = torch.device(\"cuda\")\n",
    "    print(\"working on gpu\")\n",
    "else:\n",
    "    device = torch.device(\"cpu\")\n",
    "    print(\"working on cpu\")"
   ]
  },
  {
   "cell_type": "code",
   "execution_count": 5,
   "id": "c2899d81",
   "metadata": {},
   "outputs": [
    {
     "data": {
      "text/plain": [
       "Classifier(\n",
       "  (layer1): Sequential(\n",
       "    (0): Conv2d(1, 32, kernel_size=(3, 3), stride=(1, 1), padding=(1, 1))\n",
       "    (1): BatchNorm2d(32, eps=1e-05, momentum=0.1, affine=True, track_running_stats=True)\n",
       "    (2): ReLU()\n",
       "    (3): MaxPool2d(kernel_size=2, stride=2, padding=0, dilation=1, ceil_mode=False)\n",
       "  )\n",
       "  (layer2): Sequential(\n",
       "    (0): Conv2d(32, 64, kernel_size=(3, 3), stride=(1, 1))\n",
       "    (1): BatchNorm2d(64, eps=1e-05, momentum=0.1, affine=True, track_running_stats=True)\n",
       "    (2): ReLU()\n",
       "    (3): MaxPool2d(kernel_size=2, stride=2, padding=0, dilation=1, ceil_mode=False)\n",
       "  )\n",
       "  (fc1): Linear(in_features=2304, out_features=600, bias=True)\n",
       "  (drop): Dropout2d(p=0.25, inplace=False)\n",
       "  (fc2): Linear(in_features=600, out_features=120, bias=True)\n",
       "  (fc3): Linear(in_features=120, out_features=10, bias=True)\n",
       ")"
      ]
     },
     "execution_count": 5,
     "metadata": {},
     "output_type": "execute_result"
    }
   ],
   "source": [
    "class Classifier(nn.Module):\n",
    "    def __init__(self):\n",
    "        super(Classifier, self).__init__()\n",
    "        \n",
    "        self.layer1 = nn.Sequential(\n",
    "            nn.Conv2d(in_channels=1, out_channels=32, kernel_size=3, padding=1),\n",
    "            nn.BatchNorm2d(32),\n",
    "            nn.ReLU(),\n",
    "            nn.MaxPool2d(kernel_size=2, stride=2)\n",
    "        )\n",
    "        \n",
    "        self.layer2 = nn.Sequential(\n",
    "            nn.Conv2d(in_channels=32, out_channels=64, kernel_size=3),\n",
    "            nn.BatchNorm2d(64),\n",
    "            nn.ReLU(),\n",
    "            nn.MaxPool2d(2)\n",
    "        )\n",
    "        \n",
    "        self.fc1 = nn.Linear(in_features=64*6*6, out_features=600)\n",
    "        self.drop = nn.Dropout2d(0.25)\n",
    "        self.fc2 = nn.Linear(in_features=600, out_features=120)\n",
    "        self.fc3 = nn.Linear(in_features=120, out_features=10)\n",
    "        \n",
    "    def forward(self, x):\n",
    "        out = self.layer1(x)\n",
    "        out = self.layer2(out)\n",
    "        out = out.view(out.size(0), -1)\n",
    "        out = self.drop(self.fc1(out))\n",
    "        out = self.fc2(out)\n",
    "        out = self.fc3(out)\n",
    "        \n",
    "        return out\n",
    "    \n",
    "def weights_init(m):\n",
    "    if isinstance(m, nn.Linear):\n",
    "        nn.init.xavier_normal_(m.weight) \n",
    "\n",
    "    \n",
    "model = Classifier()\n",
    "model.apply(weights_init)\n",
    "model.to(device)"
   ]
  },
  {
   "cell_type": "code",
   "execution_count": 5,
   "id": "8161af19",
   "metadata": {},
   "outputs": [],
   "source": [
    "torch.save(model, './model_file/server-global-model_1.pth')"
   ]
  },
  {
   "cell_type": "markdown",
   "id": "c65a95ec",
   "metadata": {},
   "source": [
    "### 서버에서 먼저 global model을 클라이언트에게 전송"
   ]
  },
  {
   "cell_type": "code",
   "execution_count": 96,
   "id": "4781e813",
   "metadata": {},
   "outputs": [
    {
     "name": "stdout",
     "output_type": "stream",
     "text": [
      "('127.0.0.1', 55399) 에서 접속 확인 ! \n",
      "클라이언트가 요청한 파일 :  global-update-2-mnist.pt\n",
      "파일 b'global-update-2-mnist.pt' 전송 시작\n",
      "전송 완료 b'global-update-2-mnist.pt' 전송량 5912669\n",
      "('127.0.0.1', 55400) 에서 접속 확인 ! \n",
      "클라이언트가 요청한 파일 :  global-update-2-mnist.pt\n",
      "파일 b'global-update-2-mnist.pt' 전송 시작\n",
      "전송 완료 b'global-update-2-mnist.pt' 전송량 5912669\n"
     ]
    }
   ],
   "source": [
    "#클라이언트와의 접속 확인 \n",
    "# 클라이언트로 부터 모델 파일 명 recv \n",
    "# 클라이언트로부터 모델 파일 recv\n",
    "\n",
    "#filename = 'server-global-eff-model.pth'\n",
    "\n",
    "from socket import *\n",
    "from os.path import exists\n",
    "import sys\n",
    "import os \n",
    "\n",
    "c = 0 \n",
    "\n",
    "while c < 2:\n",
    "\n",
    "    serverSock = socket(AF_INET, SOCK_STREAM)\n",
    "    serverSock.bind(('',2266))\n",
    "\n",
    "    serverSock.listen(2)\n",
    "\n",
    "    con_sock, addr = serverSock.accept()\n",
    "\n",
    "    print(str(addr),'에서 접속 확인 ! ')\n",
    "\n",
    "\n",
    "    filename = con_sock.recv(1024)\n",
    "    print('클라이언트가 요청한 파일 : ', filename.decode())\n",
    "    data_transferred = 0\n",
    "\n",
    "    if not exists('./model_file/'+filename.decode()):\n",
    "        print('파일이 없습니다.')\n",
    "        sys.exit()\n",
    "\n",
    "    print(\"파일 %s 전송 시작\" %filename)\n",
    "\n",
    "    now_dir = os.path.join('./model_file/', filename.decode())\n",
    "\n",
    "    with open(now_dir, 'rb') as f:\n",
    "        try :\n",
    "            data = f.read(4096)\n",
    "            while data:\n",
    "                data_transferred += con_sock.send(data)\n",
    "\n",
    "                data = f.read(4096)\n",
    "\n",
    "        except Exception as ex:\n",
    "            print(ex)\n",
    "        print(\"전송 완료 %s 전송량 %d\" %(filename, data_transferred))\n",
    "        con_sock.close()\n",
    "        c += 1"
   ]
  },
  {
   "cell_type": "code",
   "execution_count": null,
   "id": "5511b436",
   "metadata": {},
   "outputs": [],
   "source": [
    "\n",
    "    \n",
    "    serverSock = socket(AF_INET, SOCK_STREAM)\n",
    "    serverSock.bind(('',2267))\n",
    "\n",
    "    serverSock.listen(1)\n",
    "\n",
    "    con_sock, addr = serverSock.accept()\n",
    "\n",
    "    print(str(addr),'에서 접속 확인 ! ')\n",
    "\n",
    "    filename = con_sock.recv(1024) # 파일 이름 전송받기\n",
    "    print('받은 파일 이름 : ', filename.decode('utf-8'))\n",
    "\n",
    "    data = con_sock.recv(2048) \n",
    "\n",
    "    data_transferred = 0\n",
    "\n",
    "    save_dir = './model_file/'\n",
    "\n",
    "    with open(save_dir+\"/\"+(filename.decode('utf-8')), 'wb') as f:\n",
    "        try :\n",
    "            while data:\n",
    "                f.write(data)\n",
    "                data_transferred += len(data)\n",
    "                data = con_sock.recv(2048) # 파일 내용 전송받기\n",
    "\n",
    "        except Exception as ex:\n",
    "            print(ex)\n",
    "    print('파일 %s 받기 완료. 전송량 %d ' %(filename, data_transferred))\n",
    "    con_sock.close()"
   ]
  },
  {
   "cell_type": "code",
   "execution_count": 1,
   "id": "3fad7344",
   "metadata": {},
   "outputs": [
    {
     "data": {
      "text/plain": [
       "'D:\\\\asy10\\\\FL_project\\\\mnist\\\\Server'"
      ]
     },
     "execution_count": 1,
     "metadata": {},
     "output_type": "execute_result"
    }
   ],
   "source": [
    "pwd"
   ]
  },
  {
   "cell_type": "markdown",
   "id": "6154686c",
   "metadata": {},
   "source": [
    "### 클라이언트에서 학습 후 파라미터 파일 전송"
   ]
  },
  {
   "cell_type": "code",
   "execution_count": null,
   "id": "2b83ca96",
   "metadata": {},
   "outputs": [],
   "source": [
    "# 클라이언트와의 접속 확인 \n",
    "# 클라이언트로 부터 모델 파일 명 recv \n",
    "# 클라이언트로부터 모델 파일 recv\n",
    "\n",
    "from socket import *\n",
    "from os.path import exists\n",
    "import sys\n",
    "\n",
    "serverSock = socket(AF_INET, SOCK_STREAM)\n",
    "serverSock.bind(('',2266))\n",
    "\n",
    "serverSock.listen(2)\n",
    "\n",
    "con_sock, addr = serverSock.accept()\n",
    "\n",
    "print(str(addr),'에서 접속 확인 ! ')\n",
    "\n",
    "filename = con_sock.recv(1024) # 파일 이름 전송받기\n",
    "print('받은 파일 이름 : ', filename.decode('utf-8'))\n",
    "\n",
    "data = con_sock.recv(2048) \n",
    "\n",
    "data_transferred = 0\n",
    "\n",
    "save_dir = './model_file/'\n",
    "\n",
    "with open(save_dir+\"/\"+(filename.decode('utf-8')), 'wb') as f:\n",
    "    try :\n",
    "        while data:\n",
    "            f.write(data)\n",
    "            data_transferred += len(data)\n",
    "            data = con_sock.recv(2048) # 파일 내용 전송받기\n",
    "            \n",
    "    except Exception as ex:\n",
    "        print(ex)\n",
    "print('파일 %s 받기 완료. 전송량 %d ' %(filename, data_transferred))\n",
    "con_sock.close()"
   ]
  },
  {
   "cell_type": "code",
   "execution_count": 58,
   "id": "a1751a10",
   "metadata": {},
   "outputs": [],
   "source": [
    "statd_dict_1 = torch.load('./model_file/mnist-model-update-2.pt')\n",
    "statd_dict_2 = torch.load('./model_file/mnist-model_2-update-2.pt')"
   ]
  },
  {
   "cell_type": "code",
   "execution_count": 59,
   "id": "c15a66c3",
   "metadata": {},
   "outputs": [
    {
     "data": {
      "text/plain": [
       "tensor([[ 1.3042e-03,  4.0687e-03,  8.0932e-03,  ...,  5.6790e-03,\n",
       "         -2.6205e-03,  3.5270e-03],\n",
       "        [ 7.2628e-05, -3.1145e-04, -9.2494e-04,  ...,  2.4586e-03,\n",
       "          2.5818e-04, -6.2918e-04],\n",
       "        [ 5.4998e-04, -5.2552e-03, -8.0134e-03,  ..., -1.2806e-03,\n",
       "          1.1030e-03, -1.2681e-03],\n",
       "        ...,\n",
       "        [ 3.8105e-03,  1.4709e-02, -3.5658e-04,  ...,  8.2887e-03,\n",
       "         -4.5756e-03,  4.2613e-03],\n",
       "        [-4.4928e-04,  3.3436e-03, -6.8861e-03,  ..., -9.2525e-03,\n",
       "          8.1016e-03, -1.4168e-03],\n",
       "        [-5.4739e-05, -1.6508e-04, -3.5878e-05,  ..., -7.0745e-04,\n",
       "         -4.2229e-04,  1.0192e-04]], device='cuda:0')"
      ]
     },
     "execution_count": 59,
     "metadata": {},
     "output_type": "execute_result"
    }
   ],
   "source": [
    "statd_dict_1['fc1.weight']"
   ]
  },
  {
   "cell_type": "code",
   "execution_count": 60,
   "id": "69f43b73",
   "metadata": {},
   "outputs": [
    {
     "data": {
      "text/plain": [
       "tensor([ 2.4949e-03,  8.9645e-04,  2.1020e-02,  2.5922e-02,  1.8745e-03,\n",
       "        -1.8306e-03, -2.2896e-04,  2.2949e-04, -1.6612e-04, -7.6604e-03,\n",
       "         1.8827e-05,  2.6464e-05, -3.1646e-05,  1.6997e-02, -8.3337e-03,\n",
       "        -5.4429e-05,  7.7966e-04, -4.6811e-04,  4.8868e-04, -7.6708e-05,\n",
       "         5.1138e-04,  4.0604e-03,  1.9391e-02, -9.3822e-04, -1.0004e-04,\n",
       "        -1.6701e-03, -1.8101e-02,  7.3292e-03, -6.7393e-03, -2.5365e-03,\n",
       "        -1.9176e-04,  2.9449e-03, -2.7805e-06, -2.9941e-02, -1.7770e-02,\n",
       "         1.0672e-02, -1.0328e-02, -1.0364e-02, -9.7996e-05, -1.0091e-02,\n",
       "        -5.6021e-04, -5.4685e-04, -9.5237e-03, -1.5465e-04,  2.1963e-03,\n",
       "         1.7036e-04,  1.6772e-05, -6.3426e-03, -1.0878e-02,  1.1680e-02,\n",
       "        -6.5543e-03, -2.1426e-02, -1.9561e-03, -1.6259e-04,  4.3044e-05,\n",
       "        -8.5967e-04, -9.0761e-03,  8.9987e-05,  1.5149e-02, -1.3399e-02,\n",
       "        -5.4663e-04, -1.3833e-03, -1.3536e-02, -9.3995e-03,  7.7975e-03,\n",
       "        -1.6235e-04, -5.8161e-05, -7.2962e-03,  5.6819e-03, -9.3310e-04,\n",
       "         1.3914e-04,  9.1817e-05,  1.1157e-05, -3.2203e-03, -4.0456e-05,\n",
       "        -1.7678e-05,  5.4679e-03, -2.9206e-03,  4.1290e-04,  2.8565e-05,\n",
       "        -3.3804e-03, -6.3455e-03,  3.1177e-05,  2.6185e-02, -9.9203e-05,\n",
       "         1.9609e-04, -5.3896e-03,  1.0465e-03, -5.6754e-03,  1.4299e-05,\n",
       "        -4.3763e-04,  2.4920e-03, -8.8003e-03, -1.2821e-03, -1.0459e-03,\n",
       "         7.2881e-06,  1.4016e-02, -7.6657e-03,  5.9300e-03, -8.0153e-05,\n",
       "         5.5383e-03, -1.2666e-02,  1.4985e-02, -5.4340e-03,  1.8674e-02,\n",
       "         3.4251e-03,  1.9706e-05, -3.7141e-04,  1.2859e-02, -2.5658e-03,\n",
       "         1.2813e-02, -1.5375e-04,  1.6668e-05,  8.9817e-04, -2.6151e-02,\n",
       "         1.8088e-02,  2.0264e-04,  5.4877e-03, -1.0886e-03,  1.0834e-02,\n",
       "         1.8899e-04, -3.2462e-03, -6.0070e-07, -1.2613e-03,  2.4971e-03,\n",
       "        -1.0583e-03,  1.0082e-02,  1.0515e-04, -3.5998e-03,  6.1138e-03,\n",
       "         6.8294e-05,  1.3376e-02, -2.7417e-05,  6.0998e-03,  7.4012e-03,\n",
       "        -2.1483e-05, -1.2515e-02,  2.9608e-06, -1.1119e-02,  4.7464e-03,\n",
       "         4.5518e-03, -1.1553e-04, -5.8387e-03,  1.0307e-02,  4.3077e-05,\n",
       "         5.7100e-04, -1.8620e-05, -1.3955e-03, -1.7729e-03,  2.5876e-02,\n",
       "        -1.9883e-02, -4.7575e-03,  2.7840e-05, -9.0777e-03,  5.3370e-03,\n",
       "         1.8390e-02,  1.3834e-04,  7.8953e-04,  3.3218e-03,  1.7833e-03,\n",
       "        -3.9710e-03,  1.9845e-03,  4.0236e-04,  9.7125e-05, -4.7605e-03,\n",
       "         1.6971e-04, -2.0642e-04, -1.4460e-02,  1.9249e-03, -1.7352e-04,\n",
       "         2.5218e-05, -1.4344e-02,  2.0654e-03,  2.7032e-05, -5.0526e-05,\n",
       "        -4.3123e-05, -2.6953e-02, -6.0812e-05,  2.0093e-02,  1.0722e-02,\n",
       "         1.3341e-04, -1.4582e-02,  1.4146e-03, -7.0029e-03, -1.6106e-02,\n",
       "         2.7227e-03, -5.3272e-05,  1.8764e-05,  1.2679e-05, -1.2412e-04,\n",
       "        -2.8633e-03, -4.9303e-02, -5.9692e-03, -1.9171e-03,  3.8339e-03,\n",
       "        -1.4975e-02,  4.3004e-05, -2.1099e-02,  1.6266e-02, -1.1986e-03,\n",
       "         2.8081e-02, -5.2190e-05, -3.2775e-02,  1.0496e-05, -1.2059e-04,\n",
       "         1.5387e-02, -7.3794e-04, -1.3049e-03, -1.5797e-02,  3.4668e-05,\n",
       "         1.7565e-02,  5.8649e-04,  2.5966e-03,  3.3592e-03,  4.2028e-04,\n",
       "        -3.8810e-02, -1.6351e-04, -1.9879e-02,  1.3780e-04,  1.6461e-03,\n",
       "        -2.8927e-02, -3.9113e-03, -1.2323e-04, -8.8979e-03,  8.8285e-03,\n",
       "         1.1057e-03, -1.4435e-02,  3.8082e-04, -1.1707e-04,  2.1341e-05,\n",
       "         9.1911e-05, -5.9144e-03, -1.2142e-02,  6.4172e-03,  1.2842e-04,\n",
       "         1.0490e-02,  4.9525e-03, -4.1742e-03,  6.4753e-03,  5.3741e-03,\n",
       "        -1.6004e-06, -1.1077e-02, -8.8387e-03,  8.3298e-03,  9.7787e-05,\n",
       "        -9.0821e-05,  2.8394e-02, -5.7042e-05, -3.5357e-04, -3.8784e-03,\n",
       "        -5.3133e-03, -7.7212e-05,  3.1843e-04,  1.0606e-03, -9.4265e-05,\n",
       "        -2.5324e-02, -5.7362e-04,  2.8144e-02, -4.9081e-03, -2.2244e-04,\n",
       "         1.0974e-02, -1.2158e-02, -1.7880e-02, -1.4445e-02, -1.6748e-02,\n",
       "        -1.3258e-04, -8.2139e-03,  5.7162e-03, -2.9646e-03,  6.6245e-05,\n",
       "        -1.1477e-03,  8.4802e-05, -8.3659e-04,  5.0246e-04, -1.7800e-06,\n",
       "         7.0534e-05, -1.4831e-04,  3.2266e-04, -5.3351e-03,  1.7616e-02,\n",
       "         1.0348e-02,  1.5812e-03,  1.6519e-03,  9.2106e-03, -4.1712e-03,\n",
       "         4.9694e-04, -1.7538e-02, -2.0487e-02,  2.6253e-05,  1.6787e-02,\n",
       "        -4.2432e-03,  1.2106e-04,  1.5983e-04, -4.5528e-04, -8.2940e-07,\n",
       "        -2.2356e-02, -9.7316e-06,  1.7293e-03,  7.0580e-03, -1.3887e-02,\n",
       "        -3.1285e-02, -4.0141e-04,  6.6569e-03,  6.6050e-05, -5.0708e-03,\n",
       "         5.0075e-05, -1.1399e-04, -1.9789e-05,  1.5490e-04, -1.2402e-03,\n",
       "         9.2238e-04, -9.5816e-05, -1.7363e-02,  1.1568e-04, -1.7261e-02,\n",
       "         1.7720e-05, -1.2772e-02, -5.9245e-06, -2.0741e-02,  9.1364e-05,\n",
       "         1.3562e-02, -1.8830e-04, -1.0900e-04,  3.3837e-03, -9.9771e-03,\n",
       "        -7.6567e-03, -6.0831e-04,  7.8452e-05,  2.4737e-05,  3.0464e-03,\n",
       "        -6.5593e-03,  1.4604e-04, -2.1599e-03,  1.2928e-02,  1.0734e-02,\n",
       "        -2.1642e-05, -4.6966e-03, -1.8182e-04, -5.3229e-03, -1.5628e-04,\n",
       "         1.8014e-05,  2.3692e-02, -5.6992e-03,  1.5027e-05,  3.2840e-03,\n",
       "         1.4707e-02, -3.2436e-06,  3.2527e-02,  1.0049e-04,  4.9801e-03,\n",
       "        -2.0884e-02, -1.5550e-04,  1.5044e-02,  8.2797e-05, -2.2376e-04,\n",
       "         4.3700e-05,  2.4196e-05, -1.8979e-03,  6.8694e-06,  5.7074e-03,\n",
       "         2.1212e-04, -8.9076e-05, -5.1120e-04,  1.2111e-02,  5.5921e-04,\n",
       "        -2.5206e-03, -2.7155e-05,  2.5309e-02, -2.1675e-05,  1.7315e-05,\n",
       "         4.6328e-04,  4.4527e-05, -3.5005e-03,  1.5788e-03,  1.6123e-02,\n",
       "        -5.9011e-05, -8.4082e-06, -2.4978e-04, -7.7010e-05,  1.0978e-02,\n",
       "         6.0962e-03,  1.2502e-03,  3.7009e-05,  5.4406e-03,  2.6491e-04,\n",
       "         9.8380e-03,  3.1442e-04, -5.2957e-04,  1.6064e-02, -1.4294e-05,\n",
       "        -5.3252e-04,  4.5745e-02,  1.2056e-02,  9.9982e-03,  1.2107e-02,\n",
       "        -2.0112e-04,  9.6195e-03, -9.3225e-03,  5.9061e-03, -4.0102e-03,\n",
       "         7.3292e-03, -3.5745e-03, -2.0999e-02, -9.8283e-03,  2.3308e-02,\n",
       "         1.4560e-03,  2.9459e-04,  5.9390e-03,  2.1671e-02,  7.0510e-06,\n",
       "         3.9252e-04,  3.7178e-06, -7.6652e-03, -2.2013e-02,  6.9686e-05,\n",
       "        -6.8315e-04,  1.3253e-02, -4.7720e-03, -2.2457e-02,  6.2143e-03,\n",
       "         9.5535e-03,  6.1247e-08,  1.1598e-02, -1.0926e-04,  8.8066e-05,\n",
       "         1.7042e-03,  2.0347e-04,  1.3481e-02,  8.9743e-06,  6.7866e-03,\n",
       "         1.1985e-02,  5.2363e-04, -8.7999e-03,  1.7713e-02, -2.9820e-05,\n",
       "         1.1969e-03,  2.7737e-03, -4.0588e-03, -2.5075e-05, -1.4571e-02,\n",
       "        -1.0122e-03,  6.4830e-06,  5.2811e-03, -1.2509e-03, -2.1037e-06,\n",
       "        -2.3349e-06, -1.7503e-04, -1.2855e-02,  7.1825e-03,  4.2129e-03,\n",
       "         2.9721e-05, -4.0363e-04,  2.3995e-03,  1.2920e-02,  6.7776e-03,\n",
       "         1.2552e-04, -1.5537e-02,  2.7555e-02,  2.4151e-06,  7.8180e-03,\n",
       "         1.0479e-02, -3.2043e-03, -1.7802e-04, -3.0168e-02, -8.0507e-03,\n",
       "        -2.8398e-04, -2.0105e-02, -1.2371e-04,  3.7543e-03,  7.4390e-03,\n",
       "         8.1079e-03, -3.7886e-05,  9.6249e-03,  1.4358e-02,  2.9972e-03,\n",
       "        -1.9892e-02, -1.2945e-02,  3.4364e-05,  9.8590e-03,  3.2279e-03,\n",
       "        -3.8664e-04, -3.9407e-04, -8.5386e-04,  1.3218e-03, -1.5509e-02,\n",
       "         3.3360e-04, -1.4277e-03,  6.9336e-03,  1.8500e-02, -9.9163e-03,\n",
       "        -9.1486e-03,  9.1857e-03, -9.9554e-04, -9.6060e-03,  7.4641e-05,\n",
       "         1.2569e-03,  7.6516e-03,  4.7831e-03, -1.6759e-02, -1.5076e-05,\n",
       "        -6.7560e-04,  9.5507e-03, -1.9189e-03, -2.1117e-05, -1.0127e-04,\n",
       "        -2.9774e-04,  3.5614e-04,  3.1046e-05, -9.1377e-05, -1.9762e-02,\n",
       "         3.1653e-02, -3.7621e-03,  5.2377e-06,  4.8356e-03, -1.1728e-02,\n",
       "        -4.3179e-03, -8.4459e-05,  1.2889e-03, -6.4748e-04,  8.7663e-03,\n",
       "        -2.5283e-03,  2.7583e-02,  5.7343e-05, -3.7354e-02, -2.8962e-05,\n",
       "        -3.2224e-05, -4.5438e-07,  2.2613e-02,  1.1849e-03,  7.9221e-06,\n",
       "         1.7821e-02,  8.8184e-03,  5.0489e-03, -1.2581e-02,  9.0288e-05,\n",
       "        -5.0097e-04, -1.1627e-04,  5.5663e-03, -7.6786e-03,  1.4410e-02,\n",
       "        -5.2455e-05, -6.3295e-06, -9.5683e-04, -2.0127e-04, -1.1120e-02,\n",
       "        -1.7345e-05, -4.9037e-05,  3.2705e-04,  2.6937e-06,  1.5751e-07,\n",
       "         5.3322e-05,  1.0839e-04, -2.2119e-02,  2.0177e-03, -1.1071e-02,\n",
       "         1.0470e-04, -5.5211e-05, -2.2478e-05, -6.5440e-03, -1.4295e-04,\n",
       "         3.6464e-02,  8.9814e-04,  1.2666e-03, -3.0781e-02, -8.0134e-05,\n",
       "         1.1341e-07, -6.8739e-03, -3.6008e-03, -7.2566e-04,  4.8331e-05,\n",
       "         1.8711e-03,  3.5422e-05,  8.9537e-04,  6.3368e-03, -8.0548e-03,\n",
       "        -5.1395e-03, -5.0865e-03,  2.5011e-04, -3.2324e-03, -3.4528e-05,\n",
       "         8.2794e-03, -4.9332e-06, -6.3913e-05,  1.7135e-02, -2.1966e-05,\n",
       "        -1.3145e-03, -1.0461e-03,  1.8470e-02, -4.1747e-05, -9.1371e-06,\n",
       "        -1.4452e-03,  1.4838e-04,  2.8295e-05,  2.0209e-02, -7.2728e-03,\n",
       "        -8.6303e-04, -1.1521e-03,  3.2028e-02, -1.3969e-02, -4.2642e-04],\n",
       "       device='cuda:0')"
      ]
     },
     "execution_count": 60,
     "metadata": {},
     "output_type": "execute_result"
    }
   ],
   "source": [
    "statd_dict_1['fc1.bias']"
   ]
  },
  {
   "cell_type": "code",
   "execution_count": 62,
   "id": "636578af",
   "metadata": {},
   "outputs": [
    {
     "data": {
      "text/plain": [
       "tensor([[ 1.3249e-03,  4.1634e-03,  8.1167e-03,  ...,  5.7560e-03,\n",
       "         -2.4962e-03,  3.5912e-03],\n",
       "        [ 7.3185e-05, -3.0672e-04, -9.3269e-04,  ...,  2.4745e-03,\n",
       "          2.6708e-04, -6.2269e-04],\n",
       "        [ 5.6783e-04, -5.1339e-03, -8.0625e-03,  ..., -1.2681e-03,\n",
       "          1.1019e-03, -1.3062e-03],\n",
       "        ...,\n",
       "        [ 3.8172e-03,  1.4738e-02, -4.2087e-04,  ...,  8.3684e-03,\n",
       "         -4.5224e-03,  4.3090e-03],\n",
       "        [-4.8652e-04,  3.1366e-03, -6.9452e-03,  ..., -9.4001e-03,\n",
       "          8.0511e-03, -1.4302e-03],\n",
       "        [-5.3297e-05, -1.5995e-04, -3.4983e-05,  ..., -7.0117e-04,\n",
       "         -4.1503e-04,  1.0492e-04]], device='cuda:0')"
      ]
     },
     "execution_count": 62,
     "metadata": {},
     "output_type": "execute_result"
    }
   ],
   "source": [
    "statd_dict_2['fc1.weight']"
   ]
  },
  {
   "cell_type": "code",
   "execution_count": 89,
   "id": "7e00876b",
   "metadata": {},
   "outputs": [
    {
     "data": {
      "text/plain": [
       "tensor([ 0.1578, -0.0831,  0.0815, -0.0502,  0.1636, -0.1409,  0.0372, -0.1728,\n",
       "         0.0257, -0.0191], device='cuda:0')"
      ]
     },
     "execution_count": 89,
     "metadata": {},
     "output_type": "execute_result"
    }
   ],
   "source": [
    "statd_dict_2['fc.bias']"
   ]
  },
  {
   "cell_type": "markdown",
   "id": "bebd671c",
   "metadata": {},
   "source": [
    "### fc_weight -> 2차원 텐서, _fc.bias -> 1차원 텐서\n",
    "- 두 개의 클라이언트 모델에서 학습한 weight 파라미터를 평균 내서 global 모델에 넣어준다"
   ]
  },
  {
   "cell_type": "code",
   "execution_count": 63,
   "id": "fd429f55",
   "metadata": {},
   "outputs": [],
   "source": [
    "global_fc1_weight = (statd_dict_1['fc1.weight'] + statd_dict_2['fc1.weight'])/2\n",
    "global_fc2_weight = (statd_dict_1['fc2.weight'] + statd_dict_2['fc2.weight'])/2\n",
    "global_fc3_weight = (statd_dict_1['fc3.weight'] + statd_dict_2['fc3.weight'])/2"
   ]
  },
  {
   "cell_type": "code",
   "execution_count": 64,
   "id": "59b46a89",
   "metadata": {},
   "outputs": [
    {
     "data": {
      "text/plain": [
       "tensor([[-3.3318e-02,  3.1074e-02,  6.9756e-04,  ...,  4.3436e-04,\n",
       "          2.5539e-03, -8.0365e-02],\n",
       "        [ 1.0121e-02, -7.8597e-03,  2.0519e-04,  ...,  5.4084e-04,\n",
       "         -2.7940e-02,  1.1892e-01],\n",
       "        [-9.5620e-03,  8.4737e-03,  5.3996e-04,  ..., -1.9939e-03,\n",
       "          5.8737e-02,  2.5348e-01],\n",
       "        ...,\n",
       "        [-1.6426e-03, -9.6344e-03,  1.5044e-04,  ..., -1.0332e-03,\n",
       "          1.1143e-01, -1.3397e-01],\n",
       "        [-6.7642e-03,  3.6613e-02,  3.2912e-04,  ..., -1.1680e-03,\n",
       "         -2.0314e-02, -1.2301e-01],\n",
       "        [ 1.5670e-02,  1.8631e-02,  2.3244e-05,  ..., -1.9946e-03,\n",
       "          1.2968e-01,  4.1144e-02]], device='cuda:0')"
      ]
     },
     "execution_count": 64,
     "metadata": {},
     "output_type": "execute_result"
    }
   ],
   "source": [
    "global_fc3_weight "
   ]
  },
  {
   "cell_type": "code",
   "execution_count": 65,
   "id": "a9cd7cfa",
   "metadata": {},
   "outputs": [
    {
     "data": {
      "text/plain": [
       "torch.Size([10])"
      ]
     },
     "execution_count": 65,
     "metadata": {},
     "output_type": "execute_result"
    }
   ],
   "source": [
    "global_fc1_bias = (statd_dict_1['fc1.bias'] + statd_dict_2['fc1.bias'])/2\n",
    "global_fc2_bias = (statd_dict_1['fc2.bias'] + statd_dict_2['fc2.bias'])/2\n",
    "global_fc3_bias = (statd_dict_1['fc3.bias'] + statd_dict_2['fc3.bias'])/2\n",
    "global_fc3_bias.shape"
   ]
  },
  {
   "cell_type": "markdown",
   "id": "46efbce3",
   "metadata": {},
   "source": [
    "from efficientnet_pytorch import EfficientNet\n",
    "global_model = EfficientNet.from_pretrained('efficientnet-b0', num_classes=100)\n",
    "\n",
    "\n",
    "for n, p in global_model.named_parameters():\n",
    "    if '_fc' not in n:\n",
    "        p.requires_grad = False\n",
    "        \n"
   ]
  },
  {
   "cell_type": "code",
   "execution_count": 66,
   "id": "bd31fe53",
   "metadata": {},
   "outputs": [],
   "source": [
    "global_model = Classifier()"
   ]
  },
  {
   "cell_type": "code",
   "execution_count": 67,
   "id": "e06c9f0c",
   "metadata": {},
   "outputs": [],
   "source": [
    "global_model.fc1.weight = torch.nn.Parameter(global_fc1_weight)\n",
    "global_model.fc1.bias = torch.nn.Parameter(global_fc1_bias)\n",
    "\n",
    "global_model.fc2.weight = torch.nn.Parameter(global_fc2_weight)\n",
    "global_model.fc2.bias = torch.nn.Parameter(global_fc2_bias)\n",
    "\n",
    "global_model.fc3.weight = torch.nn.Parameter(global_fc3_weight)\n",
    "global_model.fc3.bias = torch.nn.Parameter(global_fc3_bias)\n",
    "\n",
    "\n",
    "global_model = global_model.to(device)"
   ]
  },
  {
   "cell_type": "code",
   "execution_count": 68,
   "id": "8e64b2cf",
   "metadata": {},
   "outputs": [
    {
     "data": {
      "text/plain": [
       "Parameter containing:\n",
       "tensor([[-3.3318e-02,  3.1074e-02,  6.9756e-04,  ...,  4.3436e-04,\n",
       "          2.5539e-03, -8.0365e-02],\n",
       "        [ 1.0121e-02, -7.8597e-03,  2.0519e-04,  ...,  5.4084e-04,\n",
       "         -2.7940e-02,  1.1892e-01],\n",
       "        [-9.5620e-03,  8.4737e-03,  5.3996e-04,  ..., -1.9939e-03,\n",
       "          5.8737e-02,  2.5348e-01],\n",
       "        ...,\n",
       "        [-1.6426e-03, -9.6344e-03,  1.5044e-04,  ..., -1.0332e-03,\n",
       "          1.1143e-01, -1.3397e-01],\n",
       "        [-6.7642e-03,  3.6613e-02,  3.2912e-04,  ..., -1.1680e-03,\n",
       "         -2.0314e-02, -1.2301e-01],\n",
       "        [ 1.5670e-02,  1.8631e-02,  2.3244e-05,  ..., -1.9946e-03,\n",
       "          1.2968e-01,  4.1144e-02]], device='cuda:0', requires_grad=True)"
      ]
     },
     "execution_count": 68,
     "metadata": {},
     "output_type": "execute_result"
    }
   ],
   "source": [
    "global_model.fc3.weight # 클라이언트 웨이트 평균값이 잘 들어감을 확인!"
   ]
  },
  {
   "cell_type": "code",
   "execution_count": 69,
   "id": "45ca8810",
   "metadata": {},
   "outputs": [],
   "source": [
    "import numpy as np\n",
    "%matplotlib inline\n",
    "import matplotlib.pyplot as plt\n",
    "from PIL import Image\n",
    "\n",
    "import numpy as np\n",
    "%matplotlib inline\n",
    "import matplotlib.pyplot as plt\n",
    "from PIL import Image"
   ]
  },
  {
   "cell_type": "code",
   "execution_count": 70,
   "id": "f0eb4dc9",
   "metadata": {},
   "outputs": [
    {
     "data": {
      "text/plain": [
       "[<matplotlib.lines.Line2D at 0x2072f20f550>]"
      ]
     },
     "execution_count": 70,
     "metadata": {},
     "output_type": "execute_result"
    },
    {
     "data": {
      "image/png": "[encoded data removed]",
      "text/plain": [
       "<Figure size 640x480 with 1 Axes>"
      ]
     },
     "metadata": {},
     "output_type": "display_data"
    }
   ],
   "source": [
    "plt.plot([1,2,3,4])"
   ]
  },
  {
   "cell_type": "code",
   "execution_count": 71,
   "id": "a662897d",
   "metadata": {},
   "outputs": [],
   "source": [
    "import torch\n",
    "import torchvision\n",
    "from torchvision import datasets, models, transforms\n",
    "import torch.nn as nn\n",
    "from torch.nn import functional as F\n",
    "import torch.optim as optim\n",
    "from torch.autograd import Variable\n",
    "from torch.utils.data.sampler import SubsetRandomSampler"
   ]
  },
  {
   "cell_type": "code",
   "execution_count": 72,
   "id": "f579f022",
   "metadata": {},
   "outputs": [],
   "source": [
    "batch_size = 64\n",
    "learning_rate = 0.01\n",
    "num_epochs = 30"
   ]
  },
  {
   "cell_type": "code",
   "execution_count": 73,
   "id": "2c4474eb",
   "metadata": {},
   "outputs": [],
   "source": [
    "# Define a transform to normalize the data\n",
    "transform = transforms.Compose([transforms.ToTensor(),\n",
    "                                transforms.Normalize((0.5,), (0.5,))])\n",
    "# Download and load the training data\n",
    "train_data = datasets.MNIST('MNIST_data/', download=True, train=True, transform=transform)\n",
    "train_loader = torch.utils.data.DataLoader(train_data, batch_size=64, shuffle=True)\n",
    "\n",
    "# Download and load the test data\n",
    "test_data = datasets.MNIST('MNIST_data/', download=True, train=False, transform=transform)\n",
    "test_loader = torch.utils.data.DataLoader(test_data, batch_size=64, shuffle=True)"
   ]
  },
  {
   "cell_type": "code",
   "execution_count": 74,
   "id": "0a54bfff",
   "metadata": {},
   "outputs": [
    {
     "data": {
      "text/plain": [
       "60000"
      ]
     },
     "execution_count": 74,
     "metadata": {},
     "output_type": "execute_result"
    }
   ],
   "source": [
    "len(train_data)"
   ]
  },
  {
   "cell_type": "code",
   "execution_count": 75,
   "id": "618ebc1b",
   "metadata": {},
   "outputs": [
    {
     "data": {
      "text/plain": [
       "10000"
      ]
     },
     "execution_count": 75,
     "metadata": {},
     "output_type": "execute_result"
    }
   ],
   "source": [
    "len(test_data)"
   ]
  },
  {
   "cell_type": "code",
   "execution_count": 76,
   "id": "233614be",
   "metadata": {},
   "outputs": [],
   "source": [
    "import random"
   ]
  },
  {
   "cell_type": "code",
   "execution_count": 77,
   "id": "1ba251c0",
   "metadata": {},
   "outputs": [],
   "source": [
    "valid_size = 0.2\n",
    "test_size = 0.1\n",
    "num_train = len(train_data) # 50000개 중에서 25000개 랜덤 추출 \n",
    "\n",
    "indices = list(range(num_train)) # 0 ~ 24999\n",
    "#sample_indices = random.sample(indices, num_train//2)\n",
    "len(indices)\n",
    "np.random.shuffle(indices) \n"
   ]
  },
  {
   "cell_type": "code",
   "execution_count": 78,
   "id": "b4e6c51d",
   "metadata": {},
   "outputs": [
    {
     "name": "stdout",
     "output_type": "stream",
     "text": [
      "12000\n",
      "48000 12000\n"
     ]
    }
   ],
   "source": [
    "split = int(np.floor(valid_size * num_train)) # 0.2 * 10000\n",
    "print(split)\n",
    "train_idx, valid_idx = indices[split:], indices[:split] # train 20000, valid 5000 개씩 indices 리스트에서 랜덤한 인덱스 가져오기 \n",
    "print(len(train_idx), len(valid_idx))"
   ]
  },
  {
   "cell_type": "code",
   "execution_count": 79,
   "id": "07edfafa",
   "metadata": {},
   "outputs": [],
   "source": [
    "num_test = len(test_data)\n",
    "indices = list(range(num_test)) # 10000개 중에서 5000개 랜덤 추출 \n",
    "#sample__test_indices = random.sample(indices, num_test//2)\n",
    "np.random.shuffle(indices) "
   ]
  },
  {
   "cell_type": "code",
   "execution_count": 80,
   "id": "a2245c56",
   "metadata": {},
   "outputs": [],
   "source": [
    "test_idx = indices"
   ]
  },
  {
   "cell_type": "code",
   "execution_count": 81,
   "id": "569c1555",
   "metadata": {},
   "outputs": [],
   "source": [
    "train_sampler = SubsetRandomSampler(train_idx)\n",
    "valid_sampler = SubsetRandomSampler(valid_idx)\n",
    "test_sampler = SubsetRandomSampler(test_idx)"
   ]
  },
  {
   "cell_type": "code",
   "execution_count": 82,
   "id": "f1576244",
   "metadata": {},
   "outputs": [],
   "source": [
    "train_loader = torch.utils.data.DataLoader(train_data, batch_size=batch_size,\n",
    "    sampler=train_sampler)\n",
    "valid_loader = torch.utils.data.DataLoader(train_data, batch_size=batch_size, \n",
    "    sampler=valid_sampler)\n",
    "test_loader = torch.utils.data.DataLoader(test_data, batch_size=batch_size, \n",
    "                                          sampler=test_sampler)"
   ]
  },
  {
   "cell_type": "code",
   "execution_count": 83,
   "id": "810425c2",
   "metadata": {},
   "outputs": [
    {
     "name": "stdout",
     "output_type": "stream",
     "text": [
      "working on gpu\n"
     ]
    }
   ],
   "source": [
    "if torch.cuda.is_available():\n",
    "    device = torch.device(\"cuda\")\n",
    "    print(\"working on gpu\")\n",
    "else:\n",
    "    device = torch.device(\"cpu\")\n",
    "    print(\"working on cpu\")"
   ]
  },
  {
   "cell_type": "code",
   "execution_count": 84,
   "id": "0695eab8",
   "metadata": {},
   "outputs": [],
   "source": [
    "classes= [0,1,2,3,4,5,6,7,8,9]"
   ]
  },
  {
   "cell_type": "code",
   "execution_count": 85,
   "id": "d04d706e",
   "metadata": {},
   "outputs": [],
   "source": [
    "criterion = nn.CrossEntropyLoss()\n",
    "#optimizer = optim.SGD(global_model.parameters(), lr=0.001, momentum=0.9, weight_decay=5e-4)\n",
    "optimizer = torch.optim.Adam(global_model.parameters(),lr=0.001,weight_decay=5e-4)\n",
    "scheduler = torch.optim.lr_scheduler.StepLR(optimizer, step_size=10, gamma=0.1)"
   ]
  },
  {
   "cell_type": "code",
   "execution_count": 86,
   "id": "0660f9ad",
   "metadata": {},
   "outputs": [],
   "source": [
    "from tqdm import tqdm"
   ]
  },
  {
   "cell_type": "code",
   "execution_count": 88,
   "id": "974bcf96",
   "metadata": {},
   "outputs": [
    {
     "name": "stderr",
     "output_type": "stream",
     "text": [
      "100%|████████████████████████████████████████████████████████████████████████████████| 750/750 [00:15<00:00, 48.61it/s]\n",
      "100%|████████████████████████████████████████████████████████████████████████████████| 188/188 [00:02<00:00, 67.75it/s]\n"
     ]
    },
    {
     "name": "stdout",
     "output_type": "stream",
     "text": [
      "Epoch: 0 \tTraining Loss: 0.138709 \tValidation Loss: 0.103062\n",
      "Epoch: 0 \tTraining accuracy: 0.965646 \tValidation accuracy: 0.972739\n",
      "Validation loss decreased (inf --> 0.103062).  Saving model ...\n"
     ]
    },
    {
     "name": "stderr",
     "output_type": "stream",
     "text": [
      "100%|████████████████████████████████████████████████████████████████████████████████| 750/750 [00:15<00:00, 48.79it/s]\n",
      "100%|████████████████████████████████████████████████████████████████████████████████| 188/188 [00:02<00:00, 64.22it/s]\n"
     ]
    },
    {
     "name": "stdout",
     "output_type": "stream",
     "text": [
      "Epoch: 1 \tTraining Loss: 0.076147 \tValidation Loss: 0.064831\n",
      "Epoch: 1 \tTraining accuracy: 0.978125 \tValidation accuracy: 0.981134\n",
      "Validation loss decreased (0.103062 --> 0.064831).  Saving model ...\n"
     ]
    },
    {
     "name": "stderr",
     "output_type": "stream",
     "text": [
      "100%|████████████████████████████████████████████████████████████████████████████████| 750/750 [00:15<00:00, 48.99it/s]\n",
      "100%|████████████████████████████████████████████████████████████████████████████████| 188/188 [00:02<00:00, 68.41it/s]\n"
     ]
    },
    {
     "name": "stdout",
     "output_type": "stream",
     "text": [
      "Epoch: 2 \tTraining Loss: 0.054219 \tValidation Loss: 0.058568\n",
      "Epoch: 2 \tTraining accuracy: 0.982875 \tValidation accuracy: 0.983710\n",
      "Validation loss decreased (0.064831 --> 0.058568).  Saving model ...\n"
     ]
    },
    {
     "name": "stderr",
     "output_type": "stream",
     "text": [
      "100%|████████████████████████████████████████████████████████████████████████████████| 750/750 [00:15<00:00, 48.67it/s]\n",
      "100%|████████████████████████████████████████████████████████████████████████████████| 188/188 [00:02<00:00, 63.17it/s]\n"
     ]
    },
    {
     "name": "stdout",
     "output_type": "stream",
     "text": [
      "Epoch: 3 \tTraining Loss: 0.055572 \tValidation Loss: 0.047596\n",
      "Epoch: 3 \tTraining accuracy: 0.982250 \tValidation accuracy: 0.986120\n",
      "Validation loss decreased (0.058568 --> 0.047596).  Saving model ...\n"
     ]
    },
    {
     "name": "stderr",
     "output_type": "stream",
     "text": [
      "100%|████████████████████████████████████████████████████████████████████████████████| 750/750 [00:15<00:00, 48.93it/s]\n",
      "100%|████████████████████████████████████████████████████████████████████████████████| 188/188 [00:02<00:00, 62.95it/s]\n"
     ]
    },
    {
     "name": "stdout",
     "output_type": "stream",
     "text": [
      "Epoch: 4 \tTraining Loss: 0.049118 \tValidation Loss: 0.057451\n",
      "Epoch: 4 \tTraining accuracy: 0.984292 \tValidation accuracy: 0.982796\n"
     ]
    },
    {
     "name": "stderr",
     "output_type": "stream",
     "text": [
      "100%|████████████████████████████████████████████████████████████████████████████████| 750/750 [00:15<00:00, 48.83it/s]\n",
      "100%|████████████████████████████████████████████████████████████████████████████████| 188/188 [00:02<00:00, 63.45it/s]\n"
     ]
    },
    {
     "name": "stdout",
     "output_type": "stream",
     "text": [
      "Epoch: 5 \tTraining Loss: 0.046877 \tValidation Loss: 0.047987\n",
      "Epoch: 5 \tTraining accuracy: 0.985208 \tValidation accuracy: 0.986536\n"
     ]
    },
    {
     "name": "stderr",
     "output_type": "stream",
     "text": [
      "100%|████████████████████████████████████████████████████████████████████████████████| 750/750 [00:15<00:00, 49.05it/s]\n",
      "100%|████████████████████████████████████████████████████████████████████████████████| 188/188 [00:03<00:00, 62.18it/s]\n"
     ]
    },
    {
     "name": "stdout",
     "output_type": "stream",
     "text": [
      "Epoch: 6 \tTraining Loss: 0.042388 \tValidation Loss: 0.063992\n",
      "Epoch: 6 \tTraining accuracy: 0.986375 \tValidation accuracy: 0.982879\n"
     ]
    },
    {
     "name": "stderr",
     "output_type": "stream",
     "text": [
      "100%|████████████████████████████████████████████████████████████████████████████████| 750/750 [00:15<00:00, 48.83it/s]\n",
      "100%|████████████████████████████████████████████████████████████████████████████████| 188/188 [00:02<00:00, 62.94it/s]\n"
     ]
    },
    {
     "name": "stdout",
     "output_type": "stream",
     "text": [
      "Epoch: 7 \tTraining Loss: 0.041207 \tValidation Loss: 0.058440\n",
      "Epoch: 7 \tTraining accuracy: 0.986750 \tValidation accuracy: 0.980801\n"
     ]
    },
    {
     "name": "stderr",
     "output_type": "stream",
     "text": [
      "100%|████████████████████████████████████████████████████████████████████████████████| 750/750 [00:15<00:00, 48.83it/s]\n",
      "100%|████████████████████████████████████████████████████████████████████████████████| 188/188 [00:02<00:00, 62.87it/s]\n"
     ]
    },
    {
     "name": "stdout",
     "output_type": "stream",
     "text": [
      "Epoch: 8 \tTraining Loss: 0.040895 \tValidation Loss: 0.043689\n",
      "Epoch: 8 \tTraining accuracy: 0.986833 \tValidation accuracy: 0.986785\n",
      "Validation loss decreased (0.047596 --> 0.043689).  Saving model ...\n"
     ]
    },
    {
     "name": "stderr",
     "output_type": "stream",
     "text": [
      "100%|████████████████████████████████████████████████████████████████████████████████| 750/750 [00:15<00:00, 49.24it/s]\n",
      "100%|████████████████████████████████████████████████████████████████████████████████| 188/188 [00:03<00:00, 60.75it/s]\n"
     ]
    },
    {
     "name": "stdout",
     "output_type": "stream",
     "text": [
      "Epoch: 9 \tTraining Loss: 0.036293 \tValidation Loss: 0.044880\n",
      "Epoch: 9 \tTraining accuracy: 0.987708 \tValidation accuracy: 0.986453\n"
     ]
    },
    {
     "name": "stderr",
     "output_type": "stream",
     "text": [
      "100%|████████████████████████████████████████████████████████████████████████████████| 750/750 [00:15<00:00, 48.85it/s]\n",
      "100%|████████████████████████████████████████████████████████████████████████████████| 188/188 [00:02<00:00, 63.49it/s]\n"
     ]
    },
    {
     "name": "stdout",
     "output_type": "stream",
     "text": [
      "Epoch: 10 \tTraining Loss: 0.016154 \tValidation Loss: 0.029946\n",
      "Epoch: 10 \tTraining accuracy: 0.995438 \tValidation accuracy: 0.991273\n",
      "Validation loss decreased (0.043689 --> 0.029946).  Saving model ...\n"
     ]
    },
    {
     "name": "stderr",
     "output_type": "stream",
     "text": [
      "100%|████████████████████████████████████████████████████████████████████████████████| 750/750 [00:15<00:00, 49.03it/s]\n",
      "100%|████████████████████████████████████████████████████████████████████████████████| 188/188 [00:02<00:00, 64.38it/s]\n"
     ]
    },
    {
     "name": "stdout",
     "output_type": "stream",
     "text": [
      "Epoch: 11 \tTraining Loss: 0.011717 \tValidation Loss: 0.029703\n",
      "Epoch: 11 \tTraining accuracy: 0.996667 \tValidation accuracy: 0.991523\n",
      "Validation loss decreased (0.029946 --> 0.029703).  Saving model ...\n"
     ]
    },
    {
     "name": "stderr",
     "output_type": "stream",
     "text": [
      "100%|████████████████████████████████████████████████████████████████████████████████| 750/750 [00:15<00:00, 48.69it/s]\n",
      "100%|████████████████████████████████████████████████████████████████████████████████| 188/188 [00:03<00:00, 61.74it/s]\n"
     ]
    },
    {
     "name": "stdout",
     "output_type": "stream",
     "text": [
      "Epoch: 12 \tTraining Loss: 0.010886 \tValidation Loss: 0.029319\n",
      "Epoch: 12 \tTraining accuracy: 0.997187 \tValidation accuracy: 0.991356\n",
      "Validation loss decreased (0.029703 --> 0.029319).  Saving model ...\n"
     ]
    },
    {
     "name": "stderr",
     "output_type": "stream",
     "text": [
      "100%|████████████████████████████████████████████████████████████████████████████████| 750/750 [00:15<00:00, 49.26it/s]\n",
      "100%|████████████████████████████████████████████████████████████████████████████████| 188/188 [00:02<00:00, 63.50it/s]\n"
     ]
    },
    {
     "name": "stdout",
     "output_type": "stream",
     "text": [
      "Epoch: 13 \tTraining Loss: 0.010032 \tValidation Loss: 0.030507\n",
      "Epoch: 13 \tTraining accuracy: 0.997479 \tValidation accuracy: 0.991356\n"
     ]
    },
    {
     "name": "stderr",
     "output_type": "stream",
     "text": [
      "100%|████████████████████████████████████████████████████████████████████████████████| 750/750 [00:15<00:00, 48.13it/s]\n",
      "100%|████████████████████████████████████████████████████████████████████████████████| 188/188 [00:02<00:00, 66.42it/s]\n"
     ]
    },
    {
     "name": "stdout",
     "output_type": "stream",
     "text": [
      "Epoch: 14 \tTraining Loss: 0.009006 \tValidation Loss: 0.029597\n",
      "Epoch: 14 \tTraining accuracy: 0.998042 \tValidation accuracy: 0.991107\n"
     ]
    },
    {
     "name": "stderr",
     "output_type": "stream",
     "text": [
      "100%|████████████████████████████████████████████████████████████████████████████████| 750/750 [00:15<00:00, 49.25it/s]\n",
      "100%|████████████████████████████████████████████████████████████████████████████████| 188/188 [00:02<00:00, 64.14it/s]\n"
     ]
    },
    {
     "name": "stdout",
     "output_type": "stream",
     "text": [
      "Epoch: 15 \tTraining Loss: 0.009204 \tValidation Loss: 0.032022\n",
      "Epoch: 15 \tTraining accuracy: 0.997979 \tValidation accuracy: 0.990775\n"
     ]
    },
    {
     "name": "stderr",
     "output_type": "stream",
     "text": [
      "100%|████████████████████████████████████████████████████████████████████████████████| 750/750 [00:15<00:00, 48.91it/s]\n",
      "100%|████████████████████████████████████████████████████████████████████████████████| 188/188 [00:02<00:00, 66.44it/s]\n"
     ]
    },
    {
     "name": "stdout",
     "output_type": "stream",
     "text": [
      "Epoch: 16 \tTraining Loss: 0.008323 \tValidation Loss: 0.032083\n",
      "Epoch: 16 \tTraining accuracy: 0.998354 \tValidation accuracy: 0.990525\n"
     ]
    },
    {
     "name": "stderr",
     "output_type": "stream",
     "text": [
      "100%|████████████████████████████████████████████████████████████████████████████████| 750/750 [00:15<00:00, 49.27it/s]\n",
      "100%|████████████████████████████████████████████████████████████████████████████████| 188/188 [00:02<00:00, 63.24it/s]\n"
     ]
    },
    {
     "name": "stdout",
     "output_type": "stream",
     "text": [
      "Epoch: 17 \tTraining Loss: 0.008084 \tValidation Loss: 0.029840\n",
      "Epoch: 17 \tTraining accuracy: 0.998292 \tValidation accuracy: 0.991689\n"
     ]
    },
    {
     "name": "stderr",
     "output_type": "stream",
     "text": [
      "100%|████████████████████████████████████████████████████████████████████████████████| 750/750 [00:15<00:00, 49.37it/s]\n",
      "100%|████████████████████████████████████████████████████████████████████████████████| 188/188 [00:02<00:00, 63.81it/s]\n"
     ]
    },
    {
     "name": "stdout",
     "output_type": "stream",
     "text": [
      "Epoch: 18 \tTraining Loss: 0.007384 \tValidation Loss: 0.030705\n",
      "Epoch: 18 \tTraining accuracy: 0.998521 \tValidation accuracy: 0.990941\n"
     ]
    },
    {
     "name": "stderr",
     "output_type": "stream",
     "text": [
      "100%|████████████████████████████████████████████████████████████████████████████████| 750/750 [00:15<00:00, 48.61it/s]\n",
      "100%|████████████████████████████████████████████████████████████████████████████████| 188/188 [00:03<00:00, 62.29it/s]\n"
     ]
    },
    {
     "name": "stdout",
     "output_type": "stream",
     "text": [
      "Epoch: 19 \tTraining Loss: 0.007067 \tValidation Loss: 0.030054\n",
      "Epoch: 19 \tTraining accuracy: 0.998625 \tValidation accuracy: 0.991356\n"
     ]
    },
    {
     "name": "stderr",
     "output_type": "stream",
     "text": [
      "100%|████████████████████████████████████████████████████████████████████████████████| 750/750 [00:15<00:00, 49.20it/s]\n",
      "100%|████████████████████████████████████████████████████████████████████████████████| 188/188 [00:02<00:00, 64.00it/s]\n"
     ]
    },
    {
     "name": "stdout",
     "output_type": "stream",
     "text": [
      "Epoch: 20 \tTraining Loss: 0.005185 \tValidation Loss: 0.029174\n",
      "Epoch: 20 \tTraining accuracy: 0.999333 \tValidation accuracy: 0.991440\n",
      "Validation loss decreased (0.029319 --> 0.029174).  Saving model ...\n"
     ]
    },
    {
     "name": "stderr",
     "output_type": "stream",
     "text": [
      "100%|████████████████████████████████████████████████████████████████████████████████| 750/750 [00:15<00:00, 48.55it/s]\n",
      "100%|████████████████████████████████████████████████████████████████████████████████| 188/188 [00:02<00:00, 63.32it/s]\n"
     ]
    },
    {
     "name": "stdout",
     "output_type": "stream",
     "text": [
      "Epoch: 21 \tTraining Loss: 0.004771 \tValidation Loss: 0.029310\n",
      "Epoch: 21 \tTraining accuracy: 0.999563 \tValidation accuracy: 0.991440\n"
     ]
    },
    {
     "name": "stderr",
     "output_type": "stream",
     "text": [
      "100%|████████████████████████████████████████████████████████████████████████████████| 750/750 [00:15<00:00, 49.54it/s]\n",
      "100%|████████████████████████████████████████████████████████████████████████████████| 188/188 [00:02<00:00, 62.97it/s]\n"
     ]
    },
    {
     "name": "stdout",
     "output_type": "stream",
     "text": [
      "Epoch: 22 \tTraining Loss: 0.004700 \tValidation Loss: 0.029261\n",
      "Epoch: 22 \tTraining accuracy: 0.999583 \tValidation accuracy: 0.991606\n"
     ]
    },
    {
     "name": "stderr",
     "output_type": "stream",
     "text": [
      "100%|████████████████████████████████████████████████████████████████████████████████| 750/750 [00:15<00:00, 48.83it/s]\n",
      "100%|████████████████████████████████████████████████████████████████████████████████| 188/188 [00:02<00:00, 63.26it/s]\n"
     ]
    },
    {
     "name": "stdout",
     "output_type": "stream",
     "text": [
      "Epoch: 23 \tTraining Loss: 0.004382 \tValidation Loss: 0.029627\n",
      "Epoch: 23 \tTraining accuracy: 0.999729 \tValidation accuracy: 0.991440\n"
     ]
    },
    {
     "name": "stderr",
     "output_type": "stream",
     "text": [
      "100%|████████████████████████████████████████████████████████████████████████████████| 750/750 [00:15<00:00, 49.11it/s]\n",
      "100%|████████████████████████████████████████████████████████████████████████████████| 188/188 [00:02<00:00, 63.27it/s]\n"
     ]
    },
    {
     "name": "stdout",
     "output_type": "stream",
     "text": [
      "Epoch: 24 \tTraining Loss: 0.004508 \tValidation Loss: 0.029533\n",
      "Epoch: 24 \tTraining accuracy: 0.999542 \tValidation accuracy: 0.991190\n"
     ]
    },
    {
     "name": "stderr",
     "output_type": "stream",
     "text": [
      "100%|████████████████████████████████████████████████████████████████████████████████| 750/750 [00:15<00:00, 48.67it/s]\n",
      "100%|████████████████████████████████████████████████████████████████████████████████| 188/188 [00:02<00:00, 63.32it/s]\n"
     ]
    },
    {
     "name": "stdout",
     "output_type": "stream",
     "text": [
      "Epoch: 25 \tTraining Loss: 0.004486 \tValidation Loss: 0.029851\n",
      "Epoch: 25 \tTraining accuracy: 0.999625 \tValidation accuracy: 0.991024\n"
     ]
    },
    {
     "name": "stderr",
     "output_type": "stream",
     "text": [
      "100%|████████████████████████████████████████████████████████████████████████████████| 750/750 [00:15<00:00, 49.38it/s]\n",
      "100%|████████████████████████████████████████████████████████████████████████████████| 188/188 [00:02<00:00, 63.66it/s]\n"
     ]
    },
    {
     "name": "stdout",
     "output_type": "stream",
     "text": [
      "Epoch: 26 \tTraining Loss: 0.004395 \tValidation Loss: 0.029994\n",
      "Epoch: 26 \tTraining accuracy: 0.999583 \tValidation accuracy: 0.991440\n"
     ]
    },
    {
     "name": "stderr",
     "output_type": "stream",
     "text": [
      "100%|████████████████████████████████████████████████████████████████████████████████| 750/750 [00:15<00:00, 49.01it/s]\n",
      "100%|████████████████████████████████████████████████████████████████████████████████| 188/188 [00:02<00:00, 65.76it/s]\n"
     ]
    },
    {
     "name": "stdout",
     "output_type": "stream",
     "text": [
      "Epoch: 27 \tTraining Loss: 0.004291 \tValidation Loss: 0.029445\n",
      "Epoch: 27 \tTraining accuracy: 0.999687 \tValidation accuracy: 0.991273\n"
     ]
    },
    {
     "name": "stderr",
     "output_type": "stream",
     "text": [
      "100%|████████████████████████████████████████████████████████████████████████████████| 750/750 [00:15<00:00, 49.20it/s]\n",
      "100%|████████████████████████████████████████████████████████████████████████████████| 188/188 [00:03<00:00, 62.34it/s]\n"
     ]
    },
    {
     "name": "stdout",
     "output_type": "stream",
     "text": [
      "Epoch: 28 \tTraining Loss: 0.004503 \tValidation Loss: 0.029618\n",
      "Epoch: 28 \tTraining accuracy: 0.999687 \tValidation accuracy: 0.991606\n"
     ]
    },
    {
     "name": "stderr",
     "output_type": "stream",
     "text": [
      "100%|████████████████████████████████████████████████████████████████████████████████| 750/750 [00:15<00:00, 49.64it/s]\n",
      "100%|████████████████████████████████████████████████████████████████████████████████| 188/188 [00:03<00:00, 62.34it/s]"
     ]
    },
    {
     "name": "stdout",
     "output_type": "stream",
     "text": [
      "Epoch: 29 \tTraining Loss: 0.004324 \tValidation Loss: 0.029771\n",
      "Epoch: 29 \tTraining accuracy: 0.999667 \tValidation accuracy: 0.991273\n"
     ]
    },
    {
     "name": "stderr",
     "output_type": "stream",
     "text": [
      "\n"
     ]
    }
   ],
   "source": [
    "# number of epochs to train the model\n",
    "n_epochs = 30\n",
    "\n",
    "valid_loss_min = np.Inf # track change in validation loss\n",
    "\n",
    "# keep track of training and validation loss\n",
    "train_loss = torch.zeros(n_epochs)\n",
    "valid_loss = torch.zeros(n_epochs)\n",
    "\n",
    "train_acc = torch.zeros(n_epochs)\n",
    "valid_acc = torch.zeros(n_epochs)\n",
    "\n",
    "for e in range(0, n_epochs):\n",
    "   \n",
    "    ###################\n",
    "    # train the model #\n",
    "    ###################\n",
    "    global_model.train()\n",
    "    for data, labels in tqdm(train_loader):\n",
    "        # move tensors to GPU if CUDA is available\n",
    "        data, labels = data.to(device), labels.to(device)\n",
    "        \n",
    "        # clear the gradients of all optimized variables\n",
    "        \n",
    "        optimizer.zero_grad()\n",
    "        # forward pass: compute predicted outputs by passing inputs to the model\n",
    "        logits = global_model(data)\n",
    "        \n",
    "        # calculate the batch loss\n",
    "        loss = criterion(logits, labels)\n",
    "        # backward pass: compute gradient of the loss with respect to model parameters\n",
    "        loss.backward()\n",
    "        # perform a single optimization step (parameter update)\n",
    "        optimizer.step()\n",
    "        # update training loss\n",
    "        train_loss[e] += loss.item()\n",
    "        \n",
    "        ps = F.softmax(logits, dim=1)\n",
    "        top_p, top_class = ps.topk(1, dim=1)\n",
    "        equals = top_class == labels.reshape(top_class.shape) # 모델의 출력과, 실제 정답 비교 \n",
    "        train_acc[e] += torch.mean(equals.type(torch.float)).detach().cpu()\n",
    "    train_loss[e] /= len(train_loader)\n",
    "    train_acc[e] /= len(train_loader)\n",
    "    scheduler.step()\n",
    "        \n",
    "        \n",
    "    ######################    \n",
    "    # validate the model #\n",
    "    ######################\n",
    "    with torch.no_grad(): \n",
    "        global_model.eval()\n",
    "        \n",
    "        torch.cuda.empty_cache()\n",
    "        for data, labels in tqdm(valid_loader):\n",
    "            # move tensors to GPU if CUDA is available\n",
    "            data, labels = data.to(device), labels.to(device)\n",
    "            # forward pass: compute predicted outputs by passing inputs to the model\n",
    "            logits = global_model(data)\n",
    "            # calculate the batch loss\n",
    "            loss = criterion(logits, labels)\n",
    "            # update average validation loss \n",
    "            valid_loss[e] += loss.item()\n",
    "\n",
    "            ps = F.softmax(logits, dim=1)\n",
    "            top_p, top_class = ps.topk(1, dim=1)\n",
    "            equals = top_class == labels.reshape(top_class.shape)\n",
    "            valid_acc[e] += torch.mean(equals.type(torch.float)).detach().cpu()\n",
    "    \n",
    "    # calculate average losses\n",
    "    valid_loss[e] /= len(valid_loader)\n",
    "    valid_acc[e] /= len(valid_loader)\n",
    "        \n",
    "    # print training/validation statistics \n",
    "    print('Epoch: {} \\tTraining Loss: {:.6f} \\tValidation Loss: {:.6f}'.format(\n",
    "        e, train_loss[e], valid_loss[e]))\n",
    "    \n",
    "    # print training/validation statistics \n",
    "    print('Epoch: {} \\tTraining accuracy: {:.6f} \\tValidation accuracy: {:.6f}'.format(\n",
    "        e, train_acc[e], valid_acc[e]))\n",
    "    \n",
    "    # save model if validation loss has decreased\n",
    "    if valid_loss[e] <= valid_loss_min:\n",
    "        print('Validation loss decreased ({:.6f} --> {:.6f}).  Saving model ...'.format(\n",
    "        valid_loss_min,\n",
    "        valid_loss[e]))\n",
    "        torch.save(global_model.state_dict(), './model_file/global-update-2-mnist.pt')\n",
    "        valid_loss_min = valid_loss[e]"
   ]
  },
  {
   "cell_type": "code",
   "execution_count": 89,
   "id": "7c5fc0ac",
   "metadata": {},
   "outputs": [
    {
     "data": {
      "text/plain": [
       "<matplotlib.legend.Legend at 0x207328c08b0>"
      ]
     },
     "execution_count": 89,
     "metadata": {},
     "output_type": "execute_result"
    },
    {
     "data": {
      "image/png": "[encoded data removed]",
      "text/plain": [
       "<Figure size 640x480 with 1 Axes>"
      ]
     },
     "metadata": {},
     "output_type": "display_data"
    }
   ],
   "source": [
    "import matplotlib.pyplot as plt\n",
    "\n",
    "plt.plot(train_loss, label = 'training loss')\n",
    "plt.plot(valid_loss, label = 'validation loss')\n",
    "plt.legend()"
   ]
  },
  {
   "cell_type": "code",
   "execution_count": 90,
   "id": "b1969e08",
   "metadata": {},
   "outputs": [
    {
     "data": {
      "text/plain": [
       "<matplotlib.legend.Legend at 0x20732886220>"
      ]
     },
     "execution_count": 90,
     "metadata": {},
     "output_type": "execute_result"
    },
    {
     "data": {
      "image/png": "[encoded data removed]",
      "text/plain": [
       "<Figure size 640x480 with 1 Axes>"
      ]
     },
     "metadata": {},
     "output_type": "display_data"
    }
   ],
   "source": [
    "plt.plot(train_acc, label = 'training accuracy')\n",
    "plt.plot(valid_acc, label = 'validation accuracy')\n",
    "plt.legend()"
   ]
  },
  {
   "cell_type": "code",
   "execution_count": 91,
   "id": "f28deadb",
   "metadata": {},
   "outputs": [
    {
     "data": {
      "text/plain": [
       "'D:\\\\asy10\\\\FL_project\\\\mnist\\\\Server'"
      ]
     },
     "execution_count": 91,
     "metadata": {},
     "output_type": "execute_result"
    }
   ],
   "source": [
    "pwd"
   ]
  },
  {
   "cell_type": "code",
   "execution_count": 92,
   "id": "3b7e6def",
   "metadata": {},
   "outputs": [
    {
     "data": {
      "text/plain": [
       "<All keys matched successfully>"
      ]
     },
     "execution_count": 92,
     "metadata": {},
     "output_type": "execute_result"
    }
   ],
   "source": [
    "global_model.load_state_dict(torch.load('./model_file/global-update-2-mnist.pt'))"
   ]
  },
  {
   "cell_type": "code",
   "execution_count": 93,
   "id": "b63880c1",
   "metadata": {},
   "outputs": [
    {
     "name": "stdout",
     "output_type": "stream",
     "text": [
      "Test Loss: 0.024471\n",
      "\n",
      "Test Accuracy: 0.992436\n",
      "\n",
      "Test Accuracy of     0: 99% (977/980)\n",
      "Test Accuracy of     1: 99% (1133/1135)\n",
      "Test Accuracy of     2: 99% (1024/1032)\n",
      "Test Accuracy of     3: 99% (1004/1010)\n",
      "Test Accuracy of     4: 99% (976/982)\n",
      "Test Accuracy of     5: 99% (885/892)\n",
      "Test Accuracy of     6: 98% (947/958)\n",
      "Test Accuracy of     7: 98% (1017/1028)\n",
      "Test Accuracy of     8: 99% (967/974)\n",
      "Test Accuracy of     9: 98% (994/1009)\n"
     ]
    }
   ],
   "source": [
    "# track test loss\n",
    "test_loss = 0.0\n",
    "test_acc = 0.0\n",
    "\n",
    "class_correct = torch.zeros(100)\n",
    "class_total = torch.zeros(100)\n",
    "\n",
    "global_model.eval()\n",
    "# iterate over test data\n",
    "for data, labels in test_loader:\n",
    "    # move tensors to GPU if CUDA is available\n",
    "    data, labels = data.to(device), labels.to(device)\n",
    "    # forward pass: compute predicted outputs by passing inputs to the model\n",
    "    logits = global_model(data)\n",
    "    # calculate the batch loss\n",
    "    loss = criterion(logits, labels)\n",
    "    # update test loss \n",
    "    test_loss += loss.item()\n",
    "    \n",
    "    ps = F.softmax(logits, dim=1)\n",
    "    top_p, top_class = ps.topk(1, dim=1)\n",
    "    equals = top_class == labels.reshape(top_class.shape)\n",
    "    test_acc += torch.mean(equals.type(torch.float)).detach().cpu()\n",
    "    \n",
    "    for i in range(len(data)):\n",
    "        label = labels[i]\n",
    "        class_correct[label] += equals[i].item()\n",
    "        class_total[label] += 1\n",
    "    \n",
    "\n",
    "# average test loss\n",
    "test_loss = test_loss/len(test_loader)\n",
    "test_acc = test_acc/len(test_loader)\n",
    "print('Test Loss: {:.6f}\\n'.format(test_loss))\n",
    "print('Test Accuracy: {:.6f}\\n'.format(test_acc))\n",
    "\n",
    "for i in range(10):\n",
    "    if class_total[i] > 0:\n",
    "        print('Test Accuracy of %5s: %2d%% (%2d/%2d)' % (\n",
    "            classes[i], 100 * class_correct[i] / class_total[i],\n",
    "            torch.sum(class_correct[i]), torch.sum(class_total[i])))\n",
    "    else:\n",
    "        print('Test Accuracy of %5s: N/A (no training examples)' % (classes[i]))"
   ]
  },
  {
   "cell_type": "code",
   "execution_count": 94,
   "id": "757239b6",
   "metadata": {},
   "outputs": [],
   "source": [
    "torch.save(global_model, './model_file/global-update-2-mnist.pt')"
   ]
  },
  {
   "cell_type": "code",
   "execution_count": null,
   "id": "bf074390",
   "metadata": {},
   "outputs": [],
   "source": []
  }
 ],
 "metadata": {
  "kernelspec": {
   "display_name": "Python 3 (ipykernel)",
   "language": "python",
   "name": "python3"
  },
  "language_info": {
   "codemirror_mode": {
    "name": "ipython",
    "version": 3
   },
   "file_extension": ".py",
   "mimetype": "text/x-python",
   "name": "python",
   "nbconvert_exporter": "python",
   "pygments_lexer": "ipython3",
   "version": "3.8.16"
  }
 },
 "nbformat": 4,
 "nbformat_minor": 5
}
