{
 "cells": [
  {
   "cell_type": "code",
   "execution_count": 3,
   "id": "4f1eafc7",
   "metadata": {},
   "outputs": [],
   "source": [
    "import torch\n",
    "import torchvision\n",
    "from torchvision import datasets, models, transforms\n",
    "import torch.nn as nn\n",
    "from torch.nn import functional as F\n",
    "import torch.optim as optim\n",
    "from torch.autograd import Variable\n",
    "from torch.utils.data.sampler import SubsetRandomSampler"
   ]
  },
  {
   "cell_type": "code",
   "execution_count": 4,
   "id": "71a12220",
   "metadata": {},
   "outputs": [
    {
     "name": "stdout",
     "output_type": "stream",
     "text": [
      "working on gpu\n"
     ]
    }
   ],
   "source": [
    "if torch.cuda.is_available():\n",
    "    device = torch.device(\"cuda\")\n",
    "    print(\"working on gpu\")\n",
    "else:\n",
    "    device = torch.device(\"cpu\")\n",
    "    print(\"working on cpu\")"
   ]
  },
  {
   "cell_type": "code",
   "execution_count": 5,
   "id": "11e0668a",
   "metadata": {},
   "outputs": [
    {
     "data": {
      "text/plain": [
       "Classifier(\n",
       "  (layer1): Sequential(\n",
       "    (0): Conv2d(1, 32, kernel_size=(3, 3), stride=(1, 1), padding=(1, 1))\n",
       "    (1): BatchNorm2d(32, eps=1e-05, momentum=0.1, affine=True, track_running_stats=True)\n",
       "    (2): ReLU()\n",
       "    (3): MaxPool2d(kernel_size=2, stride=2, padding=0, dilation=1, ceil_mode=False)\n",
       "  )\n",
       "  (layer2): Sequential(\n",
       "    (0): Conv2d(32, 64, kernel_size=(3, 3), stride=(1, 1))\n",
       "    (1): BatchNorm2d(64, eps=1e-05, momentum=0.1, affine=True, track_running_stats=True)\n",
       "    (2): ReLU()\n",
       "    (3): MaxPool2d(kernel_size=2, stride=2, padding=0, dilation=1, ceil_mode=False)\n",
       "  )\n",
       "  (fc1): Linear(in_features=2304, out_features=600, bias=True)\n",
       "  (drop): Dropout2d(p=0.25, inplace=False)\n",
       "  (fc2): Linear(in_features=600, out_features=120, bias=True)\n",
       "  (fc3): Linear(in_features=120, out_features=10, bias=True)\n",
       ")"
      ]
     },
     "execution_count": 5,
     "metadata": {},
     "output_type": "execute_result"
    }
   ],
   "source": [
    "class Classifier(nn.Module):\n",
    "    def __init__(self):\n",
    "        super(Classifier, self).__init__()\n",
    "        \n",
    "        self.layer1 = nn.Sequential(\n",
    "            nn.Conv2d(in_channels=1, out_channels=32, kernel_size=3, padding=1),\n",
    "            nn.BatchNorm2d(32),\n",
    "            nn.ReLU(),\n",
    "            nn.MaxPool2d(kernel_size=2, stride=2)\n",
    "        )\n",
    "        \n",
    "        self.layer2 = nn.Sequential(\n",
    "            nn.Conv2d(in_channels=32, out_channels=64, kernel_size=3),\n",
    "            nn.BatchNorm2d(64),\n",
    "            nn.ReLU(),\n",
    "            nn.MaxPool2d(2)\n",
    "        )\n",
    "        \n",
    "        self.fc1 = nn.Linear(in_features=64*6*6, out_features=600)\n",
    "        self.drop = nn.Dropout2d(0.25)\n",
    "        self.fc2 = nn.Linear(in_features=600, out_features=120)\n",
    "        self.fc3 = nn.Linear(in_features=120, out_features=10)\n",
    "        \n",
    "    def forward(self, x):\n",
    "        out = self.layer1(x)\n",
    "        out = self.layer2(out)\n",
    "        out = out.view(out.size(0), -1)\n",
    "        out = self.drop(self.fc1(out))\n",
    "        out = self.fc2(out)\n",
    "        out = self.fc3(out)\n",
    "        \n",
    "        return out\n",
    "    \n",
    "def weights_init(m):\n",
    "    if isinstance(m, nn.Linear):\n",
    "        nn.init.xavier_normal_(m.weight) \n",
    "\n",
    "    \n",
    "model = Classifier()\n",
    "model.apply(weights_init)\n",
    "model.to(device)"
   ]
  },
  {
   "cell_type": "code",
   "execution_count": 5,
   "id": "00981050",
   "metadata": {},
   "outputs": [],
   "source": [
    "torch.save(model, './model_file/server-global-model_1.pth')"
   ]
  },
  {
   "cell_type": "markdown",
   "id": "3190f822",
   "metadata": {},
   "source": [
    "### 서버에서 먼저 global model을 클라이언트에게 전송"
   ]
  },
  {
   "cell_type": "code",
   "execution_count": 96,
   "id": "216e3844",
   "metadata": {},
   "outputs": [
    {
     "name": "stdout",
     "output_type": "stream",
     "text": [
      "('127.0.0.1', 55399) 에서 접속 확인 ! \n",
      "클라이언트가 요청한 파일 :  global-update-2-mnist.pt\n",
      "파일 b'global-update-2-mnist.pt' 전송 시작\n",
      "전송 완료 b'global-update-2-mnist.pt' 전송량 5912669\n",
      "('127.0.0.1', 55400) 에서 접속 확인 ! \n",
      "클라이언트가 요청한 파일 :  global-update-2-mnist.pt\n",
      "파일 b'global-update-2-mnist.pt' 전송 시작\n",
      "전송 완료 b'global-update-2-mnist.pt' 전송량 5912669\n"
     ]
    }
   ],
   "source": [
    "#클라이언트와의 접속 확인 \n",
    "# 클라이언트로 부터 모델 파일 명 recv \n",
    "# 클라이언트로부터 모델 파일 recv\n",
    "\n",
    "#filename = 'server-global-eff-model.pth'\n",
    "\n",
    "from socket import *\n",
    "from os.path import exists\n",
    "import sys\n",
    "import os \n",
    "\n",
    "c = 0 \n",
    "\n",
    "while c < 2:\n",
    "\n",
    "    serverSock = socket(AF_INET, SOCK_STREAM)\n",
    "    serverSock.bind(('',2266))\n",
    "\n",
    "    serverSock.listen(2)\n",
    "\n",
    "    con_sock, addr = serverSock.accept()\n",
    "\n",
    "    print(str(addr),'에서 접속 확인 ! ')\n",
    "\n",
    "\n",
    "    filename = con_sock.recv(1024)\n",
    "    print('클라이언트가 요청한 파일 : ', filename.decode())\n",
    "    data_transferred = 0\n",
    "\n",
    "    if not exists('./model_file/'+filename.decode()):\n",
    "        print('파일이 없습니다.')\n",
    "        sys.exit()\n",
    "\n",
    "    print(\"파일 %s 전송 시작\" %filename)\n",
    "\n",
    "    now_dir = os.path.join('./model_file/', filename.decode())\n",
    "\n",
    "    with open(now_dir, 'rb') as f:\n",
    "        try :\n",
    "            data = f.read(4096)\n",
    "            while data:\n",
    "                data_transferred += con_sock.send(data)\n",
    "\n",
    "                data = f.read(4096)\n",
    "\n",
    "        except Exception as ex:\n",
    "            print(ex)\n",
    "        print(\"전송 완료 %s 전송량 %d\" %(filename, data_transferred))\n",
    "        con_sock.close()\n",
    "        c += 1"
   ]
  },
  {
   "cell_type": "code",
   "execution_count": null,
   "id": "e3f60c1e",
   "metadata": {},
   "outputs": [],
   "source": [
    "\n",
    "    \n",
    "    serverSock = socket(AF_INET, SOCK_STREAM)\n",
    "    serverSock.bind(('',2267))\n",
    "\n",
    "    serverSock.listen(1)\n",
    "\n",
    "    con_sock, addr = serverSock.accept()\n",
    "\n",
    "    print(str(addr),'에서 접속 확인 ! ')\n",
    "\n",
    "    filename = con_sock.recv(1024) # 파일 이름 전송받기\n",
    "    print('받은 파일 이름 : ', filename.decode('utf-8'))\n",
    "\n",
    "    data = con_sock.recv(2048) \n",
    "\n",
    "    data_transferred = 0\n",
    "\n",
    "    save_dir = './model_file/'\n",
    "\n",
    "    with open(save_dir+\"/\"+(filename.decode('utf-8')), 'wb') as f:\n",
    "        try :\n",
    "            while data:\n",
    "                f.write(data)\n",
    "                data_transferred += len(data)\n",
    "                data = con_sock.recv(2048) # 파일 내용 전송받기\n",
    "\n",
    "        except Exception as ex:\n",
    "            print(ex)\n",
    "    print('파일 %s 받기 완료. 전송량 %d ' %(filename, data_transferred))\n",
    "    con_sock.close()"
   ]
  },
  {
   "cell_type": "code",
   "execution_count": 1,
   "id": "8e866522",
   "metadata": {},
   "outputs": [
    {
     "data": {
      "text/plain": [
       "'D:\\\\asy10\\\\FL_project\\\\mnist\\\\Server'"
      ]
     },
     "execution_count": 1,
     "metadata": {},
     "output_type": "execute_result"
    }
   ],
   "source": [
    "pwd"
   ]
  },
  {
   "cell_type": "markdown",
   "id": "eec03b46",
   "metadata": {},
   "source": [
    "### 클라이언트에서 학습 후 파라미터 파일 전송"
   ]
  },
  {
   "cell_type": "code",
   "execution_count": 98,
   "id": "52f25c73",
   "metadata": {},
   "outputs": [
    {
     "name": "stdout",
     "output_type": "stream",
     "text": [
      "('127.0.0.1', 55475) 에서 접속 확인 ! \n",
      "받은 파일 이름 :  mnist-model_2-update-3.pt\n",
      "파일 b'mnist-model_2-update-3.pt' 받기 완료. 전송량 5908787 \n"
     ]
    }
   ],
   "source": [
    "# 클라이언트와의 접속 확인 \n",
    "# 클라이언트로 부터 모델 파일 명 recv \n",
    "# 클라이언트로부터 모델 파일 recv\n",
    "\n",
    "from socket import *\n",
    "from os.path import exists\n",
    "import sys\n",
    "\n",
    "serverSock = socket(AF_INET, SOCK_STREAM)\n",
    "serverSock.bind(('',2266))\n",
    "\n",
    "serverSock.listen(2)\n",
    "\n",
    "con_sock, addr = serverSock.accept()\n",
    "\n",
    "print(str(addr),'에서 접속 확인 ! ')\n",
    "\n",
    "filename = con_sock.recv(1024) # 파일 이름 전송받기\n",
    "print('받은 파일 이름 : ', filename.decode('utf-8'))\n",
    "\n",
    "data = con_sock.recv(2048) \n",
    "\n",
    "data_transferred = 0\n",
    "\n",
    "save_dir = './model_file/'\n",
    "\n",
    "with open(save_dir+\"/\"+(filename.decode('utf-8')), 'wb') as f:\n",
    "    try :\n",
    "        while data:\n",
    "            f.write(data)\n",
    "            data_transferred += len(data)\n",
    "            data = con_sock.recv(2048) # 파일 내용 전송받기\n",
    "            \n",
    "    except Exception as ex:\n",
    "        print(ex)\n",
    "print('파일 %s 받기 완료. 전송량 %d ' %(filename, data_transferred))\n",
    "con_sock.close()"
   ]
  },
  {
   "cell_type": "code",
   "execution_count": 99,
   "id": "9839eeea",
   "metadata": {},
   "outputs": [],
   "source": [
    "statd_dict_1 = torch.load('./model_file/mnist-model-update-3.pt')\n",
    "statd_dict_2 = torch.load('./model_file/mnist-model_2-update-3.pt')"
   ]
  },
  {
   "cell_type": "code",
   "execution_count": 100,
   "id": "439853a7",
   "metadata": {},
   "outputs": [
    {
     "data": {
      "text/plain": [
       "tensor([[-2.9799e-05,  6.0613e-05,  1.0698e-04,  ..., -1.1784e-06,\n",
       "         -2.2262e-05, -4.2362e-06],\n",
       "        [ 2.9278e-05, -1.5723e-04,  5.5906e-05,  ..., -1.0382e-05,\n",
       "          5.6080e-05,  2.1927e-06],\n",
       "        [-4.2487e-04, -1.2251e-03, -4.5489e-04,  ..., -1.0200e-03,\n",
       "          1.5172e-04, -5.2835e-05],\n",
       "        ...,\n",
       "        [ 7.2093e-03,  1.5104e-02, -3.5292e-03,  ..., -1.6618e-03,\n",
       "          4.2365e-05,  2.0793e-03],\n",
       "        [-4.5999e-04, -1.0210e-03,  6.1634e-05,  ..., -5.0425e-05,\n",
       "         -5.6671e-04, -1.1023e-05],\n",
       "        [ 5.9236e-05,  9.9567e-05, -1.3406e-04,  ..., -6.4842e-05,\n",
       "         -8.5240e-06, -1.4281e-06]], device='cuda:0')"
      ]
     },
     "execution_count": 100,
     "metadata": {},
     "output_type": "execute_result"
    }
   ],
   "source": [
    "statd_dict_1['fc1.weight']"
   ]
  },
  {
   "cell_type": "code",
   "execution_count": 101,
   "id": "1cece51a",
   "metadata": {},
   "outputs": [
    {
     "data": {
      "text/plain": [
       "tensor([-2.6253e-05, -1.2397e-05,  1.6772e-03,  2.3051e-02,  4.2092e-04,\n",
       "        -4.7281e-05, -3.5723e-04,  8.6624e-05, -4.6532e-05, -3.7846e-05,\n",
       "        -1.2909e-04,  2.6689e-04, -6.0584e-05,  8.0517e-03, -1.3145e-02,\n",
       "         2.8521e-04,  4.3587e-05, -6.0843e-04,  2.6080e-04, -1.3783e-04,\n",
       "        -7.8899e-05,  1.8840e-04,  4.3504e-03, -3.2628e-04,  2.1311e-04,\n",
       "        -1.6742e-03, -2.4840e-03,  5.3718e-04, -5.2079e-04,  1.7721e-03,\n",
       "        -2.2290e-05,  3.4190e-04,  3.6143e-04, -4.9101e-03, -1.2603e-02,\n",
       "         9.5224e-03,  9.4484e-03, -1.4175e-05, -3.8204e-04,  1.8189e-04,\n",
       "         1.4144e-05, -7.7795e-05,  2.6827e-04, -9.4684e-05, -7.6651e-03,\n",
       "         3.8775e-04,  1.6674e-04, -2.1022e-04, -7.3460e-03,  1.5026e-02,\n",
       "        -1.1366e-02, -2.7405e-02,  4.0031e-03,  9.3769e-05, -2.1918e-05,\n",
       "        -4.4814e-05, -1.7738e-04,  5.2313e-05, -2.5919e-05, -6.9121e-03,\n",
       "         1.1438e-04,  7.7223e-03, -3.5120e-03, -6.4585e-03, -4.6247e-04,\n",
       "        -5.0225e-04,  4.3918e-04, -2.7455e-03,  7.4327e-04, -1.0048e-05,\n",
       "        -7.3005e-06, -6.3485e-05,  1.4279e-04, -5.7512e-03, -4.3873e-04,\n",
       "        -1.2714e-04,  2.1142e-04, -4.8835e-04, -8.1503e-03, -1.6475e-04,\n",
       "         1.7145e-05, -1.0435e-04, -3.2228e-04,  1.5184e-02,  2.6623e-06,\n",
       "         1.4715e-04, -1.1777e-02, -7.5631e-05, -3.9804e-04,  2.5278e-05,\n",
       "         4.5324e-04,  1.3020e-04, -1.2395e-03, -2.2808e-05, -1.0903e-03,\n",
       "         3.7079e-04, -4.0521e-05, -1.1605e-02,  1.9937e-04, -1.3239e-04,\n",
       "         9.5575e-03, -1.3368e-02,  2.8266e-02, -1.5439e-03,  2.3754e-02,\n",
       "        -2.7118e-05, -1.9531e-04,  2.3386e-04, -2.9512e-04,  4.0110e-05,\n",
       "         6.2095e-05,  1.7893e-04,  1.5131e-04,  3.5653e-06, -1.5088e-02,\n",
       "         5.6623e-03,  2.8081e-04, -5.0846e-03, -7.5784e-04,  3.0447e-03,\n",
       "        -2.0580e-03,  4.9448e-05, -1.0265e-04, -3.0414e-05,  2.9336e-03,\n",
       "        -2.3028e-04, -4.2942e-04, -3.0336e-05, -5.7317e-04,  1.0450e-04,\n",
       "         2.6993e-05,  1.8747e-04, -5.7358e-05,  2.4091e-04,  7.3207e-03,\n",
       "        -1.4635e-04, -1.6896e-02,  9.7799e-06,  1.4632e-04,  3.7185e-04,\n",
       "        -6.4619e-03,  9.5499e-04,  5.4522e-03, -2.0782e-05,  4.7486e-04,\n",
       "        -5.5117e-05, -6.4116e-05, -6.2202e-05,  6.1917e-05,  2.0595e-02,\n",
       "        -1.4527e-02, -8.2882e-03, -3.4974e-05, -9.1488e-03, -6.3025e-03,\n",
       "         1.8179e-02,  6.3368e-05,  2.4793e-04,  9.3637e-04,  7.0847e-04,\n",
       "         1.6408e-04, -3.6803e-03, -2.4482e-03,  4.6666e-04,  3.6752e-03,\n",
       "         6.8482e-04,  1.3981e-04, -6.3355e-03,  6.6806e-03,  4.0289e-05,\n",
       "         2.6548e-05, -3.5760e-03, -7.6602e-04, -3.1096e-05, -6.7047e-05,\n",
       "         3.8979e-04, -1.2597e-02,  1.3888e-04,  1.3094e-02,  4.3310e-04,\n",
       "        -1.9157e-04, -1.7885e-02, -2.2378e-04, -1.2648e-02, -1.3483e-02,\n",
       "        -7.4517e-05,  4.5383e-05, -1.0618e-03,  1.6859e-04,  1.9297e-04,\n",
       "         2.5076e-06, -3.8341e-02, -2.0115e-03, -5.0443e-04,  1.6078e-04,\n",
       "        -5.7658e-04,  5.1337e-04, -2.5826e-02,  2.6219e-02,  7.1897e-06,\n",
       "         3.2442e-02,  2.5424e-04, -3.0821e-02,  4.9942e-04,  4.7996e-05,\n",
       "         1.7784e-04,  6.8580e-05,  1.4977e-04, -1.9593e-02, -6.8333e-04,\n",
       "         1.9428e-04, -2.0090e-04,  1.0324e-04, -1.1816e-05,  9.7670e-05,\n",
       "        -4.4770e-02, -6.0992e-05, -8.2470e-03, -1.8592e-04,  8.6904e-03,\n",
       "        -1.4373e-02, -1.0858e-02, -6.4207e-05, -7.9634e-03,  8.0588e-03,\n",
       "         1.0969e-04, -2.1904e-02,  2.3453e-04,  2.3576e-05, -3.9324e-05,\n",
       "         4.0227e-04, -3.8577e-05, -1.5453e-02,  2.4163e-03, -3.7246e-04,\n",
       "         4.5573e-03, -2.6143e-04, -9.4530e-03, -2.0924e-03, -1.2667e-04,\n",
       "        -7.1157e-05, -4.9882e-05,  2.9589e-04,  9.7141e-04, -2.0050e-04,\n",
       "         1.2645e-04,  3.1151e-02,  1.3239e-05,  1.0606e-04, -2.2931e-04,\n",
       "         1.3242e-04,  1.9054e-04, -2.1640e-04, -3.8388e-05, -2.2422e-04,\n",
       "        -2.6470e-02,  1.4909e-04,  3.8435e-03,  2.1198e-04,  1.6136e-04,\n",
       "         5.3871e-03, -1.1787e-02, -5.1208e-03, -1.1274e-04, -6.6118e-03,\n",
       "        -1.3912e-04,  2.5167e-05,  6.0691e-04,  7.0698e-05, -1.0837e-04,\n",
       "         8.5472e-05,  2.0262e-04,  1.0408e-06, -3.0787e-04,  5.0544e-05,\n",
       "         2.0522e-04,  8.6142e-05, -2.9820e-05, -1.7301e-05,  6.6943e-04,\n",
       "         1.3239e-02,  3.1544e-03, -1.4338e-04,  1.9904e-02,  4.6889e-05,\n",
       "        -1.1616e-04, -5.0616e-04, -2.0850e-02,  3.1232e-04,  2.2728e-02,\n",
       "        -1.0563e-02, -1.1094e-04,  2.6510e-05,  4.0083e-05,  5.0531e-05,\n",
       "        -2.6037e-02, -1.2340e-04, -8.2344e-04, -5.6228e-05, -1.7656e-03,\n",
       "        -1.7433e-02, -1.0004e-04,  2.1835e-03, -1.5680e-04, -5.5028e-03,\n",
       "         7.0516e-05, -3.5244e-04,  2.3590e-04,  7.4175e-04, -7.0845e-03,\n",
       "         1.8014e-04, -4.7026e-05,  1.8218e-04, -1.7267e-04,  1.8245e-03,\n",
       "         2.0800e-04, -1.1445e-02,  1.7123e-05, -1.9366e-03,  4.2071e-04,\n",
       "         3.1951e-04,  1.7180e-04, -1.0246e-03, -6.8638e-05, -1.5930e-04,\n",
       "        -1.7409e-02,  2.0240e-04,  2.4179e-04, -2.3228e-05,  1.2624e-05,\n",
       "        -7.8438e-04, -7.4276e-05,  8.4188e-05,  1.4771e-02,  1.8444e-02,\n",
       "         5.5521e-04,  4.7123e-04, -1.9018e-05, -1.2359e-05, -5.3203e-04,\n",
       "        -2.7741e-04,  2.6203e-03, -1.2566e-02,  3.8559e-04,  7.5051e-04,\n",
       "         1.4957e-02,  7.6472e-05,  2.7047e-02,  4.5030e-04,  3.8607e-05,\n",
       "        -2.2444e-04,  1.1928e-04,  8.4499e-03, -4.0638e-05, -4.1622e-05,\n",
       "        -5.4836e-04,  1.5417e-04,  3.5308e-04,  4.0143e-03,  4.2806e-04,\n",
       "        -6.0034e-04,  1.3138e-04,  7.5916e-03,  1.2581e-03, -1.3813e-04,\n",
       "         4.6788e-05, -3.7796e-04,  2.8415e-02,  1.6343e-04, -5.3798e-04,\n",
       "        -3.9727e-04,  1.6406e-04,  1.0168e-03,  8.4309e-04,  8.6842e-03,\n",
       "         7.6435e-04, -3.0760e-05, -4.6444e-04, -2.9389e-04,  1.0473e-05,\n",
       "        -1.0713e-03,  3.5604e-04, -3.4748e-04,  2.0029e-04, -6.9592e-04,\n",
       "         3.6333e-03, -4.7579e-04, -6.2354e-05,  2.6148e-02,  2.8875e-04,\n",
       "        -3.2314e-04,  4.5861e-02, -6.5413e-07,  2.9438e-03,  5.2591e-05,\n",
       "        -5.1627e-04,  1.7767e-03, -6.1363e-03, -1.7245e-04, -1.1222e-04,\n",
       "        -2.7454e-03, -4.6741e-03, -3.3344e-03, -2.6748e-04,  1.2389e-02,\n",
       "         2.2625e-03,  1.5670e-07,  4.7990e-03,  1.1715e-02, -5.2162e-05,\n",
       "        -2.7303e-04,  5.1137e-05, -4.9991e-05, -2.4145e-02, -2.4025e-04,\n",
       "         1.6678e-04,  1.1665e-02, -2.3355e-05, -3.2417e-02,  8.3378e-04,\n",
       "         5.0623e-03, -2.9571e-04,  1.5097e-02,  2.6241e-05,  1.4524e-04,\n",
       "        -7.5402e-05, -7.1870e-05,  6.5525e-04,  1.7103e-04, -2.4437e-05,\n",
       "         4.7798e-05,  3.3802e-04,  4.3055e-04,  1.2225e-04,  2.1021e-04,\n",
       "         6.9401e-04,  1.6436e-03,  4.2559e-03, -4.7099e-04, -2.0882e-04,\n",
       "         4.5741e-05,  1.1632e-04,  3.8688e-04, -3.1107e-04, -7.6001e-05,\n",
       "        -2.6275e-04,  3.4803e-04, -2.0109e-02,  5.1164e-03, -6.6551e-04,\n",
       "        -1.8512e-04, -1.9182e-04,  2.2358e-04, -1.1103e-04,  7.1852e-03,\n",
       "         1.7839e-04, -6.8464e-03,  1.6265e-02,  6.5777e-04, -5.4576e-04,\n",
       "        -4.4460e-05, -2.8161e-05, -3.4330e-06, -4.6539e-02, -2.2692e-05,\n",
       "        -1.1280e-05,  7.0980e-05, -1.4800e-04,  1.5687e-05, -6.3936e-04,\n",
       "         6.5606e-05, -7.1669e-03,  6.3564e-04, -2.5179e-05, -2.3888e-04,\n",
       "        -1.4271e-02, -1.1137e-02, -3.4073e-04,  4.1448e-03, -4.0960e-04,\n",
       "         2.6182e-04,  1.4288e-05,  6.6739e-05, -5.1065e-05,  5.5239e-04,\n",
       "        -8.2816e-06,  1.5892e-03,  1.3363e-03,  1.7436e-02, -8.3537e-03,\n",
       "        -1.1088e-02,  1.0760e-04,  2.7950e-04,  1.1202e-04,  2.2013e-04,\n",
       "         4.8672e-04,  3.2465e-03,  7.7418e-04, -9.5112e-03,  2.6899e-04,\n",
       "        -1.0508e-05,  3.0209e-05, -6.0612e-05, -6.0783e-04,  1.6792e-04,\n",
       "         6.0702e-05,  4.2990e-04, -6.1037e-04,  8.2586e-04, -1.1109e-02,\n",
       "         2.7323e-02,  1.3023e-05,  3.6839e-05,  1.3166e-02,  1.0330e-03,\n",
       "        -8.1848e-03, -2.7335e-04,  3.3770e-03, -1.4577e-04,  3.2173e-03,\n",
       "         1.3946e-02,  3.0212e-02, -7.5463e-05, -3.0883e-02, -4.0251e-05,\n",
       "         3.8663e-04, -2.7538e-04,  4.1006e-02, -3.7640e-03,  8.9653e-04,\n",
       "         2.1658e-02,  2.2904e-04,  3.6927e-05,  2.3550e-04,  6.3708e-04,\n",
       "         1.5587e-04,  5.7119e-04, -3.0446e-05,  4.3829e-05, -1.9248e-04,\n",
       "         2.9066e-04,  2.6841e-04, -7.0102e-04,  8.0829e-04,  5.5366e-03,\n",
       "        -2.9731e-04,  5.0943e-04, -2.7386e-04, -5.8978e-05, -5.8962e-06,\n",
       "         6.2431e-04, -1.4344e-04, -1.6801e-02,  7.1469e-03, -6.3170e-04,\n",
       "        -1.8673e-03, -1.5174e-04, -1.2598e-04, -1.1168e-04, -3.8727e-04,\n",
       "         3.4547e-02, -6.2622e-04,  6.4270e-04, -1.3049e-02,  4.5686e-05,\n",
       "         2.4117e-04,  1.1735e-04,  2.2937e-03,  9.1438e-05, -3.7074e-04,\n",
       "         9.0841e-04,  7.1768e-04,  7.7204e-04,  8.1876e-03, -1.6594e-02,\n",
       "        -8.2991e-05, -1.5993e-04, -3.8542e-04, -2.1438e-04,  1.1630e-04,\n",
       "        -3.5947e-03, -3.5272e-04, -3.0184e-04,  1.7976e-02,  2.2322e-04,\n",
       "         4.3004e-04,  4.8102e-04,  1.7678e-02, -1.7544e-04,  1.2423e-05,\n",
       "        -1.5987e-05,  1.3044e-05, -3.5186e-04,  1.3541e-02, -1.3157e-02,\n",
       "        -4.1104e-04, -6.5417e-05,  1.9922e-02, -6.1454e-04,  1.4680e-05],\n",
       "       device='cuda:0')"
      ]
     },
     "execution_count": 101,
     "metadata": {},
     "output_type": "execute_result"
    }
   ],
   "source": [
    "statd_dict_1['fc1.bias']"
   ]
  },
  {
   "cell_type": "code",
   "execution_count": 102,
   "id": "def87bc2",
   "metadata": {},
   "outputs": [
    {
     "data": {
      "text/plain": [
       "tensor([[-3.0133e-05,  5.8464e-05,  1.0467e-04,  ..., -3.6051e-07,\n",
       "         -2.2546e-05, -4.5069e-06],\n",
       "        [ 2.7994e-05, -1.6041e-04,  5.5366e-05,  ..., -1.1637e-05,\n",
       "          5.5349e-05,  2.3733e-06],\n",
       "        [-4.2684e-04, -1.2326e-03, -4.2191e-04,  ..., -1.0144e-03,\n",
       "          1.4134e-04, -5.4005e-05],\n",
       "        ...,\n",
       "        [ 7.2014e-03,  1.4843e-02, -3.4852e-03,  ..., -1.6995e-03,\n",
       "          3.0416e-05,  2.0667e-03],\n",
       "        [-4.5257e-04, -1.0161e-03,  6.7086e-05,  ..., -4.6336e-05,\n",
       "         -5.6426e-04, -1.2357e-05],\n",
       "        [ 5.9423e-05,  9.9436e-05, -1.3228e-04,  ..., -6.4071e-05,\n",
       "         -8.7837e-06, -1.3908e-06]], device='cuda:0')"
      ]
     },
     "execution_count": 102,
     "metadata": {},
     "output_type": "execute_result"
    }
   ],
   "source": [
    "statd_dict_2['fc1.weight']"
   ]
  },
  {
   "cell_type": "code",
   "execution_count": null,
   "id": "cc7778db",
   "metadata": {},
   "outputs": [],
   "source": [
    "statd_dict_2['fc.bias']"
   ]
  },
  {
   "cell_type": "markdown",
   "id": "817c7eeb",
   "metadata": {},
   "source": [
    "### fc_weight -> 2차원 텐서, _fc.bias -> 1차원 텐서\n",
    "- 두 개의 클라이언트 모델에서 학습한 weight 파라미터를 평균 내서 global 모델에 넣어준다"
   ]
  },
  {
   "cell_type": "code",
   "execution_count": 104,
   "id": "391f9978",
   "metadata": {},
   "outputs": [],
   "source": [
    "global_fc1_weight = (statd_dict_1['fc1.weight'] + statd_dict_2['fc1.weight'])/2\n",
    "global_fc2_weight = (statd_dict_1['fc2.weight'] + statd_dict_2['fc2.weight'])/2\n",
    "global_fc3_weight = (statd_dict_1['fc3.weight'] + statd_dict_2['fc3.weight'])/2"
   ]
  },
  {
   "cell_type": "code",
   "execution_count": 105,
   "id": "edb6ca34",
   "metadata": {},
   "outputs": [
    {
     "data": {
      "text/plain": [
       "tensor([[ 0.0332, -0.0032, -0.0156,  ...,  0.0166, -0.0063, -0.0797],\n",
       "        [ 0.0046, -0.0077,  0.0052,  ..., -0.0024, -0.0133,  0.1216],\n",
       "        [-0.0094,  0.0100,  0.0009,  ..., -0.0061,  0.0280,  0.2927],\n",
       "        ...,\n",
       "        [-0.0215,  0.0096,  0.0054,  ..., -0.0039,  0.0383, -0.1502],\n",
       "        [-0.0274,  0.0088,  0.0029,  ..., -0.0033, -0.0094, -0.1376],\n",
       "        [ 0.0114, -0.0109,  0.0052,  ..., -0.0016,  0.0680,  0.0302]],\n",
       "       device='cuda:0')"
      ]
     },
     "execution_count": 105,
     "metadata": {},
     "output_type": "execute_result"
    }
   ],
   "source": [
    "global_fc3_weight "
   ]
  },
  {
   "cell_type": "code",
   "execution_count": 106,
   "id": "5bb076e0",
   "metadata": {},
   "outputs": [
    {
     "data": {
      "text/plain": [
       "torch.Size([10])"
      ]
     },
     "execution_count": 106,
     "metadata": {},
     "output_type": "execute_result"
    }
   ],
   "source": [
    "global_fc1_bias = (statd_dict_1['fc1.bias'] + statd_dict_2['fc1.bias'])/2\n",
    "global_fc2_bias = (statd_dict_1['fc2.bias'] + statd_dict_2['fc2.bias'])/2\n",
    "global_fc3_bias = (statd_dict_1['fc3.bias'] + statd_dict_2['fc3.bias'])/2\n",
    "global_fc3_bias.shape"
   ]
  },
  {
   "cell_type": "markdown",
   "id": "55202649",
   "metadata": {},
   "source": [
    "from efficientnet_pytorch import EfficientNet\n",
    "global_model = EfficientNet.from_pretrained('efficientnet-b0', num_classes=100)\n",
    "\n",
    "\n",
    "for n, p in global_model.named_parameters():\n",
    "    if '_fc' not in n:\n",
    "        p.requires_grad = False\n",
    "        \n"
   ]
  },
  {
   "cell_type": "code",
   "execution_count": 107,
   "id": "c05d70c4",
   "metadata": {},
   "outputs": [],
   "source": [
    "global_model = Classifier()"
   ]
  },
  {
   "cell_type": "code",
   "execution_count": 108,
   "id": "20ac6e7a",
   "metadata": {},
   "outputs": [],
   "source": [
    "global_model.fc1.weight = torch.nn.Parameter(global_fc1_weight)\n",
    "global_model.fc1.bias = torch.nn.Parameter(global_fc1_bias)\n",
    "\n",
    "global_model.fc2.weight = torch.nn.Parameter(global_fc2_weight)\n",
    "global_model.fc2.bias = torch.nn.Parameter(global_fc2_bias)\n",
    "\n",
    "global_model.fc3.weight = torch.nn.Parameter(global_fc3_weight)\n",
    "global_model.fc3.bias = torch.nn.Parameter(global_fc3_bias)\n",
    "\n",
    "\n",
    "global_model = global_model.to(device)"
   ]
  },
  {
   "cell_type": "code",
   "execution_count": 109,
   "id": "d0f4efdc",
   "metadata": {},
   "outputs": [
    {
     "data": {
      "text/plain": [
       "Parameter containing:\n",
       "tensor([[ 0.0332, -0.0032, -0.0156,  ...,  0.0166, -0.0063, -0.0797],\n",
       "        [ 0.0046, -0.0077,  0.0052,  ..., -0.0024, -0.0133,  0.1216],\n",
       "        [-0.0094,  0.0100,  0.0009,  ..., -0.0061,  0.0280,  0.2927],\n",
       "        ...,\n",
       "        [-0.0215,  0.0096,  0.0054,  ..., -0.0039,  0.0383, -0.1502],\n",
       "        [-0.0274,  0.0088,  0.0029,  ..., -0.0033, -0.0094, -0.1376],\n",
       "        [ 0.0114, -0.0109,  0.0052,  ..., -0.0016,  0.0680,  0.0302]],\n",
       "       device='cuda:0', requires_grad=True)"
      ]
     },
     "execution_count": 109,
     "metadata": {},
     "output_type": "execute_result"
    }
   ],
   "source": [
    "global_model.fc3.weight # 클라이언트 웨이트 평균값이 잘 들어감을 확인!"
   ]
  },
  {
   "cell_type": "code",
   "execution_count": 110,
   "id": "8f8e6908",
   "metadata": {},
   "outputs": [],
   "source": [
    "import numpy as np\n",
    "%matplotlib inline\n",
    "import matplotlib.pyplot as plt\n",
    "from PIL import Image\n",
    "\n",
    "import numpy as np\n",
    "%matplotlib inline\n",
    "import matplotlib.pyplot as plt\n",
    "from PIL import Image"
   ]
  },
  {
   "cell_type": "code",
   "execution_count": 111,
   "id": "1ef58349",
   "metadata": {},
   "outputs": [
    {
     "data": {
      "text/plain": [
       "[<matplotlib.lines.Line2D at 0x207329a1f40>]"
      ]
     },
     "execution_count": 111,
     "metadata": {},
     "output_type": "execute_result"
    },
    {
     "data": {
      "image/png": "[encoded data removed]",
      "text/plain": [
       "<Figure size 640x480 with 1 Axes>"
      ]
     },
     "metadata": {},
     "output_type": "display_data"
    }
   ],
   "source": [
    "plt.plot([1,2,3,4])"
   ]
  },
  {
   "cell_type": "code",
   "execution_count": 112,
   "id": "4e1670ce",
   "metadata": {},
   "outputs": [],
   "source": [
    "import torch\n",
    "import torchvision\n",
    "from torchvision import datasets, models, transforms\n",
    "import torch.nn as nn\n",
    "from torch.nn import functional as F\n",
    "import torch.optim as optim\n",
    "from torch.autograd import Variable\n",
    "from torch.utils.data.sampler import SubsetRandomSampler"
   ]
  },
  {
   "cell_type": "code",
   "execution_count": 113,
   "id": "9c2ad2b7",
   "metadata": {},
   "outputs": [],
   "source": [
    "batch_size = 64\n",
    "learning_rate = 0.01\n",
    "num_epochs = 30"
   ]
  },
  {
   "cell_type": "code",
   "execution_count": 114,
   "id": "596078eb",
   "metadata": {},
   "outputs": [],
   "source": [
    "# Define a transform to normalize the data\n",
    "transform = transforms.Compose([transforms.ToTensor(),\n",
    "                                transforms.Normalize((0.5,), (0.5,))])\n",
    "# Download and load the training data\n",
    "train_data = datasets.MNIST('MNIST_data/', download=True, train=True, transform=transform)\n",
    "train_loader = torch.utils.data.DataLoader(train_data, batch_size=64, shuffle=True)\n",
    "\n",
    "# Download and load the test data\n",
    "test_data = datasets.MNIST('MNIST_data/', download=True, train=False, transform=transform)\n",
    "test_loader = torch.utils.data.DataLoader(test_data, batch_size=64, shuffle=True)"
   ]
  },
  {
   "cell_type": "code",
   "execution_count": 115,
   "id": "c8f924d1",
   "metadata": {},
   "outputs": [
    {
     "data": {
      "text/plain": [
       "60000"
      ]
     },
     "execution_count": 115,
     "metadata": {},
     "output_type": "execute_result"
    }
   ],
   "source": [
    "len(train_data)"
   ]
  },
  {
   "cell_type": "code",
   "execution_count": 116,
   "id": "29d6abce",
   "metadata": {},
   "outputs": [
    {
     "data": {
      "text/plain": [
       "10000"
      ]
     },
     "execution_count": 116,
     "metadata": {},
     "output_type": "execute_result"
    }
   ],
   "source": [
    "len(test_data)"
   ]
  },
  {
   "cell_type": "code",
   "execution_count": 117,
   "id": "d5fd50de",
   "metadata": {},
   "outputs": [],
   "source": [
    "import random"
   ]
  },
  {
   "cell_type": "code",
   "execution_count": 118,
   "id": "a3c775ae",
   "metadata": {},
   "outputs": [],
   "source": [
    "valid_size = 0.2\n",
    "test_size = 0.1\n",
    "num_train = len(train_data) # 50000개 중에서 25000개 랜덤 추출 \n",
    "\n",
    "indices = list(range(num_train)) # 0 ~ 24999\n",
    "#sample_indices = random.sample(indices, num_train//2)\n",
    "len(indices)\n",
    "np.random.shuffle(indices) \n"
   ]
  },
  {
   "cell_type": "code",
   "execution_count": 119,
   "id": "3f58bae5",
   "metadata": {},
   "outputs": [
    {
     "name": "stdout",
     "output_type": "stream",
     "text": [
      "12000\n",
      "48000 12000\n"
     ]
    }
   ],
   "source": [
    "split = int(np.floor(valid_size * num_train)) # 0.2 * 10000\n",
    "print(split)\n",
    "train_idx, valid_idx = indices[split:], indices[:split] # train 20000, valid 5000 개씩 indices 리스트에서 랜덤한 인덱스 가져오기 \n",
    "print(len(train_idx), len(valid_idx))"
   ]
  },
  {
   "cell_type": "code",
   "execution_count": 120,
   "id": "350f9899",
   "metadata": {},
   "outputs": [],
   "source": [
    "num_test = len(test_data)\n",
    "indices = list(range(num_test)) # 10000개 중에서 5000개 랜덤 추출 \n",
    "#sample__test_indices = random.sample(indices, num_test//2)\n",
    "np.random.shuffle(indices) "
   ]
  },
  {
   "cell_type": "code",
   "execution_count": 121,
   "id": "339b1aa4",
   "metadata": {},
   "outputs": [],
   "source": [
    "test_idx = indices"
   ]
  },
  {
   "cell_type": "code",
   "execution_count": 122,
   "id": "e07ba8c7",
   "metadata": {},
   "outputs": [],
   "source": [
    "train_sampler = SubsetRandomSampler(train_idx)\n",
    "valid_sampler = SubsetRandomSampler(valid_idx)\n",
    "test_sampler = SubsetRandomSampler(test_idx)"
   ]
  },
  {
   "cell_type": "code",
   "execution_count": 123,
   "id": "df6be7b3",
   "metadata": {},
   "outputs": [],
   "source": [
    "train_loader = torch.utils.data.DataLoader(train_data, batch_size=batch_size,\n",
    "    sampler=train_sampler)\n",
    "valid_loader = torch.utils.data.DataLoader(train_data, batch_size=batch_size, \n",
    "    sampler=valid_sampler)\n",
    "test_loader = torch.utils.data.DataLoader(test_data, batch_size=batch_size, \n",
    "                                          sampler=test_sampler)"
   ]
  },
  {
   "cell_type": "code",
   "execution_count": 124,
   "id": "2d674556",
   "metadata": {},
   "outputs": [
    {
     "name": "stdout",
     "output_type": "stream",
     "text": [
      "working on gpu\n"
     ]
    }
   ],
   "source": [
    "if torch.cuda.is_available():\n",
    "    device = torch.device(\"cuda\")\n",
    "    print(\"working on gpu\")\n",
    "else:\n",
    "    device = torch.device(\"cpu\")\n",
    "    print(\"working on cpu\")"
   ]
  },
  {
   "cell_type": "code",
   "execution_count": 125,
   "id": "8c8256b2",
   "metadata": {},
   "outputs": [],
   "source": [
    "classes= [0,1,2,3,4,5,6,7,8,9]"
   ]
  },
  {
   "cell_type": "code",
   "execution_count": 126,
   "id": "ebb61658",
   "metadata": {},
   "outputs": [],
   "source": [
    "criterion = nn.CrossEntropyLoss()\n",
    "#optimizer = optim.SGD(global_model.parameters(), lr=0.001, momentum=0.9, weight_decay=5e-4)\n",
    "optimizer = torch.optim.Adam(global_model.parameters(),lr=0.001,weight_decay=5e-4)\n",
    "scheduler = torch.optim.lr_scheduler.StepLR(optimizer, step_size=10, gamma=0.1)"
   ]
  },
  {
   "cell_type": "code",
   "execution_count": 127,
   "id": "6ed9a24e",
   "metadata": {},
   "outputs": [],
   "source": [
    "from tqdm import tqdm"
   ]
  },
  {
   "cell_type": "code",
   "execution_count": 129,
   "id": "f6724c58",
   "metadata": {},
   "outputs": [
    {
     "name": "stderr",
     "output_type": "stream",
     "text": [
      "100%|████████████████████████████████████████████████████████████████████████████████| 750/750 [00:14<00:00, 50.83it/s]\n",
      "100%|████████████████████████████████████████████████████████████████████████████████| 188/188 [00:02<00:00, 69.73it/s]\n"
     ]
    },
    {
     "name": "stdout",
     "output_type": "stream",
     "text": [
      "Epoch: 0 \tTraining Loss: 0.116882 \tValidation Loss: 0.085568\n",
      "Epoch: 0 \tTraining accuracy: 0.967229 \tValidation accuracy: 0.974817\n",
      "Validation loss decreased (inf --> 0.085568).  Saving model ...\n"
     ]
    },
    {
     "name": "stderr",
     "output_type": "stream",
     "text": [
      "100%|████████████████████████████████████████████████████████████████████████████████| 750/750 [00:15<00:00, 48.23it/s]\n",
      "100%|████████████████████████████████████████████████████████████████████████████████| 188/188 [00:02<00:00, 64.09it/s]\n"
     ]
    },
    {
     "name": "stdout",
     "output_type": "stream",
     "text": [
      "Epoch: 1 \tTraining Loss: 0.069526 \tValidation Loss: 0.072154\n",
      "Epoch: 1 \tTraining accuracy: 0.978896 \tValidation accuracy: 0.979804\n",
      "Validation loss decreased (0.085568 --> 0.072154).  Saving model ...\n"
     ]
    },
    {
     "name": "stderr",
     "output_type": "stream",
     "text": [
      "100%|████████████████████████████████████████████████████████████████████████████████| 750/750 [00:15<00:00, 49.00it/s]\n",
      "100%|████████████████████████████████████████████████████████████████████████████████| 188/188 [00:02<00:00, 67.94it/s]\n"
     ]
    },
    {
     "name": "stdout",
     "output_type": "stream",
     "text": [
      "Epoch: 2 \tTraining Loss: 0.052708 \tValidation Loss: 0.044964\n",
      "Epoch: 2 \tTraining accuracy: 0.983708 \tValidation accuracy: 0.987367\n",
      "Validation loss decreased (0.072154 --> 0.044964).  Saving model ...\n"
     ]
    },
    {
     "name": "stderr",
     "output_type": "stream",
     "text": [
      "100%|████████████████████████████████████████████████████████████████████████████████| 750/750 [00:15<00:00, 49.84it/s]\n",
      "100%|████████████████████████████████████████████████████████████████████████████████| 188/188 [00:02<00:00, 65.63it/s]\n"
     ]
    },
    {
     "name": "stdout",
     "output_type": "stream",
     "text": [
      "Epoch: 3 \tTraining Loss: 0.050152 \tValidation Loss: 0.066582\n",
      "Epoch: 3 \tTraining accuracy: 0.984292 \tValidation accuracy: 0.982547\n"
     ]
    },
    {
     "name": "stderr",
     "output_type": "stream",
     "text": [
      "100%|████████████████████████████████████████████████████████████████████████████████| 750/750 [00:15<00:00, 48.68it/s]\n",
      "100%|████████████████████████████████████████████████████████████████████████████████| 188/188 [00:02<00:00, 64.44it/s]\n"
     ]
    },
    {
     "name": "stdout",
     "output_type": "stream",
     "text": [
      "Epoch: 4 \tTraining Loss: 0.048064 \tValidation Loss: 0.066473\n",
      "Epoch: 4 \tTraining accuracy: 0.984604 \tValidation accuracy: 0.979638\n"
     ]
    },
    {
     "name": "stderr",
     "output_type": "stream",
     "text": [
      "100%|████████████████████████████████████████████████████████████████████████████████| 750/750 [00:15<00:00, 48.26it/s]\n",
      "100%|████████████████████████████████████████████████████████████████████████████████| 188/188 [00:02<00:00, 63.71it/s]\n"
     ]
    },
    {
     "name": "stdout",
     "output_type": "stream",
     "text": [
      "Epoch: 5 \tTraining Loss: 0.037363 \tValidation Loss: 0.044273\n",
      "Epoch: 5 \tTraining accuracy: 0.988104 \tValidation accuracy: 0.986203\n",
      "Validation loss decreased (0.044964 --> 0.044273).  Saving model ...\n"
     ]
    },
    {
     "name": "stderr",
     "output_type": "stream",
     "text": [
      "100%|████████████████████████████████████████████████████████████████████████████████| 750/750 [00:15<00:00, 48.78it/s]\n",
      "100%|████████████████████████████████████████████████████████████████████████████████| 188/188 [00:02<00:00, 64.51it/s]\n"
     ]
    },
    {
     "name": "stdout",
     "output_type": "stream",
     "text": [
      "Epoch: 6 \tTraining Loss: 0.046973 \tValidation Loss: 0.050379\n",
      "Epoch: 6 \tTraining accuracy: 0.985042 \tValidation accuracy: 0.985040\n"
     ]
    },
    {
     "name": "stderr",
     "output_type": "stream",
     "text": [
      "100%|████████████████████████████████████████████████████████████████████████████████| 750/750 [00:15<00:00, 48.45it/s]\n",
      "100%|████████████████████████████████████████████████████████████████████████████████| 188/188 [00:02<00:00, 64.10it/s]\n"
     ]
    },
    {
     "name": "stdout",
     "output_type": "stream",
     "text": [
      "Epoch: 7 \tTraining Loss: 0.034748 \tValidation Loss: 0.040177\n",
      "Epoch: 7 \tTraining accuracy: 0.988250 \tValidation accuracy: 0.988447\n",
      "Validation loss decreased (0.044273 --> 0.040177).  Saving model ...\n"
     ]
    },
    {
     "name": "stderr",
     "output_type": "stream",
     "text": [
      "100%|████████████████████████████████████████████████████████████████████████████████| 750/750 [00:15<00:00, 48.42it/s]\n",
      "100%|████████████████████████████████████████████████████████████████████████████████| 188/188 [00:02<00:00, 64.72it/s]\n"
     ]
    },
    {
     "name": "stdout",
     "output_type": "stream",
     "text": [
      "Epoch: 8 \tTraining Loss: 0.033900 \tValidation Loss: 0.037928\n",
      "Epoch: 8 \tTraining accuracy: 0.988813 \tValidation accuracy: 0.988198\n",
      "Validation loss decreased (0.040177 --> 0.037928).  Saving model ...\n"
     ]
    },
    {
     "name": "stderr",
     "output_type": "stream",
     "text": [
      "100%|████████████████████████████████████████████████████████████████████████████████| 750/750 [00:15<00:00, 48.55it/s]\n",
      "100%|████████████████████████████████████████████████████████████████████████████████| 188/188 [00:02<00:00, 64.69it/s]\n"
     ]
    },
    {
     "name": "stdout",
     "output_type": "stream",
     "text": [
      "Epoch: 9 \tTraining Loss: 0.033586 \tValidation Loss: 0.051492\n",
      "Epoch: 9 \tTraining accuracy: 0.989125 \tValidation accuracy: 0.984791\n"
     ]
    },
    {
     "name": "stderr",
     "output_type": "stream",
     "text": [
      "100%|████████████████████████████████████████████████████████████████████████████████| 750/750 [00:15<00:00, 48.69it/s]\n",
      "100%|████████████████████████████████████████████████████████████████████████████████| 188/188 [00:03<00:00, 60.50it/s]\n"
     ]
    },
    {
     "name": "stdout",
     "output_type": "stream",
     "text": [
      "Epoch: 10 \tTraining Loss: 0.014604 \tValidation Loss: 0.030723\n",
      "Epoch: 10 \tTraining accuracy: 0.995958 \tValidation accuracy: 0.990525\n",
      "Validation loss decreased (0.037928 --> 0.030723).  Saving model ...\n"
     ]
    },
    {
     "name": "stderr",
     "output_type": "stream",
     "text": [
      "100%|████████████████████████████████████████████████████████████████████████████████| 750/750 [00:15<00:00, 48.62it/s]\n",
      "100%|████████████████████████████████████████████████████████████████████████████████| 188/188 [00:02<00:00, 63.09it/s]\n"
     ]
    },
    {
     "name": "stdout",
     "output_type": "stream",
     "text": [
      "Epoch: 11 \tTraining Loss: 0.011377 \tValidation Loss: 0.031280\n",
      "Epoch: 11 \tTraining accuracy: 0.996854 \tValidation accuracy: 0.990525\n"
     ]
    },
    {
     "name": "stderr",
     "output_type": "stream",
     "text": [
      "100%|████████████████████████████████████████████████████████████████████████████████| 750/750 [00:15<00:00, 48.74it/s]\n",
      "100%|████████████████████████████████████████████████████████████████████████████████| 188/188 [00:02<00:00, 64.74it/s]\n"
     ]
    },
    {
     "name": "stdout",
     "output_type": "stream",
     "text": [
      "Epoch: 12 \tTraining Loss: 0.010364 \tValidation Loss: 0.030410\n",
      "Epoch: 12 \tTraining accuracy: 0.997521 \tValidation accuracy: 0.990359\n",
      "Validation loss decreased (0.030723 --> 0.030410).  Saving model ...\n"
     ]
    },
    {
     "name": "stderr",
     "output_type": "stream",
     "text": [
      "100%|████████████████████████████████████████████████████████████████████████████████| 750/750 [00:15<00:00, 48.93it/s]\n",
      "100%|████████████████████████████████████████████████████████████████████████████████| 188/188 [00:02<00:00, 64.87it/s]\n"
     ]
    },
    {
     "name": "stdout",
     "output_type": "stream",
     "text": [
      "Epoch: 13 \tTraining Loss: 0.009653 \tValidation Loss: 0.031088\n",
      "Epoch: 13 \tTraining accuracy: 0.997500 \tValidation accuracy: 0.990359\n"
     ]
    },
    {
     "name": "stderr",
     "output_type": "stream",
     "text": [
      "100%|████████████████████████████████████████████████████████████████████████████████| 750/750 [00:15<00:00, 47.97it/s]\n",
      "100%|████████████████████████████████████████████████████████████████████████████████| 188/188 [00:02<00:00, 70.24it/s]\n"
     ]
    },
    {
     "name": "stdout",
     "output_type": "stream",
     "text": [
      "Epoch: 14 \tTraining Loss: 0.009589 \tValidation Loss: 0.030404\n",
      "Epoch: 14 \tTraining accuracy: 0.997667 \tValidation accuracy: 0.990608\n",
      "Validation loss decreased (0.030410 --> 0.030404).  Saving model ...\n"
     ]
    },
    {
     "name": "stderr",
     "output_type": "stream",
     "text": [
      "100%|████████████████████████████████████████████████████████████████████████████████| 750/750 [00:15<00:00, 48.91it/s]\n",
      "100%|████████████████████████████████████████████████████████████████████████████████| 188/188 [00:02<00:00, 68.37it/s]\n"
     ]
    },
    {
     "name": "stdout",
     "output_type": "stream",
     "text": [
      "Epoch: 15 \tTraining Loss: 0.008908 \tValidation Loss: 0.031583\n",
      "Epoch: 15 \tTraining accuracy: 0.997917 \tValidation accuracy: 0.990276\n"
     ]
    },
    {
     "name": "stderr",
     "output_type": "stream",
     "text": [
      "100%|████████████████████████████████████████████████████████████████████████████████| 750/750 [00:15<00:00, 49.38it/s]\n",
      "100%|████████████████████████████████████████████████████████████████████████████████| 188/188 [00:02<00:00, 64.87it/s]\n"
     ]
    },
    {
     "name": "stdout",
     "output_type": "stream",
     "text": [
      "Epoch: 16 \tTraining Loss: 0.008520 \tValidation Loss: 0.031063\n",
      "Epoch: 16 \tTraining accuracy: 0.998167 \tValidation accuracy: 0.990608\n"
     ]
    },
    {
     "name": "stderr",
     "output_type": "stream",
     "text": [
      "100%|████████████████████████████████████████████████████████████████████████████████| 750/750 [00:15<00:00, 48.41it/s]\n",
      "100%|████████████████████████████████████████████████████████████████████████████████| 188/188 [00:02<00:00, 65.27it/s]\n"
     ]
    },
    {
     "name": "stdout",
     "output_type": "stream",
     "text": [
      "Epoch: 17 \tTraining Loss: 0.007911 \tValidation Loss: 0.032070\n",
      "Epoch: 17 \tTraining accuracy: 0.998354 \tValidation accuracy: 0.990359\n"
     ]
    },
    {
     "name": "stderr",
     "output_type": "stream",
     "text": [
      "100%|████████████████████████████████████████████████████████████████████████████████| 750/750 [00:15<00:00, 48.80it/s]\n",
      "100%|████████████████████████████████████████████████████████████████████████████████| 188/188 [00:02<00:00, 64.70it/s]\n"
     ]
    },
    {
     "name": "stdout",
     "output_type": "stream",
     "text": [
      "Epoch: 18 \tTraining Loss: 0.007242 \tValidation Loss: 0.031172\n",
      "Epoch: 18 \tTraining accuracy: 0.998750 \tValidation accuracy: 0.990525\n"
     ]
    },
    {
     "name": "stderr",
     "output_type": "stream",
     "text": [
      "100%|████████████████████████████████████████████████████████████████████████████████| 750/750 [00:15<00:00, 49.01it/s]\n",
      "100%|████████████████████████████████████████████████████████████████████████████████| 188/188 [00:02<00:00, 67.00it/s]\n"
     ]
    },
    {
     "name": "stdout",
     "output_type": "stream",
     "text": [
      "Epoch: 19 \tTraining Loss: 0.007554 \tValidation Loss: 0.032247\n",
      "Epoch: 19 \tTraining accuracy: 0.998479 \tValidation accuracy: 0.990691\n"
     ]
    },
    {
     "name": "stderr",
     "output_type": "stream",
     "text": [
      "100%|████████████████████████████████████████████████████████████████████████████████| 750/750 [00:15<00:00, 48.15it/s]\n",
      "100%|████████████████████████████████████████████████████████████████████████████████| 188/188 [00:02<00:00, 66.37it/s]\n"
     ]
    },
    {
     "name": "stdout",
     "output_type": "stream",
     "text": [
      "Epoch: 20 \tTraining Loss: 0.005298 \tValidation Loss: 0.030354\n",
      "Epoch: 20 \tTraining accuracy: 0.999375 \tValidation accuracy: 0.990858\n",
      "Validation loss decreased (0.030404 --> 0.030354).  Saving model ...\n"
     ]
    },
    {
     "name": "stderr",
     "output_type": "stream",
     "text": [
      "100%|████████████████████████████████████████████████████████████████████████████████| 750/750 [00:15<00:00, 49.03it/s]\n",
      "100%|████████████████████████████████████████████████████████████████████████████████| 188/188 [00:02<00:00, 63.55it/s]\n"
     ]
    },
    {
     "name": "stdout",
     "output_type": "stream",
     "text": [
      "Epoch: 21 \tTraining Loss: 0.005161 \tValidation Loss: 0.030767\n",
      "Epoch: 21 \tTraining accuracy: 0.999375 \tValidation accuracy: 0.990442\n"
     ]
    },
    {
     "name": "stderr",
     "output_type": "stream",
     "text": [
      "100%|████████████████████████████████████████████████████████████████████████████████| 750/750 [00:15<00:00, 48.83it/s]\n",
      "100%|████████████████████████████████████████████████████████████████████████████████| 188/188 [00:02<00:00, 65.99it/s]\n"
     ]
    },
    {
     "name": "stdout",
     "output_type": "stream",
     "text": [
      "Epoch: 22 \tTraining Loss: 0.005118 \tValidation Loss: 0.030581\n",
      "Epoch: 22 \tTraining accuracy: 0.999354 \tValidation accuracy: 0.990359\n"
     ]
    },
    {
     "name": "stderr",
     "output_type": "stream",
     "text": [
      "100%|████████████████████████████████████████████████████████████████████████████████| 750/750 [00:14<00:00, 51.39it/s]\n",
      "100%|████████████████████████████████████████████████████████████████████████████████| 188/188 [00:02<00:00, 68.45it/s]\n"
     ]
    },
    {
     "name": "stdout",
     "output_type": "stream",
     "text": [
      "Epoch: 23 \tTraining Loss: 0.004745 \tValidation Loss: 0.030852\n",
      "Epoch: 23 \tTraining accuracy: 0.999521 \tValidation accuracy: 0.990858\n"
     ]
    },
    {
     "name": "stderr",
     "output_type": "stream",
     "text": [
      "100%|████████████████████████████████████████████████████████████████████████████████| 750/750 [00:15<00:00, 48.82it/s]\n",
      "100%|████████████████████████████████████████████████████████████████████████████████| 188/188 [00:02<00:00, 65.03it/s]\n"
     ]
    },
    {
     "name": "stdout",
     "output_type": "stream",
     "text": [
      "Epoch: 24 \tTraining Loss: 0.004704 \tValidation Loss: 0.030495\n",
      "Epoch: 24 \tTraining accuracy: 0.999604 \tValidation accuracy: 0.991024\n"
     ]
    },
    {
     "name": "stderr",
     "output_type": "stream",
     "text": [
      "100%|████████████████████████████████████████████████████████████████████████████████| 750/750 [00:15<00:00, 49.06it/s]\n",
      "100%|████████████████████████████████████████████████████████████████████████████████| 188/188 [00:02<00:00, 65.33it/s]\n"
     ]
    },
    {
     "name": "stdout",
     "output_type": "stream",
     "text": [
      "Epoch: 25 \tTraining Loss: 0.004915 \tValidation Loss: 0.030271\n",
      "Epoch: 25 \tTraining accuracy: 0.999500 \tValidation accuracy: 0.991024\n",
      "Validation loss decreased (0.030354 --> 0.030271).  Saving model ...\n"
     ]
    },
    {
     "name": "stderr",
     "output_type": "stream",
     "text": [
      "100%|████████████████████████████████████████████████████████████████████████████████| 750/750 [00:15<00:00, 48.78it/s]\n",
      "100%|████████████████████████████████████████████████████████████████████████████████| 188/188 [00:02<00:00, 64.04it/s]\n"
     ]
    },
    {
     "name": "stdout",
     "output_type": "stream",
     "text": [
      "Epoch: 26 \tTraining Loss: 0.005056 \tValidation Loss: 0.030407\n",
      "Epoch: 26 \tTraining accuracy: 0.999396 \tValidation accuracy: 0.990775\n"
     ]
    },
    {
     "name": "stderr",
     "output_type": "stream",
     "text": [
      "100%|████████████████████████████████████████████████████████████████████████████████| 750/750 [00:15<00:00, 49.39it/s]\n",
      "100%|████████████████████████████████████████████████████████████████████████████████| 188/188 [00:02<00:00, 67.35it/s]\n"
     ]
    },
    {
     "name": "stdout",
     "output_type": "stream",
     "text": [
      "Epoch: 27 \tTraining Loss: 0.004773 \tValidation Loss: 0.030551\n",
      "Epoch: 27 \tTraining accuracy: 0.999542 \tValidation accuracy: 0.990525\n"
     ]
    },
    {
     "name": "stderr",
     "output_type": "stream",
     "text": [
      "100%|████████████████████████████████████████████████████████████████████████████████| 750/750 [00:15<00:00, 49.35it/s]\n",
      "100%|████████████████████████████████████████████████████████████████████████████████| 188/188 [00:02<00:00, 67.87it/s]\n"
     ]
    },
    {
     "name": "stdout",
     "output_type": "stream",
     "text": [
      "Epoch: 28 \tTraining Loss: 0.004479 \tValidation Loss: 0.030569\n",
      "Epoch: 28 \tTraining accuracy: 0.999646 \tValidation accuracy: 0.990858\n"
     ]
    },
    {
     "name": "stderr",
     "output_type": "stream",
     "text": [
      "100%|████████████████████████████████████████████████████████████████████████████████| 750/750 [00:15<00:00, 49.15it/s]\n",
      "100%|████████████████████████████████████████████████████████████████████████████████| 188/188 [00:02<00:00, 63.53it/s]"
     ]
    },
    {
     "name": "stdout",
     "output_type": "stream",
     "text": [
      "Epoch: 29 \tTraining Loss: 0.004574 \tValidation Loss: 0.030471\n",
      "Epoch: 29 \tTraining accuracy: 0.999625 \tValidation accuracy: 0.990775\n"
     ]
    },
    {
     "name": "stderr",
     "output_type": "stream",
     "text": [
      "\n"
     ]
    }
   ],
   "source": [
    "# number of epochs to train the model\n",
    "n_epochs = 30\n",
    "\n",
    "valid_loss_min = np.Inf # track change in validation loss\n",
    "\n",
    "# keep track of training and validation loss\n",
    "train_loss = torch.zeros(n_epochs)\n",
    "valid_loss = torch.zeros(n_epochs)\n",
    "\n",
    "train_acc = torch.zeros(n_epochs)\n",
    "valid_acc = torch.zeros(n_epochs)\n",
    "\n",
    "for e in range(0, n_epochs):\n",
    "   \n",
    "    ###################\n",
    "    # train the model #\n",
    "    ###################\n",
    "    global_model.train()\n",
    "    for data, labels in tqdm(train_loader):\n",
    "        # move tensors to GPU if CUDA is available\n",
    "        data, labels = data.to(device), labels.to(device)\n",
    "        \n",
    "        # clear the gradients of all optimized variables\n",
    "        \n",
    "        optimizer.zero_grad()\n",
    "        # forward pass: compute predicted outputs by passing inputs to the model\n",
    "        logits = global_model(data)\n",
    "        \n",
    "        # calculate the batch loss\n",
    "        loss = criterion(logits, labels)\n",
    "        # backward pass: compute gradient of the loss with respect to model parameters\n",
    "        loss.backward()\n",
    "        # perform a single optimization step (parameter update)\n",
    "        optimizer.step()\n",
    "        # update training loss\n",
    "        train_loss[e] += loss.item()\n",
    "        \n",
    "        ps = F.softmax(logits, dim=1)\n",
    "        top_p, top_class = ps.topk(1, dim=1)\n",
    "        equals = top_class == labels.reshape(top_class.shape) # 모델의 출력과, 실제 정답 비교 \n",
    "        train_acc[e] += torch.mean(equals.type(torch.float)).detach().cpu()\n",
    "    train_loss[e] /= len(train_loader)\n",
    "    train_acc[e] /= len(train_loader)\n",
    "    scheduler.step()\n",
    "        \n",
    "        \n",
    "    ######################    \n",
    "    # validate the model #\n",
    "    ######################\n",
    "    with torch.no_grad(): \n",
    "        global_model.eval()\n",
    "        \n",
    "        torch.cuda.empty_cache()\n",
    "        for data, labels in tqdm(valid_loader):\n",
    "            # move tensors to GPU if CUDA is available\n",
    "            data, labels = data.to(device), labels.to(device)\n",
    "            # forward pass: compute predicted outputs by passing inputs to the model\n",
    "            logits = global_model(data)\n",
    "            # calculate the batch loss\n",
    "            loss = criterion(logits, labels)\n",
    "            # update average validation loss \n",
    "            valid_loss[e] += loss.item()\n",
    "\n",
    "            ps = F.softmax(logits, dim=1)\n",
    "            top_p, top_class = ps.topk(1, dim=1)\n",
    "            equals = top_class == labels.reshape(top_class.shape)\n",
    "            valid_acc[e] += torch.mean(equals.type(torch.float)).detach().cpu()\n",
    "    \n",
    "    # calculate average losses\n",
    "    valid_loss[e] /= len(valid_loader)\n",
    "    valid_acc[e] /= len(valid_loader)\n",
    "        \n",
    "    # print training/validation statistics \n",
    "    print('Epoch: {} \\tTraining Loss: {:.6f} \\tValidation Loss: {:.6f}'.format(\n",
    "        e, train_loss[e], valid_loss[e]))\n",
    "    \n",
    "    # print training/validation statistics \n",
    "    print('Epoch: {} \\tTraining accuracy: {:.6f} \\tValidation accuracy: {:.6f}'.format(\n",
    "        e, train_acc[e], valid_acc[e]))\n",
    "    \n",
    "    # save model if validation loss has decreased\n",
    "    if valid_loss[e] <= valid_loss_min:\n",
    "        print('Validation loss decreased ({:.6f} --> {:.6f}).  Saving model ...'.format(\n",
    "        valid_loss_min,\n",
    "        valid_loss[e]))\n",
    "        torch.save(global_model.state_dict(), './model_file/global-update-3-mnist.pt')\n",
    "        valid_loss_min = valid_loss[e]"
   ]
  },
  {
   "cell_type": "code",
   "execution_count": 130,
   "id": "c95f0178",
   "metadata": {},
   "outputs": [
    {
     "data": {
      "text/plain": [
       "<matplotlib.legend.Legend at 0x207ebc92130>"
      ]
     },
     "execution_count": 130,
     "metadata": {},
     "output_type": "execute_result"
    },
    {
     "data": {
      "image/png": "[encoded data removed]",
      "text/plain": [
       "<Figure size 640x480 with 1 Axes>"
      ]
     },
     "metadata": {},
     "output_type": "display_data"
    }
   ],
   "source": [
    "import matplotlib.pyplot as plt\n",
    "\n",
    "plt.plot(train_loss, label = 'training loss')\n",
    "plt.plot(valid_loss, label = 'validation loss')\n",
    "plt.legend()"
   ]
  },
  {
   "cell_type": "code",
   "execution_count": 131,
   "id": "5febc6e3",
   "metadata": {},
   "outputs": [
    {
     "data": {
      "text/plain": [
       "<matplotlib.legend.Legend at 0x207fda4e670>"
      ]
     },
     "execution_count": 131,
     "metadata": {},
     "output_type": "execute_result"
    },
    {
     "data": {
      "image/png": "[encoded data removed]",
      "text/plain": [
       "<Figure size 640x480 with 1 Axes>"
      ]
     },
     "metadata": {},
     "output_type": "display_data"
    }
   ],
   "source": [
    "plt.plot(train_acc, label = 'training accuracy')\n",
    "plt.plot(valid_acc, label = 'validation accuracy')\n",
    "plt.legend()"
   ]
  },
  {
   "cell_type": "code",
   "execution_count": 132,
   "id": "29fc4247",
   "metadata": {},
   "outputs": [
    {
     "data": {
      "text/plain": [
       "'D:\\\\asy10\\\\FL_project\\\\mnist\\\\Server'"
      ]
     },
     "execution_count": 132,
     "metadata": {},
     "output_type": "execute_result"
    }
   ],
   "source": [
    "pwd"
   ]
  },
  {
   "cell_type": "code",
   "execution_count": 133,
   "id": "136c5c12",
   "metadata": {},
   "outputs": [
    {
     "data": {
      "text/plain": [
       "<All keys matched successfully>"
      ]
     },
     "execution_count": 133,
     "metadata": {},
     "output_type": "execute_result"
    }
   ],
   "source": [
    "global_model.load_state_dict(torch.load('./model_file/global-update-3-mnist.pt'))"
   ]
  },
  {
   "cell_type": "code",
   "execution_count": 134,
   "id": "c74a8dd0",
   "metadata": {},
   "outputs": [
    {
     "name": "stdout",
     "output_type": "stream",
     "text": [
      "Test Loss: 0.023202\n",
      "\n",
      "Test Accuracy: 0.992635\n",
      "\n",
      "Test Accuracy of     0: 99% (977/980)\n",
      "Test Accuracy of     1: 99% (1133/1135)\n",
      "Test Accuracy of     2: 99% (1027/1032)\n",
      "Test Accuracy of     3: 99% (1006/1010)\n",
      "Test Accuracy of     4: 99% (977/982)\n",
      "Test Accuracy of     5: 99% (884/892)\n",
      "Test Accuracy of     6: 98% (944/958)\n",
      "Test Accuracy of     7: 98% (1017/1028)\n",
      "Test Accuracy of     8: 99% (967/974)\n",
      "Test Accuracy of     9: 98% (994/1009)\n"
     ]
    }
   ],
   "source": [
    "# track test loss\n",
    "test_loss = 0.0\n",
    "test_acc = 0.0\n",
    "\n",
    "class_correct = torch.zeros(100)\n",
    "class_total = torch.zeros(100)\n",
    "\n",
    "global_model.eval()\n",
    "# iterate over test data\n",
    "for data, labels in test_loader:\n",
    "    # move tensors to GPU if CUDA is available\n",
    "    data, labels = data.to(device), labels.to(device)\n",
    "    # forward pass: compute predicted outputs by passing inputs to the model\n",
    "    logits = global_model(data)\n",
    "    # calculate the batch loss\n",
    "    loss = criterion(logits, labels)\n",
    "    # update test loss \n",
    "    test_loss += loss.item()\n",
    "    \n",
    "    ps = F.softmax(logits, dim=1)\n",
    "    top_p, top_class = ps.topk(1, dim=1)\n",
    "    equals = top_class == labels.reshape(top_class.shape)\n",
    "    test_acc += torch.mean(equals.type(torch.float)).detach().cpu()\n",
    "    \n",
    "    for i in range(len(data)):\n",
    "        label = labels[i]\n",
    "        class_correct[label] += equals[i].item()\n",
    "        class_total[label] += 1\n",
    "    \n",
    "\n",
    "# average test loss\n",
    "test_loss = test_loss/len(test_loader)\n",
    "test_acc = test_acc/len(test_loader)\n",
    "print('Test Loss: {:.6f}\\n'.format(test_loss))\n",
    "print('Test Accuracy: {:.6f}\\n'.format(test_acc))\n",
    "\n",
    "for i in range(10):\n",
    "    if class_total[i] > 0:\n",
    "        print('Test Accuracy of %5s: %2d%% (%2d/%2d)' % (\n",
    "            classes[i], 100 * class_correct[i] / class_total[i],\n",
    "            torch.sum(class_correct[i]), torch.sum(class_total[i])))\n",
    "    else:\n",
    "        print('Test Accuracy of %5s: N/A (no training examples)' % (classes[i]))"
   ]
  },
  {
   "cell_type": "code",
   "execution_count": 135,
   "id": "9ce54974",
   "metadata": {},
   "outputs": [],
   "source": [
    "torch.save(global_model, './model_file/global-update-3-mnist.pt')"
   ]
  },
  {
   "cell_type": "code",
   "execution_count": null,
   "id": "051cbd30",
   "metadata": {},
   "outputs": [],
   "source": []
  }
 ],
 "metadata": {
  "kernelspec": {
   "display_name": "Python 3 (ipykernel)",
   "language": "python",
   "name": "python3"
  },
  "language_info": {
   "codemirror_mode": {
    "name": "ipython",
    "version": 3
   },
   "file_extension": ".py",
   "mimetype": "text/x-python",
   "name": "python",
   "nbconvert_exporter": "python",
   "pygments_lexer": "ipython3",
   "version": "3.8.16"
  }
 },
 "nbformat": 4,
 "nbformat_minor": 5
}
